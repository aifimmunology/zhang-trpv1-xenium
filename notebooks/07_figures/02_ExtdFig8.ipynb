{
 "cells": [
  {
   "cell_type": "markdown",
   "id": "43828606-c2d9-45f3-aab0-4c7b0c52c1ca",
   "metadata": {},
   "source": [
    "# Extended Figure 8\n",
    "Spatial transcriptomic analysis of IEC in response to acute nociceptor activation."
   ]
  },
  {
   "cell_type": "code",
   "execution_count": null,
   "id": "b8ee3fc1-8bfb-42b2-8cc5-e0f125fca065",
   "metadata": {},
   "outputs": [],
   "source": [
    "from pathlib import Path\n",
    "import sys\n",
    "import os\n",
    "import scanpy as sc\n",
    "import pandas as pd\n",
    "import matplotlib.pyplot as plt\n",
    "from matplotlib.patches import Patch\n",
    "import matplotlib.colors as clr\n",
    "import matplotlib.pyplot as plt\n",
    "import numpy as np\n",
    "from matplotlib.colors import Normalize\n",
    "import matplotlib.cm as cm\n",
    "import seaborn as sns"
   ]
  },
  {
   "cell_type": "code",
   "execution_count": null,
   "id": "a7e78dfe-90fa-48e1-945c-9b486c4273e7",
   "metadata": {},
   "outputs": [],
   "source": [
    "plt.rcParams['figure.figsize'] = (4,4)\n",
    "plt.rcParams[\"figure.dpi\"] = 150"
   ]
  },
  {
   "cell_type": "code",
   "execution_count": null,
   "id": "bb76a964-8b29-41ca-a091-c90bca315753",
   "metadata": {},
   "outputs": [],
   "source": [
    "sys.path.append(str(Path.cwd().resolve().parents[1]))\n",
    "\n",
    "from config.paths import BASE_DIR\n",
    "\n",
    "input_dir = BASE_DIR / \"data/h5ad/export_11\"\n",
    "output_dir = BASE_DIR / \"figures/ExtdFig_8\"\n",
    "\n",
    "output_dir.mkdir(parents=True, exist_ok=True)\n",
    "\n",
    "input_file = input_dir / \"adata-v3-annotations.h5ad\""
   ]
  },
  {
   "cell_type": "code",
   "execution_count": null,
   "id": "e393db21-f6d7-4eda-a1fe-691b69b644cc",
   "metadata": {},
   "outputs": [],
   "source": [
    "sc.settings.figdir = output_dir"
   ]
  },
  {
   "cell_type": "code",
   "execution_count": null,
   "id": "60d99041-deb9-481d-810c-c26aac92e0ff",
   "metadata": {},
   "outputs": [],
   "source": [
    "adata = sc.read_h5ad(input_file)\n",
    "adata"
   ]
  },
  {
   "cell_type": "code",
   "execution_count": null,
   "id": "c9a25dc4-7e1f-4303-b26d-815b5019fca0",
   "metadata": {},
   "outputs": [],
   "source": [
    "adata.obs[\"Class\"] = adata.obs[\"Class\"].replace({\"Epithelial\": \"IEC\"})"
   ]
  },
  {
   "cell_type": "markdown",
   "id": "d0550f05-8eca-4b84-868f-f72d61166e62",
   "metadata": {},
   "source": [
    "### ExtdFig 8c"
   ]
  },
  {
   "cell_type": "code",
   "execution_count": null,
   "id": "8f92598e-669b-48a9-8c44-08b3d5f90feb",
   "metadata": {},
   "outputs": [],
   "source": [
    "groups_to_plot = [\"IEC\", \"Immune\", \"Stromal\", \"Neural\"]\n",
    "\n",
    "custom_colors = {\n",
    "    \"IEC\": \"#fc8d62\",\n",
    "    \"Immune\": \"#9c89b8\",\n",
    "    \"Stromal\": \"#66c2a5\",\n",
    "    \"Neural\": \"#e78ac3\",\n",
    "}\n",
    "color_list = [custom_colors[group] for group in groups_to_plot]"
   ]
  },
  {
   "cell_type": "code",
   "execution_count": null,
   "id": "a58acc8f-0a1f-4e85-afc8-22170bd76556",
   "metadata": {},
   "outputs": [],
   "source": [
    "adata_subset = adata[adata.obs[\"Class\"].isin(groups_to_plot)].copy()\n",
    "\n",
    "adata_subset.obs[\"Class\"] = pd.Categorical(\n",
    "    adata_subset.obs[\"Class\"], categories=groups_to_plot, ordered=True\n",
    ")"
   ]
  },
  {
   "cell_type": "code",
   "execution_count": null,
   "id": "1a144085-e973-4fec-ae10-33e5a677e0dc",
   "metadata": {},
   "outputs": [],
   "source": [
    "sc.pl.umap(\n",
    "    adata_subset,\n",
    "    color=\"Class\",\n",
    "    palette=color_list,\n",
    "    frameon=False,\n",
    "    title=\"\",\n",
    "    legend_fontsize=14,\n",
    "    save = '_ExtdFig8c.pdf'\n",
    ")"
   ]
  },
  {
   "cell_type": "code",
   "execution_count": null,
   "id": "427a24f4-1dbd-49fb-a058-6370e8771b0a",
   "metadata": {},
   "outputs": [],
   "source": [
    "plt.rcdefaults()\n",
    "plt.rcParams[\"figure.dpi\"] = 150"
   ]
  },
  {
   "cell_type": "markdown",
   "id": "385dab95-c33d-463f-bea7-f23db28c16ff",
   "metadata": {},
   "source": [
    "### ExtdFig 8d"
   ]
  },
  {
   "cell_type": "code",
   "execution_count": null,
   "id": "8b8258e1-06af-4db6-a848-291cea18fd69",
   "metadata": {},
   "outputs": [],
   "source": [
    "edata = adata[adata.obs[\"Class\"] == \"IEC\"].copy()"
   ]
  },
  {
   "cell_type": "code",
   "execution_count": null,
   "id": "08f84c65-9916-4216-93f4-f2117ec78fe7",
   "metadata": {},
   "outputs": [],
   "source": [
    "sc.tl.rank_genes_groups(edata, groupby=\"cell_type\", method=\"wilcoxon\")"
   ]
  },
  {
   "cell_type": "code",
   "execution_count": null,
   "id": "1f0f35ab-5c4c-4084-80d1-0baa11dd673b",
   "metadata": {},
   "outputs": [],
   "source": [
    "markers = sc.get.rank_genes_groups_df(edata, group=None)\n",
    "markers"
   ]
  },
  {
   "cell_type": "code",
   "execution_count": null,
   "id": "0a4a9fe9-bab6-4f9c-bf01-df0e75f3ac2e",
   "metadata": {},
   "outputs": [],
   "source": [
    "log2fc_threshold = 2\n",
    "pval_threshold = 0.05\n",
    "markers_filtered = markers[\n",
    "    (markers[\"logfoldchanges\"] > log2fc_threshold)\n",
    "    & (markers[\"pvals_adj\"] < pval_threshold)\n",
    "].copy()"
   ]
  },
  {
   "cell_type": "markdown",
   "id": "c49b12b0-ca81-4d4b-82b1-60c93321cbc5",
   "metadata": {},
   "source": [
    "#### Extract top 5 genes for each group"
   ]
  },
  {
   "cell_type": "code",
   "execution_count": null,
   "id": "0d295247-f383-4bd4-91bb-94bd1c237924",
   "metadata": {},
   "outputs": [],
   "source": [
    "top_genes = (\n",
    "    markers_filtered.sort_values(\n",
    "        by=[\"group\", \"logfoldchanges\"], ascending=[True, False]\n",
    "    )  # Sort by group and log2FC\n",
    "    .groupby(\"group\")[\"names\"]  \n",
    "    .head(5)  \n",
    "    .tolist()  \n",
    ")"
   ]
  },
  {
   "cell_type": "code",
   "execution_count": null,
   "id": "0bd7d8d6-9e63-4e15-920c-1d32ef1d237e",
   "metadata": {},
   "outputs": [],
   "source": [
    "top = [\"Epcam\"] + top_genes"
   ]
  },
  {
   "cell_type": "code",
   "execution_count": null,
   "id": "25820532-0c05-4ae3-965c-8c13c686777d",
   "metadata": {},
   "outputs": [],
   "source": [
    "plt.rcParams[\"font.size\"] = 15"
   ]
  },
  {
   "cell_type": "code",
   "execution_count": null,
   "id": "7c619e07-9455-49bf-981f-6e5678f2a5fb",
   "metadata": {},
   "outputs": [],
   "source": [
    "sc.pl.dotplot(\n",
    "    edata,\n",
    "    var_names=top,\n",
    "    groupby=\"cell_type\",\n",
    "    title=\"\",\n",
    "    save = '_ExtdFig8d.pdf'\n",
    ")"
   ]
  },
  {
   "cell_type": "markdown",
   "id": "20d49a71-8606-4f58-866e-faced0ce219a",
   "metadata": {},
   "source": [
    "### ExtdFig 8e"
   ]
  },
  {
   "cell_type": "code",
   "execution_count": null,
   "id": "902202c0-7eee-4389-ad58-395832619827",
   "metadata": {},
   "outputs": [],
   "source": [
    "input_dir = BASE_DIR / \"data/h5ad/export_10\"\n",
    "input_file = input_dir / \"resolvi-corrected-prepped.h5ad\"\n",
    "\n",
    "\n",
    "edata = sc.read_h5ad(input_dir / \"iec-subset-resolvi-cc-v2.h5ad\") # epithelial subset with cellcharter annotations"
   ]
  },
  {
   "cell_type": "code",
   "execution_count": null,
   "id": "9c9fa2a2-5ae0-498a-b980-282c5897d3d3",
   "metadata": {},
   "outputs": [],
   "source": [
    "def plot_spatial_highlight_zoom(\n",
    "    adata, basis, label_key, fov=None, size=50, palette=None, vmin=-0.5, vmax=0.5\n",
    "):\n",
    "    if palette is None:\n",
    "        palette = [\"#EF5703\", \"#E3B710\", \"#91BAB6\"]  \n",
    "    group_order = [\"Late\", \"Early\", \"Stem/Progenitor\"]  \n",
    "\n",
    "    color_dict = {group: color for group, color in zip(group_order, palette)}\n",
    "\n",
    "    for label in adata.obs[label_key].astype(str).unique():\n",
    "        if label not in color_dict:\n",
    "            color_dict[label] = \"lightgray\" \n",
    "\n",
    "    # Create the plot\n",
    "    fig, ax = plt.subplots(figsize=(6, 2))\n",
    "    sc.pl.embedding(\n",
    "        adata,\n",
    "        basis=basis,\n",
    "        color=label_key,\n",
    "        palette=color_dict,\n",
    "        ax=ax,\n",
    "        show=False,\n",
    "        size=size,\n",
    "        frameon=False,\n",
    "        title=\"\",\n",
    "    )\n",
    "\n",
    "    # Apply zooming if FOV is provided\n",
    "    if fov:\n",
    "        xmin, xmax, ymin, ymax = fov\n",
    "        ax.set_xlim(xmin, xmax)\n",
    "        ax.set_ylim(ymin, ymax)\n",
    "\n",
    "    plt.show()\n",
    "    return fig"
   ]
  },
  {
   "cell_type": "code",
   "execution_count": null,
   "id": "b14e9bfc-a3cf-47e2-acdc-e5e6d57c4f5e",
   "metadata": {},
   "outputs": [],
   "source": [
    "palette = [\n",
    "    \"black\",  \n",
    "    \"#4A6FE3\",  \n",
    "    \"#C72C35\", \n",
    "]"
   ]
  },
  {
   "cell_type": "code",
   "execution_count": null,
   "id": "2b374dbe-308b-4475-b8eb-620b59c02cc8",
   "metadata": {},
   "outputs": [],
   "source": [
    "zone_mapping = {0: \"Stem/Progenitor\", 1: \"Early\", 2: \"Late\"}\n",
    "edata.obs[\"cellcharter_zones\"] = edata.obs[\"epithelial_cc_3\"].map(zone_mapping)\n",
    "\n",
    "all_neighborhoods = edata.obs[\"cellcharter_zones\"].astype(str).unique().tolist()\n",
    "edata.obs[\"cellcharter_zones\"] = edata.obs[\"cellcharter_zones\"].astype(str)"
   ]
  },
  {
   "cell_type": "code",
   "execution_count": null,
   "id": "225837e7-08d6-4cb8-a3ca-f2ca18f6c838",
   "metadata": {},
   "outputs": [],
   "source": [
    "cdata = edata[edata.obs[\"sample_id\"] == \"TIS09472_Control\"].copy()"
   ]
  },
  {
   "cell_type": "code",
   "execution_count": null,
   "id": "a95973c1-27b7-49c8-b997-1449835809cb",
   "metadata": {},
   "outputs": [],
   "source": [
    "fig = plot_spatial_highlight_zoom(\n",
    "    cdata,\n",
    "    basis=\"spatial\",\n",
    "    label_key=\"cellcharter_zones\",\n",
    "    fov=(2916, 4321, 5150, 5700),\n",
    "    size=50,\n",
    "    palette=palette,\n",
    "    vmin=0,\n",
    "    vmax=1,\n",
    ")\n",
    "\n",
    "fig.tight_layout()\n",
    "fig.savefig(f\"{output_dir}/ExtdFig8e.pdf\", dpi=300, bbox_inches=\"tight\")"
   ]
  },
  {
   "cell_type": "markdown",
   "id": "9304615e-4293-4a0e-9ab0-ac75bf1d2218",
   "metadata": {},
   "source": [
    "### ExtdFig 8f"
   ]
  },
  {
   "cell_type": "code",
   "execution_count": null,
   "id": "e88bfd6b-7422-4a34-b5ff-80f5382d836a",
   "metadata": {},
   "outputs": [],
   "source": [
    "heatmap_data = pd.crosstab(edata.obs[\"cell_type\"], edata.obs[\"epithelial_cc_3\"])\n",
    "heatmap_data_norm = heatmap_data.div(\n",
    "    heatmap_data.sum(axis=0), axis=1\n",
    ")  # normalize by column to get cell type proportions"
   ]
  },
  {
   "cell_type": "code",
   "execution_count": null,
   "id": "3a37f9e1-f554-4a4a-88de-087e35dde33c",
   "metadata": {},
   "outputs": [],
   "source": [
    "plt.figure(figsize=(4, 4))\n",
    "sns.heatmap(heatmap_data_norm, cmap=\"Reds\", annot=True, fmt=\".2f\")\n",
    "plt.title(\"\")\n",
    "plt.xlabel(\"IEC Composition per Spatial Zone\")\n",
    "plt.ylabel(\"\")\n",
    "plt.tight_layout()\n",
    "save_path = os.path.join(output_dir, \"ExtdFig8f.pdf\")\n",
    "plt.savefig(save_path, dpi=300, bbox_inches=\"tight\")\n",
    "plt.show()"
   ]
  },
  {
   "cell_type": "markdown",
   "id": "3e8685bd-5939-45cb-b60b-5f06e242af09",
   "metadata": {},
   "source": [
    "### ExtdFig 8g"
   ]
  },
  {
   "cell_type": "code",
   "execution_count": null,
   "id": "d38fd177-7a56-418e-ad3c-d341690c1a3c",
   "metadata": {},
   "outputs": [],
   "source": [
    "def plot_spatial_highlight_zoom(\n",
    "    adata, basis, label_key, fov=None, size=50, palette=\"viridis\", vmin=-0.5, vmax=0.5\n",
    "):\n",
    "\n",
    "    zissou = [\n",
    "        \"#3A9AB2\",\n",
    "        \"#6FB2C1\",\n",
    "        \"#91BAB6\",\n",
    "        \"#A5C2A3\",\n",
    "        \"#BDC881\",\n",
    "        \"#DCCB4E\",\n",
    "        \"#E3B710\",\n",
    "        \"#E79805\",\n",
    "        \"#EC7A05\",\n",
    "        \"#EF5703\",\n",
    "        \"#F11B00\",\n",
    "    ]\n",
    "    zissou_colormap = clr.LinearSegmentedColormap.from_list(\"Zissou\", zissou)\n",
    "\n",
    "    # Extract coordinates and continuous values\n",
    "    x_coords = adata.obsm[basis][:, 0]\n",
    "    y_coords = adata.obsm[basis][:, 1]\n",
    "    continuous_values = adata.obs[label_key].values\n",
    "\n",
    "    # Clip and normalize\n",
    "    continuous_values_clipped = np.clip(continuous_values, vmin, vmax)\n",
    "    norm = Normalize(vmin=vmin, vmax=vmax)\n",
    "\n",
    "    # Select colormap\n",
    "    cmap = zissou_colormap if palette == \"zissou\" else cm.get_cmap(palette)\n",
    "\n",
    "    # Color mapping\n",
    "    colors = cmap(norm(continuous_values_clipped))\n",
    "\n",
    "    fig, ax = plt.subplots(figsize=(6, 2))\n",
    "    ax.scatter(x_coords, y_coords, c=colors, s=size, edgecolors=\"none\", alpha=0.85)\n",
    "\n",
    "    sm = cm.ScalarMappable(cmap=cmap, norm=norm)\n",
    "    sm.set_array([])\n",
    "    cbar = plt.colorbar(sm, ax=ax, fraction=0.02, pad=0.04)\n",
    "    cbar.set_label(\"\", fontsize=12)  \n",
    "\n",
    "    if fov:\n",
    "        xmin, xmax, ymin, ymax = fov\n",
    "        ax.set_xlim(xmin, xmax)\n",
    "        ax.set_ylim(ymin, ymax)\n",
    "\n",
    "    ax.set_xticks([])\n",
    "    ax.set_yticks([])\n",
    "    ax.set_xticklabels([])\n",
    "    ax.set_yticklabels([])\n",
    "    for spine in ax.spines.values():\n",
    "        spine.set_visible(False)\n",
    "\n",
    "    ax.set_xlabel(\"\")\n",
    "    ax.set_ylabel(\"\")\n",
    "    ax.set_title(\"\")\n",
    "\n",
    "    plt.tight_layout()\n",
    "    plt.show()\n",
    "\n",
    "    return fig"
   ]
  },
  {
   "cell_type": "code",
   "execution_count": null,
   "id": "65f187ce-40d6-4c9a-a88b-149580cba159",
   "metadata": {},
   "outputs": [],
   "source": [
    "cdata = edata[edata.obs[\"sample_id\"] == \"TIS09472_Control\"].copy()"
   ]
  },
  {
   "cell_type": "code",
   "execution_count": null,
   "id": "37fde5d4-ac2b-42af-a8dc-188445b15e35",
   "metadata": {},
   "outputs": [],
   "source": [
    "fig = plot_spatial_highlight_zoom(\n",
    "    adata=cdata,\n",
    "    basis=\"spatial\",\n",
    "    label_key=\"crypt_villus_axis_scaled\",\n",
    "    fov=(2916, 4321, 5200, 5700),\n",
    "    size=10,\n",
    "    palette=\"zissou\",\n",
    "    vmin=0,\n",
    "    vmax=1,\n",
    ")\n",
    "\n",
    "fig.savefig(os.path.join(output_dir, \"ExtdFig8g.pdf\"), bbox_inches=\"tight\")"
   ]
  },
  {
   "cell_type": "markdown",
   "id": "bf902109-162b-4e97-b7be-4fdb166a3e86",
   "metadata": {},
   "source": [
    "### ExtdFig 8h"
   ]
  },
  {
   "cell_type": "code",
   "execution_count": null,
   "id": "966388a1-c64b-435e-bc45-52040baa3523",
   "metadata": {},
   "outputs": [],
   "source": [
    "df = edata.obs[[\"crypt_villus_axis_scaled\", \"cellcharter_zones\"]].dropna()\n",
    "cluster_colors = {\"Late\": \"black\", \"Early\": \"#4A6FE3\", \"Stem/Progenitor\": \"#C72C35\"}\n",
    "clusters = sorted(df[\"cellcharter_zones\"].unique())"
   ]
  },
  {
   "cell_type": "code",
   "execution_count": null,
   "id": "6dc69d82-17bd-4fe5-b26b-3644ad432a59",
   "metadata": {},
   "outputs": [],
   "source": [
    "plt.figure(figsize=(4, 3))\n",
    "\n",
    "sns.kdeplot(\n",
    "    data=df,\n",
    "    x=\"crypt_villus_axis_scaled\",\n",
    "    hue=\"cellcharter_zones\",\n",
    "    common_norm=False,\n",
    "    fill=True,\n",
    "    alpha=0.5,\n",
    "    linewidth=0,\n",
    "    palette=cluster_colors,\n",
    "    legend=False,\n",
    ")\n",
    "\n",
    "for cluster in clusters:\n",
    "    group = df[df[\"cellcharter_zones\"] == cluster]\n",
    "    q25 = np.percentile(group[\"crypt_villus_axis_scaled\"], 25)\n",
    "    q75 = np.percentile(group[\"crypt_villus_axis_scaled\"], 75)\n",
    "\n",
    "    plt.axvline(x=q25, color=cluster_colors[cluster], linestyle=\"--\", linewidth=1.5)\n",
    "    plt.axvline(x=q75, color=cluster_colors[cluster], linestyle=\"--\", linewidth=1.5)\n",
    "\n",
    "legend_elements = [\n",
    "    Patch(facecolor=cluster_colors[c], label=c, alpha=0.8) for c in clusters\n",
    "]\n",
    "plt.legend(\n",
    "    handles=legend_elements, title=\"Cluster\", bbox_to_anchor=(1.05, 1), loc=\"upper left\"\n",
    ")\n",
    "\n",
    "plt.xlabel(\"Crypt-Villus Axis\")\n",
    "plt.ylabel(\"Cell Density\")\n",
    "plt.title(\"Cell Positions by Zone\")\n",
    "plt.tight_layout()\n",
    "plt.savefig(os.path.join(output_dir, \"ExtdFig8h.pdf\"))\n",
    "plt.show()"
   ]
  }
 ],
 "metadata": {
  "kernelspec": {
   "display_name": "Python (sc-charter)",
   "language": "python",
   "name": "sc-charter"
  },
  "language_info": {
   "codemirror_mode": {
    "name": "ipython",
    "version": 3
   },
   "file_extension": ".py",
   "mimetype": "text/x-python",
   "name": "python",
   "nbconvert_exporter": "python",
   "pygments_lexer": "ipython3",
   "version": "3.12.8"
  }
 },
 "nbformat": 4,
 "nbformat_minor": 5
}
