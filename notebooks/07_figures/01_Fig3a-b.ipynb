{
 "cells": [
  {
   "cell_type": "markdown",
   "id": "dc82b494-3ce2-4070-b7ed-eb1ede5a0a2b",
   "metadata": {},
   "source": [
    "# Figure 3a-b\n",
    "Characterization of spatial and transcriptional state of IEC in response to acute nociceptor activation."
   ]
  },
  {
   "cell_type": "code",
   "execution_count": null,
   "id": "779af439-eda1-416e-b16d-03479aa1e639",
   "metadata": {},
   "outputs": [],
   "source": [
    "from pathlib import Path\n",
    "import sys\n",
    "import os\n",
    "import scanpy as sc\n",
    "import pandas as pd\n",
    "import numpy as np\n",
    "import matplotlib.pyplot as plt\n",
    "from matplotlib.patches import Patch\n",
    "import matplotlib.colors as clr\n",
    "import seaborn as sns"
   ]
  },
  {
   "cell_type": "code",
   "execution_count": null,
   "id": "05ed70ca-c3e9-48f1-b739-1de1e191a9e5",
   "metadata": {},
   "outputs": [],
   "source": [
    "# plt.rcParams['figure.figsize'] = (4,4)\n",
    "plt.rcParams[\"figure.dpi\"] = 150"
   ]
  },
  {
   "cell_type": "code",
   "execution_count": null,
   "id": "5322b004-e488-49ac-b071-307a679fca48",
   "metadata": {},
   "outputs": [],
   "source": [
    "sys.path.append(str(Path.cwd().resolve().parents[1]))\n",
    "\n",
    "from config.paths import BASE_DIR\n",
    "\n",
    "input_dir = BASE_DIR / \"data/h5ad/export_11\"\n",
    "output_dir = BASE_DIR / \"figures/Figure_3\"\n",
    "\n",
    "output_dir.mkdir(parents=True, exist_ok=True)\n",
    "\n",
    "input_file = input_dir / \"adata-v3-annotations.h5ad\""
   ]
  },
  {
   "cell_type": "code",
   "execution_count": null,
   "id": "0cce96e7-8d7c-440f-817c-80a3227608e3",
   "metadata": {},
   "outputs": [],
   "source": [
    "adata = sc.read_h5ad(input_file)\n",
    "adata"
   ]
  },
  {
   "cell_type": "code",
   "execution_count": null,
   "id": "111c73ea-a200-4623-b5d3-8fd292894c8d",
   "metadata": {},
   "outputs": [],
   "source": [
    "palette = [\n",
    "    \"red\",\n",
    "    \"blue\",\n",
    "    \"green\",\n",
    "    \"orange\",\n",
    "    \"cyan\",\n",
    "    \"magenta\",\n",
    "    \"blueviolet\",\n",
    "    \"darkturquoise\",\n",
    "    \"chartreuse\",\n",
    "    \"black\",\n",
    "    \"sienna\",\n",
    "    \"navy\",\n",
    "    \"tomato\",\n",
    "]"
   ]
  },
  {
   "cell_type": "markdown",
   "id": "0034c235-cba2-4084-9abf-cd06cf5369f1",
   "metadata": {},
   "source": [
    "## Fig3a"
   ]
  },
  {
   "cell_type": "markdown",
   "id": "877a5c72-16b4-409c-8580-36ad3608724f",
   "metadata": {},
   "source": [
    "### UMAP"
   ]
  },
  {
   "cell_type": "code",
   "execution_count": null,
   "id": "326f976f-b97d-4531-a21f-ada39a2c8439",
   "metadata": {},
   "outputs": [],
   "source": [
    "def plot_umap_groups(\n",
    "    adata, label_key, groups, size=1, unlabeled=\"lightgray\", figsize=(5, 5)\n",
    "):\n",
    "    \"\"\"Plots a UMAP with selected groups highlighted\"\"\"\n",
    "\n",
    "    selected_palette = palette[: len(groups)]\n",
    "    color_dict = {group: color for group, color in zip(groups, selected_palette)}\n",
    "    color_dict.update(\n",
    "        {\n",
    "            label: unlabeled\n",
    "            for label in adata.obs[label_key].astype(str).unique()\n",
    "            if label not in groups\n",
    "        }\n",
    "    )\n",
    "\n",
    "    fig, ax = plt.subplots(figsize=figsize)\n",
    "\n",
    "    sc.pl.umap(\n",
    "        adata,\n",
    "        color=label_key,\n",
    "        palette=color_dict,\n",
    "        frameon=False,\n",
    "        title=\"\",\n",
    "        size=size,\n",
    "        ax=ax,  \n",
    "        show=False,  \n",
    "    )\n",
    "\n",
    "    return fig"
   ]
  },
  {
   "cell_type": "code",
   "execution_count": null,
   "id": "35f47d62-bec1-4935-b975-5cf81356f115",
   "metadata": {},
   "outputs": [],
   "source": [
    "adata"
   ]
  },
  {
   "cell_type": "code",
   "execution_count": null,
   "id": "a29f404c-befd-4e8d-bbe6-09af3958ff97",
   "metadata": {},
   "outputs": [],
   "source": [
    "epithelial = ['Enterocyte_1', 'Enterocyte_2', 'Early_enterocyte', 'ISC',  'Mature_goblet', 'Immature_goblet', 'Paneth', 'Transit_Amplifying', 'Tuft_cell', 'Enteroendocrine']"
   ]
  },
  {
   "cell_type": "code",
   "execution_count": null,
   "id": "cefe01fa-db9c-4aed-9015-0dbf565daa47",
   "metadata": {},
   "outputs": [],
   "source": [
    "fig = plot_umap_groups(adata, \"cell_type\", epithelial, size=1, figsize=(5, 5))\n",
    "fig.tight_layout()\n",
    "fig.savefig(f\"{output_dir}/Fig3a-left.pdf\", dpi=300, bbox_inches=\"tight\")"
   ]
  },
  {
   "cell_type": "markdown",
   "id": "305b8777-28f8-4bd2-be02-56f51bd38f4d",
   "metadata": {},
   "source": [
    "### Spatial scatter"
   ]
  },
  {
   "cell_type": "code",
   "execution_count": null,
   "id": "29ae075f-e545-45a5-9b43-6f0ef8bb0ef8",
   "metadata": {},
   "outputs": [],
   "source": [
    "def plot_spatial_groups(\n",
    "    adata, basis, label_key, groups, fov=None, size=50, unlabeled=\"lightgray\"\n",
    "):\n",
    "    \"\"\"Plots a spatial embedding with selected groups highlighted\"\"\"\n",
    "\n",
    "    selected_palette = palette[: len(groups)]\n",
    "\n",
    "    color_dict = {group: color for group, color in zip(groups, selected_palette)}\n",
    "    color_dict.update(\n",
    "        {\n",
    "            label: unlabeled\n",
    "            for label in adata.obs[label_key].astype(str).unique()\n",
    "            if label not in groups\n",
    "        }\n",
    "    )\n",
    "\n",
    "    fig, ax = plt.subplots(figsize=(6, 2))\n",
    "    sc.pl.embedding(\n",
    "        adata,\n",
    "        basis=basis,\n",
    "        color=label_key,\n",
    "        palette=color_dict,\n",
    "        ax=ax,\n",
    "        show=False,\n",
    "        size=size,\n",
    "        frameon=False,\n",
    "        title=\"\",\n",
    "    )\n",
    "\n",
    "    if fov:\n",
    "        xmin, xmax, ymin, ymax = fov\n",
    "        ax.set_xlim(xmin, xmax)\n",
    "        ax.set_ylim(ymin, ymax)\n",
    "\n",
    "    return fig"
   ]
  },
  {
   "cell_type": "code",
   "execution_count": null,
   "id": "004dc453-290c-4a00-9484-fb79ace9c1c4",
   "metadata": {},
   "outputs": [],
   "source": [
    "bdata = adata[adata.obs['sample_id'] == 'TIS09472_Control'].copy()"
   ]
  },
  {
   "cell_type": "code",
   "execution_count": null,
   "id": "c3df47b1-9a88-4cff-986f-a4986905a8b0",
   "metadata": {},
   "outputs": [],
   "source": [
    "fig = plot_spatial_groups(\n",
    "    bdata,\n",
    "    basis=\"spatial\",\n",
    "    label_key=\"cell_type\",\n",
    "    groups=epithelial,\n",
    "    fov=(2916, 4321, 5000, 5700),\n",
    "    size=30,\n",
    ")\n",
    "\n",
    "fig.savefig(f\"{output_dir}/Fig3a-right.pdf\", dpi=300, bbox_inches=\"tight\")"
   ]
  },
  {
   "cell_type": "markdown",
   "id": "3966b3e7-d32e-400e-8863-94c2b50faeac",
   "metadata": {},
   "source": [
    "### Fig3b - Composition heatmap"
   ]
  },
  {
   "cell_type": "code",
   "execution_count": null,
   "id": "5c88a22e-7139-4c0b-b411-b846f80e2b46",
   "metadata": {},
   "outputs": [],
   "source": [
    "input_dir = BASE_DIR / \"data/h5ad/export_10\"\n",
    "input_file = input_dir / \"resolvi-corrected-prepped.h5ad\"\n",
    "\n",
    "\n",
    "adata = sc.read_h5ad(input_dir / \"iec-subset-resolvi-cc-v2.h5ad\") # epithelial subset with cellcharter annotations"
   ]
  },
  {
   "cell_type": "code",
   "execution_count": null,
   "id": "97282c1e-ee46-4580-834b-1ceb1ee14087",
   "metadata": {},
   "outputs": [],
   "source": [
    "epsilon = 1e-5\n",
    "min_fraction = 0.01\n",
    "\n",
    "# Zone mapping\n",
    "zone_mapping = {0: \"Stem/Progenitor\", 1: \"Early\", 2: \"Late\"}\n",
    "adata.obs[\"cellcharter_zones\"] = adata.obs[\"epithelial_cc_3\"].map(zone_mapping)\n",
    "\n",
    "zone_order = [\"Stem/Progenitor\", \"Early\", \"Late\"]\n",
    "adata.obs[\"cellcharter_zones\"] = pd.Categorical(\n",
    "    adata.obs[\"cellcharter_zones\"], categories=zone_order, ordered=True\n",
    ")\n",
    "\n",
    "# Rename groups (safe for categorical dtype)\n",
    "if pd.api.types.is_categorical_dtype(adata.obs[\"group\"]):\n",
    "    adata.obs[\"group_label\"] = adata.obs[\"group\"].cat.rename_categories(\n",
    "        {\"Control\": \"hM3Dq\", \"Trpv1-cre\": \"TRPV1-hM3Dq\"}\n",
    "    )\n",
    "else:\n",
    "    adata.obs[\"group_label\"] = adata.obs[\"group\"].replace(\n",
    "        {\"Control\": \"hM3Dq\", \"Trpv1-cre\": \"TRPV1-hM3Dq\"}\n",
    "    )\n",
    "\n",
    "exclude = []\n",
    "all_dfs = []\n",
    "\n",
    "# Loop over replicates\n",
    "for sid in adata.obs[\"sample_id\"].unique():\n",
    "    df = adata.obs[adata.obs[\"sample_id\"] == sid].copy()\n",
    "    group = df[\"group_label\"].unique()[0]\n",
    "\n",
    "    # Crosstab: counts per zone and cell type\n",
    "    comp = pd.crosstab(df[\"cellcharter_zones\"], df[\"cell_type\"], dropna=False)\n",
    "    comp = comp.drop(columns=[c for c in exclude if c in comp.columns], errors=\"ignore\")\n",
    "    comp = comp.reindex(zone_order, fill_value=0)\n",
    "\n",
    "    # Normalize per zone\n",
    "    comp_norm = comp.div(comp.sum(axis=1), axis=0)\n",
    "\n",
    "    # Melt for tidy DataFrame\n",
    "    melted = comp_norm.reset_index().melt(\n",
    "        id_vars=\"cellcharter_zones\",\n",
    "        var_name=\"Cell Type\",\n",
    "        value_name=\"Normalized Proportion\",\n",
    "    )\n",
    "    melted[\"Sample ID\"] = sid\n",
    "    melted[\"Experimental Group\"] = group\n",
    "\n",
    "    all_dfs.append(melted)\n",
    "\n",
    "# Combine all samples\n",
    "all_data_df = pd.concat(all_dfs, ignore_index=True)\n",
    "all_data_df = all_data_df.rename(columns={\"cellcharter_zones\": \"Zone\"})\n",
    "\n",
    "# Group-wise mean normalized proportions\n",
    "group_means = (\n",
    "    all_data_df.groupby([\"Zone\", \"Cell Type\", \"Experimental Group\"])[\"Normalized Proportion\"]\n",
    "    .mean()\n",
    "    .reset_index()\n",
    ")\n",
    "\n",
    "# Pivot to wide format\n",
    "group_means_pivot = (\n",
    "    group_means.pivot(\n",
    "        index=[\"Zone\", \"Cell Type\"],\n",
    "        columns=\"Experimental Group\",\n",
    "        values=\"Normalized Proportion\",\n",
    "    )\n",
    "    .fillna(0)\n",
    "    .reset_index()\n",
    ")\n",
    "group_means_pivot.columns.name = None\n",
    "\n",
    "# Rename columns directly (no conditional logic needed)\n",
    "group_means_pivot = group_means_pivot.rename(\n",
    "    columns={\n",
    "        \"hM3Dq\": \"Mean Proportion in hM3Dq\",\n",
    "        \"TRPV1-hM3Dq\": \"Mean Proportion in TRPV1-hM3Dq\",\n",
    "    }\n",
    ")\n",
    "\n",
    "# Compute log2 Fold Change and low abundance filter\n",
    "group_means_pivot[\"log2 Fold Change (TRPV1-hM3Dq vs hM3Dq)\"] = np.log2(\n",
    "    (group_means_pivot[\"Mean Proportion in TRPV1-hM3Dq\"] + epsilon)\n",
    "    / (group_means_pivot[\"Mean Proportion in hM3Dq\"] + epsilon)\n",
    ")\n",
    "\n",
    "group_means_pivot[\"Low Abundance Filter (<1% in both groups)\"] = (\n",
    "    (group_means_pivot[\"Mean Proportion in hM3Dq\"] < min_fraction)\n",
    "    & (group_means_pivot[\"Mean Proportion in TRPV1-hM3Dq\"] < min_fraction)\n",
    ")\n",
    "\n",
    "# Final DataFrame\n",
    "final_df = group_means_pivot.sort_values(by=[\"Zone\", \"Cell Type\"]).reset_index(drop=True)\n",
    "final_df"
   ]
  },
  {
   "cell_type": "code",
   "execution_count": null,
   "id": "1532d03d-d3b2-4ed8-850b-9d431dd4006d",
   "metadata": {},
   "outputs": [],
   "source": [
    "#final_df.to_csv(os.path.join(output_dir, \"iec-zone-comp.csv\"), index=False)"
   ]
  },
  {
   "cell_type": "code",
   "execution_count": null,
   "id": "a6b5853e-7e7a-4bdf-92b2-1ebf9ebf7a34",
   "metadata": {},
   "outputs": [],
   "source": [
    "zone_order = [\"Late\", \"Early\", \"Stem/Progenitor\"]\n",
    "\n",
    "cell_type_order = [\n",
    "    \"ISC\",\n",
    "    \"Transit_Amplifying\",\n",
    "    \"Early_enterocyte\",\n",
    "    \"Enterocyte_1\",\n",
    "    \"Enterocyte_2\",\n",
    "]\n",
    "\n",
    "plot_df = final_df[final_df[\"Cell Type\"].isin(cell_type_order)].copy()\n",
    "\n",
    "\n",
    "# Pivot heatmap data\n",
    "heatmap_data = plot_df.pivot_table(\n",
    "    index=\"Zone\",\n",
    "    columns=\"Cell Type\",\n",
    "    values=\"log2 Fold Change (TRPV1-hM3Dq vs hM3Dq)\",\n",
    "    fill_value=0,\n",
    ").reindex(index=zone_order, columns=cell_type_order)\n",
    "\n",
    "# Calculate mask\n",
    "control_mean = plot_df.pivot_table(\n",
    "    index=\"Zone\", columns=\"Cell Type\", values=\"Mean Proportion in hM3Dq\", fill_value=0\n",
    ").reindex(index=zone_order, columns=cell_type_order)\n",
    "\n",
    "trpv1_mean = plot_df.pivot_table(\n",
    "    index=\"Zone\",\n",
    "    columns=\"Cell Type\",\n",
    "    values=\"Mean Proportion in TRPV1-hM3Dq\",\n",
    "    fill_value=0,\n",
    ").reindex(index=zone_order, columns=cell_type_order)\n",
    "\n",
    "min_fraction = 0.01\n",
    "epsilon = 1e-5\n",
    "\n",
    "# Mask low-abundance cell types (<1% in both groups)\n",
    "low_mask = (control_mean < min_fraction) & (trpv1_mean < min_fraction)\n",
    "\n",
    "log2fc = np.log2((trpv1_mean + epsilon) / (control_mean + epsilon))\n",
    "log2fc = log2fc.mask(low_mask)\n",
    "\n",
    "cmap = plt.get_cmap(\"seismic\")\n",
    "cmap.set_bad(\"lightgray\")"
   ]
  },
  {
   "cell_type": "code",
   "execution_count": null,
   "id": "651e30a8-25a9-4bdd-a773-380952ed076c",
   "metadata": {},
   "outputs": [],
   "source": [
    "plt.figure(figsize=(8, 2))\n",
    "\n",
    "sns.heatmap(\n",
    "    log2fc,\n",
    "    cmap=cmap,\n",
    "    center=0,\n",
    "    linewidths=0.5,\n",
    "    annot=False, \n",
    "    fmt=\".2f\",\n",
    "    cbar_kws={\"label\": r\"log$_2$FC (TRPV1$^{\\mathregular{hM3Dq}}$/hM3Dq)\"},\n",
    ")\n",
    "\n",
    "plt.title(\"Cell type relative abundance per zone (≥1% of Zone)\", fontsize=14)\n",
    "plt.xlabel(\" \")\n",
    "plt.ylabel(\" \")\n",
    "plt.xticks(rotation=90, ha=\"right\", fontsize=10)\n",
    "plt.yticks(fontsize=10)\n",
    "plt.tight_layout()\n",
    "\n",
    "output_path = output_dir / \"Fig3b.pdf\"\n",
    "plt.savefig(output_path, dpi=300, bbox_inches=\"tight\")\n",
    "plt.show()"
   ]
  }
 ],
 "metadata": {
  "kernelspec": {
   "display_name": "Python (sc-charter)",
   "language": "python",
   "name": "sc-charter"
  },
  "language_info": {
   "codemirror_mode": {
    "name": "ipython",
    "version": 3
   },
   "file_extension": ".py",
   "mimetype": "text/x-python",
   "name": "python",
   "nbconvert_exporter": "python",
   "pygments_lexer": "ipython3",
   "version": "3.12.8"
  }
 },
 "nbformat": 4,
 "nbformat_minor": 5
}
