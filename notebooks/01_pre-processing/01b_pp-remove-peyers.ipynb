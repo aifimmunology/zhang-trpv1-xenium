{
 "cells": [
  {
   "cell_type": "markdown",
   "id": "149e4151-3d4a-4f58-a7bd-feaa8dae095c",
   "metadata": {},
   "source": [
    "# Peyer's patch removal\n",
    "\n",
    "**Pinned Environment:** [`envs/sc-spatial.yaml`](../../envs/sc-spatial.yaml)  "
   ]
  },
  {
   "cell_type": "code",
   "execution_count": null,
   "id": "7750516a-8575-4397-928a-388a91efddc3",
   "metadata": {},
   "outputs": [],
   "source": [
    "import os\n",
    "from pathlib import Path\n",
    "import sys\n",
    "import warnings\n",
    "import scanpy as sc\n",
    "import pandas as pd\n",
    "from shapely.geometry import Polygon, Point\n",
    "from collections import defaultdict"
   ]
  },
  {
   "cell_type": "markdown",
   "id": "e48e2449-3e9e-4d1a-b3fc-c8f6511f8977",
   "metadata": {},
   "source": [
    "### Set paths"
   ]
  },
  {
   "cell_type": "code",
   "execution_count": null,
   "id": "44e955dc-31e7-4022-b143-efd8f2b277bf",
   "metadata": {},
   "outputs": [],
   "source": [
    "sys.path.append(str(Path.cwd().resolve().parents[1]))\n",
    "\n",
    "from config.paths import BASE_DIR, POLYGON_DIR\n",
    "\n",
    "base_dir = BASE_DIR / \"data\" / \"h5ad\" / \"export_01\"\n",
    "input_dir = base_dir / \"02_pre-filtered\"\n",
    "output_dir = base_dir / \"03_peyers-removed\"\n",
    "polygon_dir = POLYGON_DIR # csv files stored in repo\n",
    "\n",
    "output_dir.mkdir(parents=True, exist_ok=True)"
   ]
  },
  {
   "cell_type": "markdown",
   "id": "fb6a9fc2-c2e3-41a7-8e8d-77160b93378c",
   "metadata": {},
   "source": [
    "### Read data"
   ]
  },
  {
   "cell_type": "code",
   "execution_count": null,
   "id": "b2582335-61c0-4394-9153-b66034cb710a",
   "metadata": {},
   "outputs": [],
   "source": [
    "sample_list = os.listdir(input_dir)\n",
    "sample_list"
   ]
  },
  {
   "cell_type": "code",
   "execution_count": null,
   "id": "4a7362ce-c419-4118-8f97-2562c4ad9708",
   "metadata": {},
   "outputs": [],
   "source": [
    "sample_files = [\n",
    "    os.path.join(input_dir, f) for f in os.listdir(input_dir) if f.endswith(\".h5ad\")\n",
    "]\n",
    "adata_list = [sc.read_h5ad(f) for f in sample_files]"
   ]
  },
  {
   "cell_type": "code",
   "execution_count": null,
   "id": "fe167db0-2c97-445b-a044-6b18cf21f7b6",
   "metadata": {},
   "outputs": [],
   "source": [
    "for adata in adata_list:\n",
    "    sample_id = adata.obs[\"sample_id\"].iloc[0]\n",
    "    print(f\"{sample_id}:\")\n",
    "    print(f\"  n_obs: {adata.n_obs}\")\n",
    "    print(f\"  n_vars: {adata.n_vars}\")\n",
    "    print(\"-\" * 40)"
   ]
  },
  {
   "cell_type": "markdown",
   "id": "0636d73d-e881-4d3b-b0ef-749916d5d77a",
   "metadata": {},
   "source": [
    "## Before-crop embeddings"
   ]
  },
  {
   "cell_type": "code",
   "execution_count": null,
   "id": "39b2a49a-7244-4354-b846-bcd36a6577fb",
   "metadata": {},
   "outputs": [],
   "source": [
    "for i, sample_adata in enumerate(adata_list):\n",
    "    sample_id = (\n",
    "        sample_adata.obs[\"sample_id\"].unique()[0]\n",
    "        if \"sample_id\" in sample_adata.obs.columns\n",
    "        else f\"Sample_{i+1}\"\n",
    "    )\n",
    "    print(f\"Plotting {sample_id}\")\n",
    "\n",
    "    sc.pl.embedding(\n",
    "        sample_adata, basis=\"spatial\", color=\"total_counts\", vmin=0, vmax=500, size=0.5\n",
    "    )"
   ]
  },
  {
   "cell_type": "markdown",
   "id": "921a7320-92ab-49fd-ab4d-c62094b32705",
   "metadata": {},
   "source": [
    "## Perform crop"
   ]
  },
  {
   "cell_type": "markdown",
   "id": "6096d4a6-eea4-4f10-9afe-6b559bebb59b",
   "metadata": {},
   "source": [
    "#### Convert vertices to polygons, store in dictionary"
   ]
  },
  {
   "cell_type": "code",
   "execution_count": null,
   "id": "f74d56d7-f6c5-4afd-a7be-e8cac5656ec9",
   "metadata": {},
   "outputs": [],
   "source": [
    "# Build dictionary of polygons for each sample from Xenium Explorer CSVs\n",
    "# Structure: {sample_id: {selection_name: [Polygon1, Polygon2, ...]}}\n",
    "\n",
    "polygon_dict = {}\n",
    "\n",
    "# Collect sample IDs from adata_list\n",
    "sample_ids = [\n",
    "    adata.obs[\"sample_id\"].unique()[0]\n",
    "    for adata in adata_list\n",
    "    if \"sample_id\" in adata.obs.columns\n",
    "]\n",
    "\n",
    "# Parse polygon CSVs in polygon_dir\n",
    "for filename in os.listdir(polygon_dir):\n",
    "    if filename.endswith(\".csv\"):\n",
    "        sample_id = \"_\".join(filename.split(\"_\")[:2])\n",
    "\n",
    "        if sample_id not in sample_ids:\n",
    "            continue  # skip unrelated CSVs\n",
    "\n",
    "        polygon_df = pd.read_csv(os.path.join(polygon_dir, filename), skiprows=2)\n",
    "\n",
    "        polygon_dict.setdefault(sample_id, {})\n",
    "\n",
    "        for selection_name, group in polygon_df.groupby(\"Selection\"):\n",
    "            polygon = Polygon(group[[\"X\", \"Y\"]].values)\n",
    "            polygon_dict[sample_id].setdefault(selection_name, []).append(polygon)\n",
    "\n",
    "#polygon_dict"
   ]
  },
  {
   "cell_type": "markdown",
   "id": "da3b9b99-44ec-4b8f-a866-fa18fca935d6",
   "metadata": {},
   "source": [
    "#### Create a dictionary of cropped cells if they are located inside polygons' shapely points"
   ]
  },
  {
   "cell_type": "code",
   "execution_count": null,
   "id": "bf820454-53ee-4364-91d7-fa7f13f68c72",
   "metadata": {},
   "outputs": [],
   "source": [
    "cropped_cells_dict = defaultdict(lambda: defaultdict(set))\n",
    "\n",
    "sample_to_adata = {\n",
    "    adata.obs[\"sample_id\"].unique()[0]: adata\n",
    "    for adata in adata_list\n",
    "    if \"sample_id\" in adata.obs.columns\n",
    "}\n",
    "\n",
    "for sample_id, selections in polygon_dict.items():\n",
    "    sample_adata = sample_to_adata[sample_id]\n",
    "    sample_cells = sample_adata.obs\n",
    "\n",
    "    cell_points = {\n",
    "        index: Point(x, y)\n",
    "        for index, (x, y) in zip(\n",
    "            sample_cells.index,\n",
    "            zip(sample_cells[\"x_centroid\"], sample_cells[\"y_centroid\"]),\n",
    "        )\n",
    "    }\n",
    "\n",
    "    for selection_name, polygons in selections.items():\n",
    "        for polygon in polygons:\n",
    "            inside_cells = [\n",
    "                index for index, point in cell_points.items() if polygon.contains(point)\n",
    "            ]\n",
    "            cropped_cells_dict[sample_id][selection_name].update(inside_cells)\n",
    "\n",
    "    print(\n",
    "        f\"{sample_id}: {sum(len(c) for c in cropped_cells_dict[sample_id].values())} cells in ROI\"\n",
    "    )\n",
    "\n",
    "#cropped_cells_dict.keys()"
   ]
  },
  {
   "cell_type": "markdown",
   "id": "c4262a6b-9ab7-42e2-81b6-18fa44b2f8a9",
   "metadata": {},
   "source": [
    "#### Annotate cells that fall within ROI"
   ]
  },
  {
   "cell_type": "code",
   "execution_count": null,
   "id": "80b72f23-550a-41ba-b21b-41692fe80ca8",
   "metadata": {},
   "outputs": [],
   "source": [
    "for adata in adata_list:\n",
    "    adata.obs[\"crop\"] = False  # Initialize the column with False\n",
    "\n",
    "sample_to_adata = {\n",
    "    adata.obs[\"sample_id\"].unique()[0]: adata\n",
    "    for adata in adata_list\n",
    "    if \"sample_id\" in adata.obs.columns\n",
    "}\n",
    "\n",
    "for sample_id, selections in cropped_cells_dict.items():\n",
    "    if sample_id not in sample_to_adata:\n",
    "        print(f\"Skipping {sample_id}, not found in adata_list\")\n",
    "        continue\n",
    "\n",
    "    sample_adata = sample_to_adata[sample_id]  # Get the AnnData object for this sample\n",
    "\n",
    "    cropped_cells = set()  # Using a set to avoid duplicates\n",
    "    for selection_cells in selections.values():\n",
    "        cropped_cells.update(selection_cells)\n",
    "\n",
    "    sample_adata.obs.loc[list(cropped_cells), \"crop\"] = (\n",
    "        True  # Convert set to list for indexing\n",
    "    )\n",
    "\n",
    "    print(f\"Cropping mask for {sample_id}: {len(cropped_cells)} cells annotated.\")"
   ]
  },
  {
   "cell_type": "markdown",
   "id": "17e34acd-f4c1-4d1a-85f6-aef70abe92c8",
   "metadata": {},
   "source": [
    "#### Remove cells within regions to crop"
   ]
  },
  {
   "cell_type": "code",
   "execution_count": null,
   "id": "11eb0a63-ba24-49c5-bf7b-f324db9e1ef0",
   "metadata": {},
   "outputs": [],
   "source": [
    "adata_list_cropped = []\n",
    "\n",
    "for adata in adata_list:\n",
    "    adata_cropped = adata[~adata.obs[\"crop\"]].copy()\n",
    "    adata_list_cropped.append(adata_cropped)\n",
    "\n",
    "for adata in adata_list_cropped:\n",
    "    sample_id = adata.obs[\"sample_id\"].iloc[0]\n",
    "    print(f\"{sample_id}: {adata.n_obs} cells × {adata.n_vars} genes\")"
   ]
  },
  {
   "cell_type": "markdown",
   "id": "630ac58e-8d8a-455c-87c8-2a505cecd868",
   "metadata": {},
   "source": [
    "## After-crop embeddings"
   ]
  },
  {
   "cell_type": "code",
   "execution_count": null,
   "id": "f8062798-0a98-402d-8320-c978435b4baa",
   "metadata": {},
   "outputs": [],
   "source": [
    "for i, sample_adata in enumerate(adata_list_cropped):\n",
    "    sample_id = (\n",
    "        sample_adata.obs[\"sample_id\"].unique()[0]\n",
    "        if \"sample_id\" in sample_adata.obs.columns\n",
    "        else f\"Sample_{i+1}\"\n",
    "    )\n",
    "    print(f\"Plotting {sample_id}\")\n",
    "\n",
    "    sc.pl.embedding(\n",
    "        sample_adata, basis=\"spatial\", color=\"total_counts\", vmin=0, vmax=500, size=0.5\n",
    "    )"
   ]
  },
  {
   "cell_type": "code",
   "execution_count": null,
   "id": "528e13db-2ef0-4f0c-aa7b-3ef6143f009a",
   "metadata": {},
   "outputs": [],
   "source": [
    "adata_cropped.obs.sample_id.value_counts()"
   ]
  },
  {
   "cell_type": "markdown",
   "id": "5ad282b5-6c48-4668-a4a4-ae1ac11764a9",
   "metadata": {},
   "source": [
    "## Export"
   ]
  },
  {
   "cell_type": "code",
   "execution_count": null,
   "id": "bf86347f-9925-41be-998a-f400713a1452",
   "metadata": {},
   "outputs": [],
   "source": [
    "for i, adata in enumerate(adata_list_cropped):\n",
    "    sample_name = (\n",
    "        adata.obs[\"sample_id\"].iloc[0] if \"sample_id\" in adata.obs.columns else f\"sample_{i+1}\"\n",
    "    )\n",
    "    output_file = os.path.join(output_dir, f\"{sample_name}.h5ad\")\n",
    "\n",
    "    # adata.write(output_file)\n",
    "    print(f\"Saved: {output_file}\")"
   ]
  }
 ],
 "metadata": {
  "kernelspec": {
   "display_name": "sc-spatial",
   "language": "python",
   "name": "sc-spatial"
  },
  "language_info": {
   "codemirror_mode": {
    "name": "ipython",
    "version": 3
   },
   "file_extension": ".py",
   "mimetype": "text/x-python",
   "name": "python",
   "nbconvert_exporter": "python",
   "pygments_lexer": "ipython3",
   "version": "3.12.2"
  }
 },
 "nbformat": 4,
 "nbformat_minor": 5
}
