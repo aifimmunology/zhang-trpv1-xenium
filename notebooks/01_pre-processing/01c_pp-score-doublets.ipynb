{
 "cells": [
  {
   "cell_type": "markdown",
   "id": "c549dd5b-bfc2-461b-9d03-af83cc9b08e9",
   "metadata": {},
   "source": [
    "# Doublet Detection\n",
    "\n",
    "**Pinned Environment:** [`envs/sc-scrublet.yaml`](../../envs/sc-scrublet.yaml)  "
   ]
  },
  {
   "cell_type": "code",
   "execution_count": null,
   "id": "312df309-4e91-4325-9613-66ed8e0a51f5",
   "metadata": {},
   "outputs": [],
   "source": [
    "import os\n",
    "from pathlib import Path\n",
    "import scanpy as sc\n",
    "import pandas as pd\n",
    "import matplotlib.pyplot as plt\n",
    "import seaborn as sns\n",
    "import scrublet as scr\n",
    "import sys"
   ]
  },
  {
   "cell_type": "code",
   "execution_count": null,
   "id": "7b0a2e81-a9c7-4206-a19c-7e4560b5119d",
   "metadata": {},
   "outputs": [],
   "source": [
    "plt.rcParams[\"figure.figsize\"] = (3, 3)"
   ]
  },
  {
   "cell_type": "code",
   "execution_count": null,
   "id": "77e4adef-f187-4a59-996a-dbfe24d43423",
   "metadata": {},
   "outputs": [],
   "source": [
    "sys.path.append(str(Path.cwd().resolve().parents[1]))\n",
    "\n",
    "from config.paths import BASE_DIR\n",
    "\n",
    "data_dir = BASE_DIR / \"data/h5ad/export_01/03_peyers-removed\"\n",
    "scrublet_dir = BASE_DIR / \"scrublet\"\n",
    "output_dir = BASE_DIR / \"data/h5ad/export_01/04_scrublet\"\n",
    "\n",
    "scrublet_dir.mkdir(parents=True, exist_ok=True)\n",
    "output_dir.mkdir(parents=True, exist_ok=True)"
   ]
  },
  {
   "cell_type": "code",
   "execution_count": null,
   "id": "4502fa25-c25c-4d09-81f6-140fa7bcf79b",
   "metadata": {},
   "outputs": [],
   "source": [
    "# Import AnnData objects\n",
    "sample_files = [\n",
    "    os.path.join(data_dir, f) for f in os.listdir(data_dir) if f.endswith(\".h5ad\")\n",
    "]\n",
    "adata_list = [sc.read_h5ad(f) for f in sample_files] \n",
    "\n",
    "# Summary print statements\n",
    "for i, adata in enumerate(adata_list, start=1):\n",
    "    sample_id = adata.obs[\"sample_id\"].unique()[0] if \"sample_id\" in adata.obs.columns else f\"Sample_{i}\"\n",
    "    print(f\"Sample {i}: {sample_id}\")\n",
    "    print(f\"  n_obs: {adata.n_obs}\")\n",
    "    print(f\"  n_vars: {adata.n_vars}\")\n",
    "    print(\"-\" * 40)"
   ]
  },
  {
   "cell_type": "code",
   "execution_count": null,
   "id": "72f42638-07c8-4dfe-b55d-bc0344c4d844",
   "metadata": {},
   "outputs": [],
   "source": [
    "# Function for doublet scoring and visualization\n",
    "\n",
    "def run_scrublet(adata_list, scrublet_dir):\n",
    "    os.makedirs(scrublet_dir, exist_ok=True)\n",
    "\n",
    "    for i, adata in enumerate(adata_list):\n",
    "        sample_id = adata.obs[\"sample_id\"].unique()[0]\n",
    "        print(f\"Running Scrublet for {sample_id}...\")\n",
    "\n",
    "        # Run Scrublet with expected doublet rate (5% recommended for Xenium)\n",
    "        scrub = scr.Scrublet(adata.X, expected_doublet_rate=0.05)\n",
    "        doublet_scores, predicted_doublets = scrub.scrub_doublets(\n",
    "            min_counts=2, min_cells=3, min_gene_variability_pctl=85, n_prin_comps=30\n",
    "        )\n",
    "\n",
    "        # **Auto-set threshold, but provide a backup in case it fails**\n",
    "        if scrub.threshold_ is not None:\n",
    "            doublet_threshold = scrub.threshold_\n",
    "            print(\n",
    "                f\"Scrublet auto-set threshold for {sample_id}: {doublet_threshold:.3f}\"\n",
    "            )\n",
    "        else:\n",
    "            # **Fallback threshold: Use mean + 2*std from simulated doublet scores**\n",
    "            doublet_threshold = (\n",
    "                scrub.doublet_scores_sim_.mean() + 2 * scrub.doublet_scores_sim_.std()\n",
    "            )\n",
    "            print(\n",
    "                f\"Warning: Scrublet auto-threshold failed for {sample_id}. Using fallback threshold: {doublet_threshold:.3f}\"\n",
    "            )\n",
    "\n",
    "        # Apply the determined threshold\n",
    "        predicted_doublets = scrub.call_doublets(threshold=doublet_threshold)\n",
    "\n",
    "        # Store results in AnnData object\n",
    "        adata.obs[\"doublet_scores\"] = doublet_scores\n",
    "        adata.obs[\"predicted_doublets\"] = predicted_doublets\n",
    "\n",
    "        # Plot Scrublet score histograms\n",
    "        plt.figure(figsize=(10, 6))\n",
    "        sns.histplot(\n",
    "            scrub.doublet_scores_obs_, bins=30, color=\"blue\", label=\"Observed\", kde=True\n",
    "        )\n",
    "        sns.histplot(\n",
    "            scrub.doublet_scores_sim_, bins=30, color=\"red\", label=\"Simulated\", kde=True\n",
    "        )\n",
    "        plt.axvline(\n",
    "            doublet_threshold,\n",
    "            color=\"green\",\n",
    "            linestyle=\"--\",\n",
    "            label=f\"Threshold: {doublet_threshold:.3f}\",\n",
    "        )\n",
    "        plt.title(f\"Scrublet Doublet Score Distribution for {sample_id}\")\n",
    "        plt.xlabel(\"Doublet Score\")\n",
    "        plt.ylabel(\"Density\")\n",
    "        plt.legend()\n",
    "        plt.show()\n",
    "\n",
    "        # Prepare Scrublet DataFrame for this sample\n",
    "        scrublet_rows = [\n",
    "            {\n",
    "                \"Sample_ID\": sample_id,\n",
    "                \"Cell_Barcode\": barcode,\n",
    "                \"Observed_Score\": obs_score,\n",
    "                \"Simulated_Score\": sim_score,\n",
    "                \"Doublet_Score\": doublet_scores,\n",
    "                \"Predicted_Doublet\": pred_doublet,\n",
    "            }\n",
    "            for barcode, obs_score, sim_score, pred_doublet in zip(\n",
    "                adata.obs.index,\n",
    "                scrub.doublet_scores_obs_,\n",
    "                scrub.doublet_scores_sim_,\n",
    "                predicted_doublets,\n",
    "            )\n",
    "        ]\n",
    "\n",
    "        # Convert to DataFrame and save per sample\n",
    "        scrublet_df = pd.DataFrame(scrublet_rows)\n",
    "        scrublet_csv_path = os.path.join(\n",
    "            scrublet_dir, f\"{sample_id}_scrublet_results-test.csv\"\n",
    "        )\n",
    "        scrublet_df.to_csv(scrublet_csv_path, index=False)\n",
    "\n",
    "        print(f\"Saved Scrublet results for {sample_id} to {scrublet_csv_path}\")"
   ]
  },
  {
   "cell_type": "code",
   "execution_count": null,
   "id": "624e3b89-1b1b-4c21-97f4-1f7370f39f5e",
   "metadata": {},
   "outputs": [],
   "source": [
    "scrublet_result = run_scrublet(adata_list, scrublet_dir)"
   ]
  },
  {
   "cell_type": "markdown",
   "id": "5aa4ec77-03d5-4ae5-83c0-9e17b8bf912b",
   "metadata": {},
   "source": [
    "## Export"
   ]
  },
  {
   "cell_type": "code",
   "execution_count": null,
   "id": "5701c073-c0bf-4f30-b6d1-1d15c08cb849",
   "metadata": {},
   "outputs": [],
   "source": [
    "for i, adata in enumerate(adata_list):\n",
    "    if \"sample_id\" in adata.obs.columns:\n",
    "        sample_name = adata.obs[\"sample_id\"].iloc[0]\n",
    "    else:\n",
    "        sample_name = f\"sample_{i+1}\"\n",
    "\n",
    "    output_file = os.path.join(output_dir, f\"{sample_name}.h5ad\")\n",
    "    adata.write(output_file)\n",
    "    print(f\"Saved: {output_file}\")"
   ]
  }
 ],
 "metadata": {
  "kernelspec": {
   "display_name": "Python (sc-scrublet)",
   "language": "python",
   "name": "sc-scrublet"
  },
  "language_info": {
   "codemirror_mode": {
    "name": "ipython",
    "version": 3
   },
   "file_extension": ".py",
   "mimetype": "text/x-python",
   "name": "python",
   "nbconvert_exporter": "python",
   "pygments_lexer": "ipython3",
   "version": "3.12.8"
  }
 },
 "nbformat": 4,
 "nbformat_minor": 5
}
