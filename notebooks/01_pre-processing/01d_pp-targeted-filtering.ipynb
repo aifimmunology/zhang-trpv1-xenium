{
 "cells": [
  {
   "attachments": {},
   "cell_type": "markdown",
   "id": "c8c7b0e1-db2e-49ba-98da-26d598636e64",
   "metadata": {},
   "source": [
    "# QC Filtering B\n",
    "\n",
    "**Pinned Environment:** [`envs/sc-spatial.yaml`](../../envs/sc-spatial.yaml)  "
   ]
  },
  {
   "cell_type": "code",
   "execution_count": null,
   "id": "ae861445-6488-4dc3-812e-a7c13e9b3bec",
   "metadata": {},
   "outputs": [],
   "source": [
    "import os\n",
    "from pathlib import Path\n",
    "import scanpy as sc\n",
    "import warnings\n",
    "import matplotlib.pyplot as plt\n",
    "import sys\n",
    "import anndata as ad"
   ]
  },
  {
   "cell_type": "code",
   "execution_count": null,
   "id": "141a0361-7f5e-4c64-9bee-3a4d5cb8976e",
   "metadata": {},
   "outputs": [],
   "source": [
    "warnings.filterwarnings(\"ignore\", category=FutureWarning)"
   ]
  },
  {
   "cell_type": "code",
   "execution_count": null,
   "id": "086ba6c8-f62d-4e8d-b46c-65aee6877f6d",
   "metadata": {},
   "outputs": [],
   "source": [
    "sys.path.append(str(Path.cwd().resolve().parents[1]))\n",
    "\n",
    "from config.paths import BASE_DIR\n",
    "\n",
    "data_dir = BASE_DIR / \"data/h5ad/export_01/04_scrublet\"\n",
    "output_dir = BASE_DIR / \"data/h5ad/export_01/05_filtered\"\n",
    "\n",
    "os.makedirs(output_dir, exist_ok=True)"
   ]
  },
  {
   "cell_type": "markdown",
   "id": "dbce3f4e-1dc3-4640-8288-e66507c249b4",
   "metadata": {},
   "source": [
    "## QC"
   ]
  },
  {
   "cell_type": "code",
   "execution_count": null,
   "id": "31058afa-0277-49dd-8c3a-db61250e10ee",
   "metadata": {},
   "outputs": [],
   "source": [
    "sample_files = [\n",
    "    os.path.join(data_dir, f) for f in os.listdir(data_dir) if f.endswith(\".h5ad\")\n",
    "]\n",
    "adata_list = [sc.read_h5ad(f) for f in sample_files]\n",
    "\n",
    "# Summary print statements\n",
    "for i, adata in enumerate(adata_list):\n",
    "    sample_id = adata.obs[\"sample_id\"].unique()[0] if \"sample_id\" in adata.obs.columns else f\"Sample_{i+1}\"\n",
    "    print(f\"Sample {i+1}: {sample_id}\")\n",
    "    print(f\"  n_obs (cells): {adata.n_obs}\")\n",
    "    print(f\"  n_vars (genes): {adata.n_vars}\")\n",
    "    print(\"-\" * 40)"
   ]
  },
  {
   "cell_type": "code",
   "execution_count": null,
   "id": "e3f7cc21-4185-47da-8239-cda204938e8a",
   "metadata": {},
   "outputs": [],
   "source": [
    "features = [\"total_counts\", \"n_genes_by_counts\", \"cell_area\", \"doublet_scores\"]\n",
    "\n",
    "fig, axes = plt.subplots(\n",
    "    len(features), len(adata_list), figsize=(len(adata_list) * 5, len(features) * 4)\n",
    ")\n",
    "for col_idx, adata in enumerate(adata_list):\n",
    "    for row_idx, feature in enumerate(features):\n",
    "        sc.pl.violin(adata, feature, ax=axes[row_idx, col_idx], show=False)\n",
    "        axes[row_idx, col_idx].set_title(\n",
    "            f\"{adata.obs['sample_id'].unique()[0]} - {feature}\"\n",
    "        )\n",
    "\n",
    "plt.tight_layout()\n",
    "plt.show()"
   ]
  },
  {
   "cell_type": "markdown",
   "id": "9af200d8-ae44-49ed-a0e1-50c95a62bc17",
   "metadata": {},
   "source": [
    "## Filters"
   ]
  },
  {
   "cell_type": "code",
   "execution_count": null,
   "id": "ef31d34c-5ae0-4b41-a33d-197de920b35f",
   "metadata": {},
   "outputs": [],
   "source": [
    "# Transcript count ceiling filter\n",
    "\n",
    "for i, adata in enumerate(adata_list):\n",
    "    sample_id = adata.obs[\"sample_id\"].unique()[0]\n",
    "    print(f\"{sample_id} shape before total_counts ceiling threshold: {adata.shape}\")\n",
    "    total_counts_ceiling = adata.obs[\"total_counts\"].quantile(0.9975)\n",
    "    adata_list[i] = adata[adata.obs[\"total_counts\"] < total_counts_ceiling, :].copy()\n",
    "    print(\n",
    "        f\"{sample_id} shape after total_counts ceiling threshold: {adata_list[i].shape}\"\n",
    "    )"
   ]
  },
  {
   "cell_type": "code",
   "execution_count": null,
   "id": "2e512d2e-deb5-45d1-86e6-58b34050d731",
   "metadata": {},
   "outputs": [],
   "source": [
    "# Cell area filter\n",
    "\n",
    "for i, adata in enumerate(adata_list):\n",
    "    sample_id = adata.obs[\"sample_id\"].unique()[0]\n",
    "    print(f\"{sample_id} shape before area ceiling threshold: {adata.shape}\")\n",
    "    adata_list[i] = adata[adata.obs[\"cell_area\"] < 180, :].copy()\n",
    "    print(f\"{sample_id} shape after area ceiling threshold: {adata_list[i].shape}\")"
   ]
  },
  {
   "cell_type": "code",
   "execution_count": null,
   "id": "21ba9459-9afb-46f4-9b68-f19d25931742",
   "metadata": {},
   "outputs": [],
   "source": [
    "# Doublet score filter\n",
    "\n",
    "for i, adata in enumerate(adata_list):\n",
    "    sample_id = adata.obs[\"sample_id\"].unique()[0]\n",
    "    print(f\"{sample_id} shape before doublet_scores ceiling threshold: {adata.shape}\")\n",
    "    doublet_scores_ceiling = adata.obs[\"doublet_scores\"].quantile(0.98)\n",
    "    adata_list[i] = adata[adata.obs[\"doublet_scores\"] < doublet_scores_ceiling, :]\n",
    "    print(f\"{sample_id} shape after doublet_scores ceiling threshold: {adata_list[i].shape}\")"
   ]
  },
  {
   "cell_type": "code",
   "execution_count": null,
   "id": "79e51ae9-11d5-49f1-b6c2-ac706e6cbf6c",
   "metadata": {},
   "outputs": [],
   "source": [
    "fig, axes = plt.subplots(\n",
    "    len(features), len(adata_list), figsize=(len(adata_list) * 5, len(features) * 4)\n",
    ")\n",
    "for col_idx, adata in enumerate(adata_list):\n",
    "    for row_idx, feature in enumerate(features):\n",
    "        sc.pl.violin(adata, feature, ax=axes[row_idx, col_idx], show=False)\n",
    "        axes[row_idx, col_idx].set_title(\n",
    "            f\"{adata.obs['sample_id'].unique()[0]} - {feature}\"\n",
    "        )\n",
    "\n",
    "plt.tight_layout()\n",
    "plt.show()"
   ]
  },
  {
   "cell_type": "markdown",
   "id": "35792e5c-35d4-4e31-9f8f-022742df9b0b",
   "metadata": {},
   "source": [
    "## Concatenate"
   ]
  },
  {
   "cell_type": "code",
   "execution_count": null,
   "id": "dda4360c-d2c4-40fe-a1bf-729eb21d929b",
   "metadata": {},
   "outputs": [],
   "source": [
    "adata = ad.concat(\n",
    "    adata_list,\n",
    "    join=\"outer\",\n",
    "    label=\"batch\",\n",
    "    index_unique=\"-\",\n",
    ")"
   ]
  },
  {
   "cell_type": "code",
   "execution_count": null,
   "id": "b64cd829-f4a2-4502-b2b0-2723af02fb46",
   "metadata": {},
   "outputs": [],
   "source": [
    "n_cells, n_genes = adata.shape\n",
    "n_samples = adata.obs[\"sample_id\"].nunique()\n",
    "print(f\"Total: {n_cells:,} cells × {n_genes:,} genes across {n_samples} samples\")"
   ]
  },
  {
   "cell_type": "markdown",
   "id": "c0eed403-08ce-4d7f-a675-3118728bdd8d",
   "metadata": {},
   "source": [
    "## Library size correction, Log-transformation"
   ]
  },
  {
   "cell_type": "code",
   "execution_count": null,
   "id": "c10e05e6-0801-4545-bda0-4fd52e5a6cec",
   "metadata": {},
   "outputs": [],
   "source": [
    "adata.layers[\"counts\"] = adata.X.copy()\n",
    "sc.pp.normalize_total(adata, target_sum=1e6)\n",
    "adata.layers[\"normalized_1e6\"] = adata.X.copy()\n",
    "\n",
    "sc.pp.log1p(adata)\n",
    "adata.raw = adata.copy()  # freeze log1p in raw slot\n",
    "adata.layers[\"log1p\"] = adata.X.copy()"
   ]
  },
  {
   "cell_type": "code",
   "execution_count": null,
   "id": "b5a3eb95-1f8f-4c89-b50c-c7473a34185c",
   "metadata": {},
   "outputs": [],
   "source": [
    "adata.layers"
   ]
  },
  {
   "cell_type": "markdown",
   "id": "13627f24-7d3f-4ff9-8460-8db582b876de",
   "metadata": {},
   "source": [
    "## Export"
   ]
  },
  {
   "cell_type": "code",
   "execution_count": null,
   "id": "ed7c797a-76f7-4851-aae7-86662ab2ed94",
   "metadata": {},
   "outputs": [],
   "source": [
    "filename = os.path.join(output_dir, \"artis-naive-pp.h5ad\")\n",
    "os.makedirs(os.path.dirname(filename), exist_ok=True)\n",
    "\n",
    "adata.write_h5ad(filename, compression=\"gzip\")\n",
    "print(f\"Filtered, concatenated adata saved to: {filename}\")"
   ]
  }
 ],
 "metadata": {
  "kernelspec": {
   "display_name": "Python (sc-charter)",
   "language": "python",
   "name": "sc-charter"
  },
  "language_info": {
   "codemirror_mode": {
    "name": "ipython",
    "version": 3
   },
   "file_extension": ".py",
   "mimetype": "text/x-python",
   "name": "python",
   "nbconvert_exporter": "python",
   "pygments_lexer": "ipython3",
   "version": "3.12.8"
  }
 },
 "nbformat": 4,
 "nbformat_minor": 5
}
