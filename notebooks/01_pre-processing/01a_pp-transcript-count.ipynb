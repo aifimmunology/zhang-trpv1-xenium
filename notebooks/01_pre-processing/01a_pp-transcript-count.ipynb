{
 "cells": [
  {
   "cell_type": "markdown",
   "id": "fede00e0-73f5-4793-8e36-e84d7db12d94",
   "metadata": {},
   "source": [
    "# QC Filter A\n",
    "\n",
    "**Pinned Environment:** [`envs/sc-spatial.yaml`](../.../envs/sc-spatial.yaml)  "
   ]
  },
  {
   "cell_type": "code",
   "execution_count": null,
   "id": "84e52e5a-f8b5-4fb8-b1c8-b02c0d76c0fc",
   "metadata": {},
   "outputs": [],
   "source": [
    "import os\n",
    "from pathlib import Path\n",
    "import scanpy as sc\n",
    "import sys\n",
    "import warnings"
   ]
  },
  {
   "cell_type": "code",
   "execution_count": null,
   "id": "c2e4851d-dd25-491c-a120-1e88133e51ab",
   "metadata": {},
   "outputs": [],
   "source": [
    "warnings.filterwarnings(\"ignore\", category=FutureWarning)"
   ]
  },
  {
   "cell_type": "markdown",
   "id": "82cd4f9b-3082-4309-8c91-95afedd05ce3",
   "metadata": {},
   "source": [
    "### Set paths, import data"
   ]
  },
  {
   "cell_type": "code",
   "execution_count": null,
   "id": "15cb4461-7703-4492-b0fe-a8293a31e502",
   "metadata": {},
   "outputs": [],
   "source": [
    "sys.path.append(str(Path.cwd().resolve().parents[1]))\n",
    "\n",
    "from config.paths import BASE_DIR\n",
    "\n",
    "base_dir = BASE_DIR / \"data/h5ad/export_01\"\n",
    "input_dir = base_dir / \"01_raw\"\n",
    "output_dir = base_dir / \"02_pre-filtered\"\n",
    "\n",
    "output_dir.mkdir(parents=True, exist_ok=True)"
   ]
  },
  {
   "cell_type": "code",
   "execution_count": null,
   "id": "fc41a087-68b8-4cd8-8d2d-aed298fa706b",
   "metadata": {},
   "outputs": [],
   "source": [
    "# Make a list of files in the directory\n",
    "sample_list = os.listdir(input_dir)\n",
    "sample_list"
   ]
  },
  {
   "cell_type": "code",
   "execution_count": null,
   "id": "8540920f-e4f5-419f-bccc-c187f8dc6035",
   "metadata": {},
   "outputs": [],
   "source": [
    "sample_files = [\n",
    "    os.path.join(input_dir, f) for f in os.listdir(input_dir) if f.endswith(\".h5ad\")\n",
    "]\n",
    "adata_list = [sc.read_h5ad(f) for f in sample_files]\n",
    "\n",
    "# Summary\n",
    "for i, adata in enumerate(adata_list, start=1):\n",
    "    sample_id = adata.obs[\"sample_id\"].unique()[0]\n",
    "    print(f\"Sample {i}: {sample_id}\")\n",
    "    print(f\"  n_obs: {adata.n_obs}\")\n",
    "    print(f\"  n_vars: {adata.n_vars}\")\n",
    "    print(\"-\" * 40)"
   ]
  },
  {
   "cell_type": "markdown",
   "id": "9843eade-3c53-40ff-8134-0f8dc4e0d114",
   "metadata": {},
   "source": [
    "## Filter"
   ]
  },
  {
   "cell_type": "code",
   "execution_count": null,
   "id": "7a992619-9f30-432a-9d8a-e3823e0c0b52",
   "metadata": {},
   "outputs": [],
   "source": [
    "for adata in adata_list:\n",
    "    sc.pl.violin(adata, [\"total_counts\", \"n_genes_by_counts\", \"cell_area\"])"
   ]
  },
  {
   "cell_type": "code",
   "execution_count": null,
   "id": "7e7e93c2-6fc7-4b9e-a0c7-f0e0cdd7e27f",
   "metadata": {},
   "outputs": [],
   "source": [
    "# Filter cells by total counts\n",
    "for i, adata in enumerate(adata_list):\n",
    "    sample_id = adata.obs[\"sample_id\"].iloc[0]\n",
    "    print(f\"{sample_id} shape before total_counts floor threshold: {adata.shape}\")\n",
    "    \n",
    "    adata_list[i] = adata[adata.obs[\"total_counts\"] > 20, :].copy()\n",
    "    \n",
    "    print(f\"{sample_id} shape after total_counts floor threshold: {adata_list[i].shape}\")"
   ]
  },
  {
   "cell_type": "markdown",
   "id": "472f00a8-572c-4adc-98bd-3362b3d44802",
   "metadata": {},
   "source": [
    "## Export"
   ]
  },
  {
   "cell_type": "code",
   "execution_count": null,
   "id": "6ab2624c-8ed3-4c53-8283-6540278ce8a0",
   "metadata": {},
   "outputs": [],
   "source": [
    "for i, adata in enumerate(adata_list):\n",
    "    if \"sample_id\" in adata.obs.columns:\n",
    "        sample_name = adata.obs[\"sample_id\"].loc[adata.obs.index[0]]\n",
    "    else:\n",
    "        sample_name = f\"sample_{i+1}\"\n",
    "\n",
    "    output_file = os.path.join(output_dir, f\"{sample_name}.h5ad\")\n",
    "    adata.write(output_file)\n",
    "    print(f\"Saved: {output_file}\")"
   ]
  }
 ],
 "metadata": {
  "kernelspec": {
   "display_name": "sc-spatial",
   "language": "python",
   "name": "sc-spatial"
  },
  "language_info": {
   "codemirror_mode": {
    "name": "ipython",
    "version": 3
   },
   "file_extension": ".py",
   "mimetype": "text/x-python",
   "name": "python",
   "nbconvert_exporter": "python",
   "pygments_lexer": "ipython3",
   "version": "3.12.2"
  }
 },
 "nbformat": 4,
 "nbformat_minor": 5
}
