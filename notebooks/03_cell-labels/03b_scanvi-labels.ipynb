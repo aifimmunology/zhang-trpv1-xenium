{
 "cells": [
  {
   "cell_type": "markdown",
   "id": "9bc2897d-6fe4-4d23-826f-b1ea9f0de350",
   "metadata": {},
   "source": [
    "# scANVI Label Transfer"
   ]
  },
  {
   "cell_type": "markdown",
   "id": "621b1d9e-87c4-4b82-8573-82095c6f5ab2",
   "metadata": {},
   "source": [
    "This notebook performs cell type label transfer from the uninfected reference mouse gut Xenium dataset (Reina-Campos et al., 2025, Nature) onto the current Xenium spatial dataset using scANVI. This integration is used as one layer of information to inform labeling.\n",
    "\n",
    "**Pinned Environment:** [`envs/sc-charter.yaml`](../../envs/sc-charter.yaml)  "
   ]
  },
  {
   "cell_type": "code",
   "execution_count": null,
   "id": "22f6cc4c-e421-482f-9b47-80931d1fbe0f",
   "metadata": {},
   "outputs": [],
   "source": [
    "import os\n",
    "import sys\n",
    "from pathlib import Path\n",
    "import scanpy as sc\n",
    "import scvi\n",
    "import pandas as pd\n",
    "import matplotlib.pyplot as plt\n",
    "import anndata as ad\n",
    "from lightning.pytorch import seed_everything\n",
    "import random\n",
    "import sys\n",
    "import session_info"
   ]
  },
  {
   "cell_type": "code",
   "execution_count": null,
   "id": "5f2c1934-13ec-4c6e-b558-62c02502b209",
   "metadata": {},
   "outputs": [],
   "source": [
    "random.seed(0)\n",
    "seed_everything(0)\n",
    "\n",
    "scvi.settings.seed = 0\n",
    "scvi.settings.num_workers = 32"
   ]
  },
  {
   "cell_type": "markdown",
   "id": "a6ab0c76-929c-4915-8ab9-a42bdb5f4d9d",
   "metadata": {},
   "source": [
    "### Set paths"
   ]
  },
  {
   "cell_type": "code",
   "execution_count": null,
   "id": "3685917f-0ff3-4458-8e1b-47b2e4080f28",
   "metadata": {},
   "outputs": [],
   "source": [
    "sys.path.append(str(Path.cwd().resolve().parents[1]))\n",
    "\n",
    "from config.paths import BASE_DIR\n",
    "\n",
    "adata_dir = BASE_DIR / \"data/h5ad/export_03\"\n",
    "ref_data_dir = BASE_DIR / \"data/h5ad/max-data\"\n",
    "\n",
    "output_dir = BASE_DIR / \"data/h5ad/export_04\"\n",
    "scvi_dir = BASE_DIR / \"scvi\"\n",
    "scanvi_dir = BASE_DIR / \"scanvi\"\n",
    "\n",
    "output_dir.mkdir(parents=True, exist_ok=True)\n",
    "scanvi_dir.mkdir(parents=True, exist_ok=True)"
   ]
  },
  {
   "cell_type": "markdown",
   "id": "70b760b9-fb47-47f9-88c4-41aafbbef125",
   "metadata": {},
   "source": [
    "### Read data"
   ]
  },
  {
   "cell_type": "code",
   "execution_count": null,
   "id": "2512805e-17c4-4bac-8b9f-34d365461125",
   "metadata": {},
   "outputs": [],
   "source": [
    "adata = sc.read_h5ad(os.path.join(adata_dir, \"artis-naive-scvi-leiden.h5ad\"))\n",
    "refdata = sc.read_h5ad(\n",
    "    os.path.join(ref_data_dir, \"uninfected.h5ad\")\n",
    ")"
   ]
  },
  {
   "cell_type": "code",
   "execution_count": null,
   "id": "5c42698e-876e-4eb0-b762-300bb5db2bef",
   "metadata": {},
   "outputs": [],
   "source": [
    "refdata.obs_names_make_unique()"
   ]
  },
  {
   "cell_type": "code",
   "execution_count": null,
   "id": "53e80b37-6138-4064-ad99-ab5271c2de00",
   "metadata": {},
   "outputs": [],
   "source": [
    "refdata.obs[\"batch\"].value_counts()"
   ]
  },
  {
   "cell_type": "markdown",
   "id": "bf8cbf02-e823-4cf9-bb46-8c74deffd903",
   "metadata": {},
   "source": [
    "### Prepare adatas"
   ]
  },
  {
   "cell_type": "code",
   "execution_count": null,
   "id": "d4def165-12df-4abe-8f13-8c0072ffe2ba",
   "metadata": {},
   "outputs": [],
   "source": [
    "# Raw counts\n",
    "refdata.layers[\"counts\"] = refdata.layers[\"raw\"].copy() # consistent nomenclature between samples\n",
    "refdata.X = refdata.layers[\"counts\"].copy()"
   ]
  },
  {
   "cell_type": "code",
   "execution_count": null,
   "id": "e124959d-78e3-40c0-8e26-c7e40f14e54f",
   "metadata": {},
   "outputs": [],
   "source": [
    "adata.X = adata.layers[\"counts\"].copy()"
   ]
  },
  {
   "cell_type": "code",
   "execution_count": null,
   "id": "ac426752-9eb2-47e8-b8fb-d4c893fe8ac1",
   "metadata": {},
   "outputs": [],
   "source": [
    "# add sample_id for refdata\n",
    "refdata.obs[\"sample_id\"] = refdata.obs[\"batch\"]\n",
    "\n",
    "# add column for easier filtering\n",
    "refdata.obs[\"ref_data\"] = \"Yes\"\n",
    "adata.obs[\"ref_data\"] = \"No\""
   ]
  },
  {
   "cell_type": "markdown",
   "id": "d9ff3ee3-ca81-4263-8a73-69b5df1c11eb",
   "metadata": {},
   "source": [
    "## Gene alignment and concatenation"
   ]
  },
  {
   "cell_type": "code",
   "execution_count": null,
   "id": "feb679bf-047a-4b3b-9e1e-54c44d4bc884",
   "metadata": {},
   "outputs": [],
   "source": [
    "# Find the intersection of genes for integration\n",
    "common_genes = list(set(adata.var_names) & set(refdata.var_names))\n",
    "len(common_genes)"
   ]
  },
  {
   "cell_type": "markdown",
   "id": "8baf452a-29d5-4cb9-b126-469a66797712",
   "metadata": {},
   "source": [
    "### Create subsets"
   ]
  },
  {
   "cell_type": "code",
   "execution_count": null,
   "id": "1fcea92e-2a0e-42f9-a9e8-d5f9156d3e2b",
   "metadata": {},
   "outputs": [],
   "source": [
    "# Create copies of the datasets, keeping only common genes\n",
    "adata_subset = adata[:, common_genes].copy()\n",
    "refdata_subset = refdata[:, common_genes].copy()"
   ]
  },
  {
   "cell_type": "code",
   "execution_count": null,
   "id": "a57425b2-d97d-4431-9041-2ddb7b542af5",
   "metadata": {},
   "outputs": [],
   "source": [
    "print(f\"adata before subsetting: {adata.shape[1]}\")\n",
    "print(f\"adata after subsetting: {adata_subset.shape[1]}\")\n",
    "\n",
    "print(f\"refdata before subsetting: {refdata.shape[1]}\")\n",
    "print(f\"refdata after subsetting: {refdata_subset.shape[1]}\")"
   ]
  },
  {
   "cell_type": "code",
   "execution_count": null,
   "id": "5ddbd90c-d593-48e8-affc-a8843b8710d3",
   "metadata": {},
   "outputs": [],
   "source": [
    "index_match = (adata_subset.var_names == refdata_subset.var_names).all()\n",
    "print(f\"adata.var_names match: {index_match}\")"
   ]
  },
  {
   "cell_type": "markdown",
   "id": "7c3018ee-5e5b-4fbd-af7e-c785bcbf53c3",
   "metadata": {},
   "source": [
    "# Concatenate"
   ]
  },
  {
   "cell_type": "code",
   "execution_count": null,
   "id": "43a2f6d8-5a0e-4ba7-8b4e-cd73b7a79ced",
   "metadata": {},
   "outputs": [],
   "source": [
    "# Concatenate datasets\n",
    "adata_list = [adata_subset, refdata_subset]\n",
    "\n",
    "adata_concat = ad.concat(\n",
    "    adata_list,\n",
    "    join=\"outer\",  # make sure it's outer\n",
    "    label=\"scanvi_batch\",\n",
    "    index_unique=\"-\",\n",
    ")"
   ]
  },
  {
   "cell_type": "markdown",
   "id": "3e196233-57fc-4f4e-b061-8ba3e1f6c353",
   "metadata": {},
   "source": [
    "### Perform filtering on concatenated adata"
   ]
  },
  {
   "cell_type": "code",
   "execution_count": null,
   "id": "9f85b81a-d370-4aa5-9896-037b5cec64ef",
   "metadata": {},
   "outputs": [],
   "source": [
    "sc.pp.calculate_qc_metrics(\n",
    "    adata_concat, percent_top=(10, 20, 50, 150), inplace=True\n",
    ")  # adds updated total_counts metric at intersection of adata.var between two objects for filtering"
   ]
  },
  {
   "cell_type": "markdown",
   "id": "abc01e15-d613-4d2a-9f82-cb29df7df196",
   "metadata": {},
   "source": [
    "This step below filters cells in the combined dataset:\n",
    "- All study (query) cells are kept.\n",
    "- Reference cells are only kept if their total transcript counts are between 20 and 800. These are the parameters used in the reference dataset's published manuscript."
   ]
  },
  {
   "cell_type": "code",
   "execution_count": null,
   "id": "7e3e3b75-5595-4066-9990-84f58b5a7246",
   "metadata": {},
   "outputs": [],
   "source": [
    "adata_concat = adata_concat[\n",
    "    (adata_concat.obs[\"ref_data\"] == \"No\")  # Keep all non-reference samples\n",
    "    | (\n",
    "        (\n",
    "            adata_concat.obs[\"ref_data\"] == \"Yes\"\n",
    "        )  # Apply total_counts filter only to reference samples\n",
    "        & (adata_concat.obs[\"total_counts\"] > 20)\n",
    "        & (adata_concat.obs[\"total_counts\"] < 800)\n",
    "    )\n",
    "].copy()"
   ]
  },
  {
   "cell_type": "markdown",
   "id": "69abf958-7c53-4ae7-9098-597fd37e38e0",
   "metadata": {},
   "source": [
    "## Train scVI model"
   ]
  },
  {
   "cell_type": "code",
   "execution_count": null,
   "id": "466031ac-37e5-45ba-beef-b31d08f262ab",
   "metadata": {},
   "outputs": [],
   "source": [
    "# Check batch key\n",
    "adata_concat.obs[\"sample_id\"].value_counts()"
   ]
  },
  {
   "cell_type": "code",
   "execution_count": null,
   "id": "ebdc2b3e-dee6-44c1-b562-750ae8b55bb0",
   "metadata": {},
   "outputs": [],
   "source": [
    "scvi.model.SCVI.setup_anndata(\n",
    "    adata_concat,\n",
    "    layer=\"counts\", \n",
    "    batch_key=\"ref_data\", # yes/no column for whether the cells are from reference or query\n",
    "    categorical_covariate_keys=[\"sample_id\"],  # inter-run variability as a covariate\n",
    ")\n",
    "\n",
    "model = scvi.model.SCVI(adata_concat, n_layers=2, n_latent=30) # Same parameters selected from Reina-Campos et al., 2025, Nature\n",
    "print(\"starting model training\")\n",
    "\n",
    "model.train(early_stopping=True, enable_progress_bar=True, accelerator=\"gpu\")"
   ]
  },
  {
   "cell_type": "code",
   "execution_count": null,
   "id": "9b2e2374-d590-4c0e-9e28-7676e068e681",
   "metadata": {},
   "outputs": [],
   "source": [
    "model.save(os.path.join(scvi_dir, \"02_model\"), prefix=\"02_label_transfer_\")"
   ]
  },
  {
   "cell_type": "code",
   "execution_count": null,
   "id": "c2500aa6-365c-446b-98c1-905b00745de1",
   "metadata": {},
   "outputs": [],
   "source": [
    "SCVI_LATENT_KEY = \"X_scVI_refalign\"\n",
    "adata_concat.obsm[SCVI_LATENT_KEY] = model.get_latent_representation()"
   ]
  },
  {
   "cell_type": "markdown",
   "id": "2576e7cd-a043-47f8-8679-ea7e6119d8da",
   "metadata": {},
   "source": [
    "### Compute neighbors graph and UMAP"
   ]
  },
  {
   "cell_type": "code",
   "execution_count": null,
   "id": "8a5e1141-f090-478b-a8bf-0e02a949603a",
   "metadata": {},
   "outputs": [],
   "source": [
    "sc.pp.neighbors(\n",
    "    adata_concat, use_rep=\"X_scVI_refalign\", key_added=\"neighbors_scvi_refalign\"\n",
    ")\n",
    "sc.tl.umap(adata_concat, neighbors_key=\"neighbors_scvi_refalign\")"
   ]
  },
  {
   "cell_type": "markdown",
   "id": "68f51051-8c89-4bd4-84f3-4d2584ad5149",
   "metadata": {},
   "source": [
    "### Export refaligned adata"
   ]
  },
  {
   "cell_type": "code",
   "execution_count": null,
   "id": "64998df9-3c90-420c-a270-0254e96448a0",
   "metadata": {},
   "outputs": [],
   "source": [
    "filename = os.path.join(output_dir, \"adata_concat_scvi_refalign.h5ad\")\n",
    "os.makedirs(os.path.dirname(filename), exist_ok=True)\n",
    "\n",
    "adata_concat.write_h5ad(filename, compression=\"gzip\")"
   ]
  },
  {
   "cell_type": "markdown",
   "id": "0a0e3634-83a4-4076-b2fa-29cb0bbeb4dc",
   "metadata": {},
   "source": [
    "# Checkpoint"
   ]
  },
  {
   "cell_type": "code",
   "execution_count": null,
   "id": "dd405ecb-a513-4594-968c-fa058592c04e",
   "metadata": {},
   "outputs": [],
   "source": [
    "filename = os.path.join(output_dir, \"adata_concat_scvi_refalign.h5ad\")\n",
    "adata_concat = sc.read_h5ad(filename)\n",
    "adata_concat"
   ]
  },
  {
   "cell_type": "markdown",
   "id": "76ff986e-c34d-41eb-bd80-e0771eb62fac",
   "metadata": {},
   "source": [
    "### Prep data for scANVI"
   ]
  },
  {
   "cell_type": "code",
   "execution_count": null,
   "id": "96ae7e03-524b-4480-a8b6-ce75876a39d2",
   "metadata": {},
   "outputs": [],
   "source": [
    "# Subtype annotations are the most granular in the labeling hierarchy from the reference dataset\n",
    "adata_concat.obs[\"Subtype\"].value_counts()"
   ]
  },
  {
   "cell_type": "code",
   "execution_count": null,
   "id": "04d09d22-e12a-4588-abc5-a8170c74f8cf",
   "metadata": {},
   "outputs": [],
   "source": [
    "# Add unknown category for query (Artis) samples\n",
    "adata_concat.obs[\"Subtype\"] = adata_concat.obs[\"Subtype\"].cat.add_categories(\"Unknown\")\n",
    "adata_concat.obs = adata_concat.obs.fillna(value={\"Subtype\": \"Unknown\"})"
   ]
  },
  {
   "cell_type": "markdown",
   "id": "61e5b6cf-6b37-4177-a49a-1e105d1fd628",
   "metadata": {},
   "source": [
    "Below is important for mapping labels in the unintegrated original adata"
   ]
  },
  {
   "cell_type": "code",
   "execution_count": null,
   "id": "6009b4b5-a532-45d4-917d-bd1f8a939273",
   "metadata": {},
   "outputs": [],
   "source": [
    "# Subset only query dataset (unlabeled before scANVI training)\n",
    "query_cells = adata_concat.obs[\"Subtype\"] == \"Unknown\"\n",
    "query_cells.to_csv(os.path.join(scanvi_dir, \"query_cells-subtype.csv\"))\n",
    "query_cells"
   ]
  },
  {
   "cell_type": "code",
   "execution_count": null,
   "id": "c4ad1dad-2774-436f-b7c7-17d455da6807",
   "metadata": {},
   "outputs": [],
   "source": [
    "# Prepare barcodes; suffix was added during concat\n",
    "query_cells_copy = query_cells.copy()\n",
    "query_cells_copy.index = query_cells_copy.index.map(lambda x: x[:-2])\n",
    "query_cells_copy"
   ]
  },
  {
   "cell_type": "markdown",
   "id": "2a97666d-1dd6-4500-9829-cf1637338c91",
   "metadata": {},
   "source": [
    "## Run scANVI"
   ]
  },
  {
   "cell_type": "code",
   "execution_count": null,
   "id": "1d447ae7-6c7e-4d36-bb2a-757627ef47a6",
   "metadata": {},
   "outputs": [],
   "source": [
    "# scanvi label transfer\n",
    "scanvi_model = scvi.model.SCANVI.from_scvi_model(\n",
    "    model,\n",
    "    adata=adata_concat,\n",
    "    unlabeled_category=\"Unknown\",  # Entries in labels_key to label\n",
    "    labels_key=\"Subtype\",\n",
    ")  # Column to transfer labels from\n",
    "\n",
    "scanvi_model.train(\n",
    "    max_epochs=20, accelerator=\"gpu\", n_samples_per_label=None\n",
    ")  "
   ]
  },
  {
   "cell_type": "code",
   "execution_count": null,
   "id": "5acc6731-22c8-469d-8e88-332cbd6a3e3d",
   "metadata": {},
   "outputs": [],
   "source": [
    "# save scANVI model\n",
    "scanvi_model.save(\n",
    "    os.path.join(scvi_dir, \"03_model_scanvi\"), prefix=\"03_max-artis_scanvi_\"\n",
    ")"
   ]
  },
  {
   "cell_type": "markdown",
   "id": "1c63d5fb-b21d-430f-9ce4-39743bb47879",
   "metadata": {},
   "source": [
    "### Reference mapping step"
   ]
  },
  {
   "cell_type": "code",
   "execution_count": null,
   "id": "122373b9-dff2-4d39-9be7-320fa8b2e891",
   "metadata": {},
   "outputs": [],
   "source": [
    "SCANVI_LATENT_KEY = \"X_scANVI\"\n",
    "SCANVI_PREDICTION_KEY = \"scanvi_labels_xenium\"\n",
    "\n",
    "adata_concat.obsm[SCANVI_LATENT_KEY] = scanvi_model.get_latent_representation(\n",
    "    adata_concat\n",
    ")\n",
    "adata_concat.obs[SCANVI_PREDICTION_KEY] = scanvi_model.predict(\n",
    "    adata_concat\n",
    ")  # this fills out the labels"
   ]
  },
  {
   "cell_type": "code",
   "execution_count": null,
   "id": "b6bcaa60-1112-487b-8a9c-ff4fb1941e60",
   "metadata": {},
   "outputs": [],
   "source": [
    "filename = os.path.join(output_dir, \"adata_concat-scvi-scanvi-predictions.h5ad\")\n",
    "os.makedirs(os.path.dirname(filename), exist_ok=True)\n",
    "\n",
    "adata_concat.write_h5ad(filename, compression=\"gzip\")"
   ]
  },
  {
   "cell_type": "markdown",
   "id": "0ae0984a-c943-440f-971b-719b5eac598d",
   "metadata": {},
   "source": [
    "## Map query labels onto original adata"
   ]
  },
  {
   "cell_type": "code",
   "execution_count": null,
   "id": "5c591cd3-e653-4acc-aad5-24f2f5df27eb",
   "metadata": {},
   "outputs": [],
   "source": [
    "# re-read fresh adata with all the genes, this is the query\n",
    "adata_query = sc.read_h5ad(os.path.join(adata_dir, \"artis-naive-scvi-leiden.h5ad\"))\n",
    "adata_query.obs.head()"
   ]
  },
  {
   "cell_type": "code",
   "execution_count": null,
   "id": "9852408e-102c-443f-b3b3-1877eda3e741",
   "metadata": {},
   "outputs": [],
   "source": [
    "# create adata_labeled from adata_concat which has the labels\n",
    "adata_labeled = adata_concat[\n",
    "    adata_concat.obs[\"scanvi_batch\"] == \"0\"\n",
    "].copy()  # batch is stored as string\n",
    "\n",
    "print(adata_labeled.obs[\"scanvi_batch\"].value_counts())\n",
    "print(\"\")\n",
    "print(adata_labeled.obs[\"sample_id\"].value_counts())"
   ]
  },
  {
   "cell_type": "code",
   "execution_count": null,
   "id": "47d26cf5-ccf7-45db-a849-763f0804a4c8",
   "metadata": {},
   "outputs": [],
   "source": [
    "# Remove suffix from labeled adata subset from adata_concat\n",
    "adata_labeled.obs.index = adata_labeled.obs.index.astype(str)\n",
    "adata_labeled.obs.index = adata_labeled.obs.index.str[:-2]\n",
    "adata_labeled.obs.head()"
   ]
  },
  {
   "cell_type": "code",
   "execution_count": null,
   "id": "f5030568-9eba-4a63-9905-1e1ed31e2f8b",
   "metadata": {},
   "outputs": [],
   "source": [
    "query_cells_copy = query_cells_copy[query_cells_copy].index.tolist()\n",
    "print(\n",
    "    set(query_cells_copy).issubset(set(adata_labeled.obs.index))\n",
    ")  # Should return True\n",
    "print(set(query_cells_copy).issubset(set(adata_query.obs.index)))  # Should return True"
   ]
  },
  {
   "cell_type": "code",
   "execution_count": null,
   "id": "d3a01f03-3694-4307-9a7c-8d89e616114c",
   "metadata": {},
   "outputs": [],
   "source": [
    "# Transfer predictions back to the original query dataset\n",
    "adata_query.obs[\"scanvi_labels_xenium\"] = adata_labeled.obs.loc[\n",
    "    query_cells_copy, \"scanvi_labels_xenium\"\n",
    "]\n",
    "adata_query.obs[\"scanvi_labels_xenium\"]"
   ]
  },
  {
   "cell_type": "code",
   "execution_count": null,
   "id": "7ae2f99f-1a6d-4b30-a63b-e632b04a2b62",
   "metadata": {},
   "outputs": [],
   "source": [
    "adata_query.obs[\"scanvi_labels_xenium\"].value_counts()"
   ]
  },
  {
   "cell_type": "markdown",
   "id": "1755e8b1-53ad-4dd8-866b-8de8d2046e8b",
   "metadata": {},
   "source": [
    "## Export labeled adata"
   ]
  },
  {
   "cell_type": "code",
   "execution_count": null,
   "id": "dd90ee1c-767e-472e-9eeb-655076b31948",
   "metadata": {},
   "outputs": [],
   "source": [
    "h5ad_path = os.path.join(output_dir, \"adata-scanvi-labels.h5ad\")\n",
    "adata_query.write_h5ad(h5ad_path, compression=\"gzip\")\n",
    "\n",
    "print(h5ad_path)"
   ]
  }
 ],
 "metadata": {
  "kernelspec": {
   "display_name": "Python (sc-charter)",
   "language": "python",
   "name": "sc-charter"
  },
  "language_info": {
   "codemirror_mode": {
    "name": "ipython",
    "version": 3
   },
   "file_extension": ".py",
   "mimetype": "text/x-python",
   "name": "python",
   "nbconvert_exporter": "python",
   "pygments_lexer": "ipython3",
   "version": "3.12.8"
  }
 },
 "nbformat": 4,
 "nbformat_minor": 5
}
