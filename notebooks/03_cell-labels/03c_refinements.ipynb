{
 "cells": [
  {
   "cell_type": "markdown",
   "id": "50708d11-7900-4224-a7e1-ad59fe51368e",
   "metadata": {},
   "source": [
    "# Refine and Visualize Annotations\n",
    "\n",
    "Refine cell type annotations based on Leiden clustering, label transfer results, and validation with spatial localization within the tissue using customized visualization functions.\n",
    "\n",
    "**Pinned Environment:** [`envs/sc-spatial.yaml`](../../envs/sc-spatial.yaml)  "
   ]
  },
  {
   "cell_type": "code",
   "execution_count": null,
   "id": "84ab75fd-80d0-4ca6-8ffa-cd1d5a9840c8",
   "metadata": {},
   "outputs": [],
   "source": [
    "import os\n",
    "from pathlib import Path\n",
    "import sys\n",
    "import scanpy as sc\n",
    "import matplotlib.pyplot as plt\n",
    "import matplotlib.colors as mcolors\n",
    "import seaborn as sns\n",
    "import session_info"
   ]
  },
  {
   "cell_type": "code",
   "execution_count": null,
   "id": "76aefead-9ede-4ed4-a2fa-b36892d28ba9",
   "metadata": {},
   "outputs": [],
   "source": [
    "plt.rcParams[\"figure.figsize\"] = (8, 8)\n",
    "plt.rcParams[\"figure.dpi\"] = 150"
   ]
  },
  {
   "cell_type": "markdown",
   "id": "02e7b122-cd72-4551-aefb-83f8029915e7",
   "metadata": {},
   "source": [
    "## Paths"
   ]
  },
  {
   "cell_type": "code",
   "execution_count": null,
   "id": "4508f666-e1af-4346-bd72-b8eca7b06a69",
   "metadata": {},
   "outputs": [],
   "source": [
    "sys.path.append(str(Path.cwd().resolve().parents[1]))\n",
    "\n",
    "from config.paths import BASE_DIR\n",
    "\n",
    "input_dir = BASE_DIR / \"data/h5ad/export_04\"\n",
    "output_dir = BASE_DIR / \"data/h5ad/export_07\"\n",
    "output_dir.mkdir(parents=True, exist_ok=True)\n",
    "\n",
    "# Note: export_05 and export_06 are skipped — both were superseded by the finalized clustering & cell labeling workflow"
   ]
  },
  {
   "cell_type": "markdown",
   "id": "797efdc7-59c0-4ff3-8a46-39a7de7927bd",
   "metadata": {},
   "source": [
    "## Import data"
   ]
  },
  {
   "cell_type": "code",
   "execution_count": null,
   "id": "652ec20a-9653-403d-86e1-1ad4a83a35bb",
   "metadata": {},
   "outputs": [],
   "source": [
    "adata = sc.read_h5ad(\n",
    "    os.path.join(input_dir, \"adata-scanvi-labels.h5ad\")\n",
    ")"
   ]
  },
  {
   "cell_type": "code",
   "execution_count": null,
   "id": "ff6ab207-5015-4bc9-bef3-f231d67e8ea0",
   "metadata": {},
   "outputs": [],
   "source": [
    "sample_to_group = {\n",
    "    \"TIS09473_Control\": \"Control\",\n",
    "    \"TIS09471_Control\": \"Control\",\n",
    "    \"TIS09472_Control\": \"Control\",\n",
    "    \"TIS09475_Trpv1+\": \"Trpv1-cre\",\n",
    "    \"TIS09474_Trpv1+\": \"Trpv1-cre\",\n",
    "    \"TIS09476_Trpv1+\": \"Trpv1-cre\",\n",
    "}\n",
    "adata.obs[\"group\"] = adata.obs[\"sample_id\"].map(sample_to_group)\n",
    "\n",
    "adata.obs.group.value_counts()"
   ]
  },
  {
   "cell_type": "markdown",
   "id": "9476e7a2-4b3e-4bfe-a61c-9d109c2b4dae",
   "metadata": {},
   "source": [
    "## Visualize groupings"
   ]
  },
  {
   "cell_type": "code",
   "execution_count": null,
   "id": "391f8485-b6b0-41d7-a2d0-192d423c58af",
   "metadata": {},
   "outputs": [],
   "source": [
    "sc.pl.umap(\n",
    "    adata, color=\"leiden\", frameon=False, title=\"\", legend_loc=\"on data\"\n",
    ")"
   ]
  },
  {
   "cell_type": "code",
   "execution_count": null,
   "id": "2019dcb6-b8e0-4ed1-853b-08a2cce7e4a7",
   "metadata": {},
   "outputs": [],
   "source": [
    "sc.pl.umap(adata, color=\"scanvi_labels_xenium\")"
   ]
  },
  {
   "cell_type": "code",
   "execution_count": null,
   "id": "fbe149dc-9c48-40eb-b83c-07d135735017",
   "metadata": {},
   "outputs": [],
   "source": [
    "sc.pl.umap(adata, color=\"group\", frameon=False, title=\"\")"
   ]
  },
  {
   "cell_type": "markdown",
   "id": "e34556b8-ede4-4739-991c-4c83f0813530",
   "metadata": {},
   "source": [
    "## Create `adata.obs['cell_type']` annotation"
   ]
  },
  {
   "cell_type": "code",
   "execution_count": null,
   "id": "e8a1becd-ff28-45b0-96ba-e881a98e558d",
   "metadata": {},
   "outputs": [],
   "source": [
    "adata.obs[\"cell_type\"] = adata.obs[\"cell_type\"].astype(\"category\")\n",
    "adata.obs[\"scanvi_labels_xenium\"] = adata.obs[\"scanvi_labels_xenium\"].astype(\"category\")\n",
    "adata.obs[\"leiden_scVI_1.2\"] = adata.obs[\"leiden_scVI_1.2\"].astype(\"category\")"
   ]
  },
  {
   "cell_type": "markdown",
   "id": "ca035a8a-78aa-4131-ac3f-85de91550da2",
   "metadata": {},
   "source": [
    "## Replace entries in adata.obs"
   ]
  },
  {
   "cell_type": "code",
   "execution_count": null,
   "id": "7e5cbad5-8295-4ff2-997d-3705323a0da8",
   "metadata": {},
   "outputs": [],
   "source": [
    "adata.obs[\"scanvi_labels_xenium\"] = adata.obs[\"scanvi_labels_xenium\"].replace(\n",
    "    {\"Tuft\": \"Tuft_cell\"}\n",
    ")\n",
    "adata.obs[\"scanvi_labels_xenium\"] = adata.obs[\"scanvi_labels_xenium\"].replace(\n",
    "    {\"Goblet\": \"Mature_goblet\"}\n",
    ")\n",
    "adata.obs[\"scanvi_labels_xenium\"] = adata.obs[\"scanvi_labels_xenium\"].replace(\n",
    "    {\"Early_Enterocyte\": \"Early_enterocyte\"}\n",
    ")\n",
    "adata.obs[\"scanvi_labels_xenium\"] = adata.obs[\"scanvi_labels_xenium\"].replace(\n",
    "    {\"Neuron\": \"Neural_2\"}\n",
    ")\n",
    "# rename neural_1 cluster at end of script with leiden cluster"
   ]
  },
  {
   "cell_type": "markdown",
   "id": "acade745-6b68-462f-a24e-1d48c195a8d0",
   "metadata": {},
   "source": [
    "Apply subcluster mappings for ISC/Paneth and SMC1/SMC2 clusters:"
   ]
  },
  {
   "cell_type": "code",
   "execution_count": null,
   "id": "24d7d1de-7d31-4943-93f4-c17040d3264d",
   "metadata": {},
   "outputs": [],
   "source": [
    "# Initialize with scanvi label annotations as our starting point\n",
    "adata.obs[\"cell_type\"] = adata.obs[\"scanvi_labels_xenium\"].copy()"
   ]
  },
  {
   "cell_type": "code",
   "execution_count": null,
   "id": "4f74edf1-995e-4a4c-8703-78660b090fb8",
   "metadata": {},
   "outputs": [],
   "source": [
    "adata.obs[\"subcluster_mapping\"] = adata.obs[\"subcluster_mapping\"].astype(str)\n",
    "adata.obs[\"cell_type\"] = adata.obs[\"cell_type\"].astype(str)\n",
    "\n",
    "mask = adata.obs[\"subcluster_mapping\"] != \"Other\"\n",
    "adata.obs.loc[mask, \"cell_type\"] = adata.obs.loc[mask, \"subcluster_mapping\"]\n",
    "\n",
    "adata.obs[\"cell_type\"] = adata.obs[\"cell_type\"].astype(\"category\")"
   ]
  },
  {
   "cell_type": "code",
   "execution_count": null,
   "id": "f34210ef-8eda-4d20-a509-c14f818b1e1d",
   "metadata": {},
   "outputs": [],
   "source": [
    "sc.pl.umap(adata, color=\"cell_type\", frameon=False)"
   ]
  },
  {
   "cell_type": "markdown",
   "id": "25deaf74-44dd-4a07-8209-64a187d87a6a",
   "metadata": {},
   "source": [
    "## Update annotations based on Leiden clustering results"
   ]
  },
  {
   "cell_type": "markdown",
   "id": "ad18f6d8-2a4b-4551-ae59-ce8f275cd821",
   "metadata": {},
   "source": [
    "This block of code updates cell type annotations in adata.obs[\"cell_type\"] based on Leiden clustering results:"
   ]
  },
  {
   "cell_type": "code",
   "execution_count": null,
   "id": "87f6ac00-8c01-45ee-bc08-a9145cac0869",
   "metadata": {},
   "outputs": [],
   "source": [
    "adata.obs[\"leiden\"] = adata.obs[\"leiden\"].astype(str)\n",
    "adata.obs[\"cell_type\"] = adata.obs[\"cell_type\"].astype(str)\n",
    "\n",
    "\n",
    "# Define Leiden clusters that need to be updated\n",
    "leiden_to_update = {\n",
    "    \"0\": \"Enterocyte_1\",\n",
    "    \"1\": \"Early_enterocyte\",\n",
    "    \"2\": \"Transit_Amplifying\",\n",
    "    \"3\": \"Enterocyte_2\",\n",
    "    \"13\": \"Immature_goblet\",\n",
    "    \"10\": \"Mature_goblet\",\n",
    "    \"15\": \"Tuft_cell\",\n",
    "    \"21\": \"Neural_1\",\n",
    "    \"22\": \"Enteroendocrine\",\n",
    "}\n",
    "\n",
    "adata.obs.loc[\n",
    "    adata.obs[\"leiden\"].isin(leiden_to_update.keys()), \"cell_type\"\n",
    "] = adata.obs[\"leiden\"].map(leiden_to_update)\n",
    "\n",
    "print(adata.obs[[\"scanvi_labels_xenium\", \"leiden\", \"cell_type\"]].head())"
   ]
  },
  {
   "cell_type": "markdown",
   "id": "adb4ec85-351b-450c-b526-22aed5a60f34",
   "metadata": {},
   "source": [
    "## Additional label refinement"
   ]
  },
  {
   "cell_type": "markdown",
   "id": "ab644c45-4d81-4c51-8d83-86f58f35cb56",
   "metadata": {},
   "source": [
    "Note: Cell type refinements were performed iteratively across analysis steps, based on marker expression, clustering, and spatial localization."
   ]
  },
  {
   "cell_type": "code",
   "execution_count": null,
   "id": "48782a09-1e3f-45d6-83ac-33b244b7e3ab",
   "metadata": {},
   "outputs": [],
   "source": [
    "# Correct Pdgfrb+ Fibroblast\n",
    "adata.obs[\"cell_type\"] = adata.obs[\"cell_type\"].astype(str)\n",
    "condition = adata.obs[\"leiden\"] == \"17\"\n",
    "adata.obs.loc[condition, \"cell_type\"] = \"Fibroblast_Pdgfrb+\""
   ]
  },
  {
   "cell_type": "code",
   "execution_count": null,
   "id": "87594079-1f4f-40b7-8e86-d82eaa88aa36",
   "metadata": {},
   "outputs": [],
   "source": [
    "# Correct ILC labels\n",
    "## Logic: If it's in the vascular endothelial cluster (11) and is not a Pdgfrb+ Fibroblast\n",
    "\n",
    "condition = (adata.obs[\"leiden\"] == \"11\") & (\n",
    "    adata.obs[\"cell_type\"] != \"Fibroblast_Pdgfrb+\"\n",
    ")\n",
    "adata.obs.loc[condition, \"cell_type\"] = \"Vascular Endothelial\""
   ]
  },
  {
   "cell_type": "code",
   "execution_count": null,
   "id": "89d4d4a8-6ee0-4212-87f1-7dd1427c8515",
   "metadata": {},
   "outputs": [],
   "source": [
    "# leiden number 12 is a Fibroblast population\n",
    "condition = adata.obs[\"leiden\"] == \"12\"\n",
    "adata.obs[\"cell_type\"] = (\n",
    "    adata.obs[\"cell_type\"].astype(\"category\").cat.add_categories([\"Fibroblast_2\"])\n",
    ")\n",
    "adata.obs.loc[condition, \"cell_type\"] = \"Fibroblast_2\""
   ]
  },
  {
   "cell_type": "markdown",
   "id": "987f209a-7ec4-496d-b772-15592ebfcfd8",
   "metadata": {},
   "source": [
    "Update `adata.obs['Class']` assignments as well:"
   ]
  },
  {
   "cell_type": "code",
   "execution_count": null,
   "id": "c6a19132-47b7-43f7-9474-0c6f26d25179",
   "metadata": {},
   "outputs": [],
   "source": [
    "adata.obs[\"cell_type\"] = adata.obs[\"cell_type\"].replace({\"Enterocyte_3\": \"Enterocyte_1\"}) \n",
    "adata.obs[\"cell_type\"] = adata.obs[\"cell_type\"].replace({\"Neural_2\": \"Fibroblast\"})\n",
    "adata.obs[\"cell_type\"] = adata.obs[\"cell_type\"].replace({\"Neural_1\": \"Neural\"})"
   ]
  },
  {
   "cell_type": "code",
   "execution_count": null,
   "id": "94bc2128-6a07-4a4d-bd9d-23947dfd174a",
   "metadata": {},
   "outputs": [],
   "source": [
    "adata.obs[\"cell_type\"] = adata.obs[\"cell_type\"].astype(\"category\")\n",
    "adata.obs[\"cell_type\"] = adata.obs[\"cell_type\"].cat.remove_unused_categories()"
   ]
  },
  {
   "cell_type": "code",
   "execution_count": null,
   "id": "f52107ef-c35a-401e-a211-8283d3e361b8",
   "metadata": {},
   "outputs": [],
   "source": [
    "subtype_to_class = {\n",
    "    # Epithelial\n",
    "    \"Enterocyte_1\": \"Epithelial\",\n",
    "    \"Early_enterocyte\": \"Epithelial\",\n",
    "    \"Transit_Amplifying\": \"Epithelial\",\n",
    "    \"Enterocyte_2\": \"Epithelial\",\n",
    "    \"Enterocyte_3\": \"Epithelial\",\n",
    "    \"Mature_goblet\": \"Epithelial\",\n",
    "    \"Immature_goblet\": \"Epithelial\",\n",
    "    \"Paneth\": \"Epithelial\",\n",
    "    \"Enteroendocrine\": \"Epithelial\",\n",
    "    \"Tuft_cell\": \"Epithelial\",\n",
    "    \"ISC\": \"Epithelial\",\n",
    "    # Stromal\n",
    "    \"Myofibroblast\": \"Stromal\",\n",
    "    \"Fibroblast\": \"Stromal\",\n",
    "    \"Fibroblast_2\": \"Stromal\",\n",
    "    \"Resting Fibroblast\": \"Stromal\",\n",
    "    \"Fibroblast_Pdgfrb+\": \"Stromal\",\n",
    "    \"Fibroblast_Pdgfra+\": \"Stromal\",\n",
    "    \"Fibroblast_Ncam1\": \"Stromal\",\n",
    "    \"Complement_Fibroblast\": \"Stromal\",\n",
    "    \"Vascular Endothelial\": \"Stromal\",\n",
    "    \"Lymphatic\": \"Stromal\",\n",
    "    \"SMC_1\": \"Stromal\",\n",
    "    \"SMC_2\": \"Stromal\",\n",
    "    # Immune\n",
    "    \"ILC\": \"Immune\",\n",
    "    \"Macrophage\": \"Immune\",\n",
    "    \"Monocyte\": \"Immune\",\n",
    "    \"B-Cell\": \"Immune\",\n",
    "    \"Cd4_T-Cell\": \"Immune\",\n",
    "    \"Cd8_T-Cell_aa+\": \"Immune\",\n",
    "    \"Cd8_T-Cell_ab+\": \"Immune\",\n",
    "    \"T-Cell\": \"Immune\",\n",
    "    \"T-Cell gd\": \"Immune\",\n",
    "    \"MAIT\": \"Immune\",\n",
    "    \"NK-Cell\": \"Immune\",\n",
    "    \"cDC1\": \"Immune\",\n",
    "    \"DC2\": \"Immune\",\n",
    "    \"Eosinophil\": \"Immune\",\n",
    "    # Neural\n",
    "    \"Neural_1\": \"Neural\",\n",
    "    \"Neural_2\": \"Neural\",\n",
    "}\n",
    "\n",
    "adata.obs[\"Class\"] = adata.obs[\"cell_type\"].map(subtype_to_class)"
   ]
  },
  {
   "cell_type": "markdown",
   "id": "573d9317-4cbd-4c42-9bd3-c328cb480295",
   "metadata": {},
   "source": [
    "## Custom visualization functions"
   ]
  },
  {
   "cell_type": "code",
   "execution_count": null,
   "id": "87e0ab49-6e3d-49f4-9942-0a5e8fd6fe36",
   "metadata": {},
   "outputs": [],
   "source": [
    "def plot_umap_highlight(adata, label_key, groups, size=2, unlabeled=\"lightgray\"):\n",
    "    \"\"\"Plots a UMAP with selected groups highlighted while keeping all others gray.\"\"\"\n",
    "\n",
    "    selected_palette = palette[: len(groups)]\n",
    "\n",
    "    color_dict = {group: color for group, color in zip(groups, selected_palette)}\n",
    "    color_dict.update(\n",
    "        {\n",
    "            label: unlabeled\n",
    "            for label in adata.obs[label_key].astype(str).unique()\n",
    "            if label not in groups\n",
    "        }\n",
    "    )\n",
    "\n",
    "    sc.pl.umap(\n",
    "        adata, color=label_key, palette=color_dict, frameon=False, title=\"\", size=size\n",
    "    )\n",
    "    plt.close()"
   ]
  },
  {
   "cell_type": "code",
   "execution_count": null,
   "id": "335c5ff3-78ca-4a4e-83b6-6b22fa00551a",
   "metadata": {},
   "outputs": [],
   "source": [
    "def plot_spatial_highlight_zoom(\n",
    "    adata, basis, label_key, groups, fov=None, size=50, unlabeled=\"lightgray\"\n",
    "):\n",
    "    \n",
    "    selected_palette = palette[: len(groups)]  # Use a globally defined palette\n",
    "\n",
    "    color_dict = {group: color for group, color in zip(groups, selected_palette)}\n",
    "    color_dict.update(\n",
    "        {\n",
    "            label: unlabeled\n",
    "            for label in adata.obs[label_key].astype(str).unique()\n",
    "            if label not in groups\n",
    "        }\n",
    "    )\n",
    "\n",
    "    fig, ax = plt.subplots(figsize=(8, 8))\n",
    "    sc.pl.embedding(\n",
    "        adata,\n",
    "        basis=basis,\n",
    "        color=label_key,\n",
    "        palette=color_dict,\n",
    "        ax=ax,\n",
    "        show=False,\n",
    "        size=size,\n",
    "        frameon=False,\n",
    "        title=\"\",\n",
    "    )\n",
    "\n",
    "    if fov:\n",
    "        xmin, xmax, ymin, ymax = fov\n",
    "        ax.set_xlim(xmin, xmax)\n",
    "        ax.set_ylim(ymin, ymax)\n",
    "\n",
    "    plt.show()"
   ]
  },
  {
   "cell_type": "code",
   "execution_count": null,
   "id": "0ad020d0-462a-4609-88d0-6ce3f92aa5aa",
   "metadata": {},
   "outputs": [],
   "source": [
    "# high contrast palette\n",
    "palette = [\n",
    "    \"red\",\n",
    "    \"blue\",\n",
    "    \"green\",\n",
    "    \"orange\",\n",
    "    \"cyan\",\n",
    "    \"magenta\",\n",
    "    \"blueviolet\",\n",
    "    \"darkturquoise\",\n",
    "    \"chartreuse\",\n",
    "    \"crimson\",\n",
    "    \"black\",\n",
    "    \"sienna\",\n",
    "    \"navy\",\n",
    "    \"tomato\",\n",
    "]"
   ]
  },
  {
   "cell_type": "markdown",
   "id": "97aba55b-c018-43fc-a682-a62ebd16e3c7",
   "metadata": {},
   "source": [
    "## Visualize cluster-spatial embedding mappings"
   ]
  },
  {
   "cell_type": "markdown",
   "id": "92ff0676-a12c-4041-880d-4be8ccf062ab",
   "metadata": {},
   "source": [
    "This section maps UMAPs in the full anndata (`adata`) and maps the cluster colors to a single control sample (`bdata`) for visual validation of spatially-resolved populations."
   ]
  },
  {
   "cell_type": "code",
   "execution_count": null,
   "id": "e9a25a1b-945e-4d4c-8c32-f520b5eea816",
   "metadata": {},
   "outputs": [],
   "source": [
    "bdata = adata[adata.obs[\"sample_id\"] == \"TIS09472_Control\"].copy()"
   ]
  },
  {
   "cell_type": "code",
   "execution_count": null,
   "id": "800c5fc5-eaa9-4438-811f-cd3a53660a67",
   "metadata": {},
   "outputs": [],
   "source": [
    "epithelial = [\n",
    "    \"Enterocyte_1\",\n",
    "    \"Enterocyte_2\",\n",
    "    \"Early_enterocyte\",\n",
    "    \"ISC\",\n",
    "    \"Mature_goblet\",\n",
    "    \"Immature_goblet\",\n",
    "    \"Paneth\",\n",
    "    \"Transit_Amplifying\",\n",
    "    \"Tuft_cell\",\n",
    "    \"Enteroendocrine\",\n",
    "]\n",
    "\n",
    "plot_umap_highlight(adata, \"cell_type\", epithelial, size=1)"
   ]
  },
  {
   "cell_type": "code",
   "execution_count": null,
   "id": "3eb91b32-70aa-480e-afa0-7453d2e318f6",
   "metadata": {},
   "outputs": [],
   "source": [
    "plot_spatial_highlight_zoom(\n",
    "    bdata,\n",
    "    basis=\"spatial\",\n",
    "    label_key=\"cell_type\",\n",
    "    groups=epithelial,\n",
    "    fov=(5000, 6000, 4000, 5000),  #  xmin, xmax, ymin, ymax\n",
    "    size=175,\n",
    ")"
   ]
  },
  {
   "cell_type": "code",
   "execution_count": null,
   "id": "768880da-9ca9-42c0-b9e6-3718d12f02f4",
   "metadata": {},
   "outputs": [],
   "source": [
    "# Create lists with groups of cells to create spatial embeddings for\n",
    "\n",
    "neuromuscular = [\"SMC_1\", \"SMC_2\", \"Neural_1\"]\n",
    "fibro = [\n",
    "    \"Fibroblast\",\n",
    "    \"Fibroblast_2\",\n",
    "    \"Fibroblast_Ncam1\",\n",
    "    \"Fibroblast_Pdgfra+\",\n",
    "    \"Fibroblast_Pdgfrb+\",\n",
    "    \"Complement_Fibroblast\",\n",
    "    \"Resting Fibroblast\",\n",
    "    \"Myofibroblast\",\n",
    "]\n",
    "vascular = [\"Lymphatic\", \"Vascular Endothelial\"]"
   ]
  },
  {
   "cell_type": "code",
   "execution_count": null,
   "id": "643ece35-a188-401f-8756-e25a87c36dca",
   "metadata": {},
   "outputs": [],
   "source": [
    "plot_umap_highlight(adata, \"cell_type\", neuromuscular)"
   ]
  },
  {
   "cell_type": "code",
   "execution_count": null,
   "id": "72bac79b-6475-43b7-a14e-188a5af9b9dd",
   "metadata": {},
   "outputs": [],
   "source": [
    "plot_spatial_highlight_zoom(\n",
    "    bdata,\n",
    "    basis=\"spatial\",\n",
    "    label_key=\"cell_type\",\n",
    "    groups=neuromuscular,\n",
    "    fov=(5000, 6000, 4000, 5000),  #  xmin, xmax, ymin, ymax\n",
    "    size=200,\n",
    ")"
   ]
  },
  {
   "cell_type": "markdown",
   "id": "690e2569-83b3-4830-95e9-b204a2216b8b",
   "metadata": {},
   "source": [
    "## Export"
   ]
  },
  {
   "cell_type": "markdown",
   "id": "586fe1cd-982b-4540-89e5-1452cbac7d00",
   "metadata": {},
   "source": [
    "Prepare data:"
   ]
  },
  {
   "cell_type": "code",
   "execution_count": null,
   "id": "09087c3f-f8b5-4ddc-a555-6015768b1a6c",
   "metadata": {},
   "outputs": [],
   "source": [
    "def assign_cell_type_colors(adata, key=\"cell_type\"):\n",
    "    \"\"\"Assigns a HUSL color palette to a categorical obs field.\"\"\"\n",
    "    adata.obs[key] = adata.obs[key].astype(\"category\")\n",
    "    num_categories = len(adata.obs[key].cat.categories)\n",
    "\n",
    "    palette = sns.color_palette(\"husl\", n_colors=num_categories)\n",
    "    adata.uns[f\"{key}_colors\"] = [mcolors.to_hex(c) for c in palette]\n",
    "\n",
    "    print(f\"Assigned {num_categories} HUSL colors for `{key}`.\")\n",
    "\n",
    "assign_cell_type_colors(adata, key=\"cell_type\")"
   ]
  },
  {
   "cell_type": "code",
   "execution_count": null,
   "id": "10ae76d4-dcb5-4928-9f41-424db0126332",
   "metadata": {},
   "outputs": [],
   "source": [
    "plt.rcParams[\"figure.figsize\"] = (8, 8)\n",
    "sc.pl.umap(adata, color=\"cell_type\", frameon=False, size=0.75)"
   ]
  },
  {
   "cell_type": "markdown",
   "id": "53c151eb-0757-49d0-ae41-8e65de7e71a5",
   "metadata": {},
   "source": [
    "Export:"
   ]
  },
  {
   "cell_type": "code",
   "execution_count": null,
   "id": "dd31642c-077b-4448-9147-8079922ba5a6",
   "metadata": {},
   "outputs": [],
   "source": [
    "filename = os.path.join(output_dir, \"adata-scanvi-labels-refined.h5ad\")"
   ]
  },
  {
   "cell_type": "code",
   "execution_count": null,
   "id": "24649652-b6b0-4989-8ee5-a530ba00cefc",
   "metadata": {},
   "outputs": [],
   "source": [
    "adata.write_h5ad(filename, compression=\"gzip\")"
   ]
  }
 ],
 "metadata": {
  "kernelspec": {
   "display_name": "sc-spatial",
   "language": "python",
   "name": "sc-spatial"
  },
  "language_info": {
   "codemirror_mode": {
    "name": "ipython",
    "version": 3
   },
   "file_extension": ".py",
   "mimetype": "text/x-python",
   "name": "python",
   "nbconvert_exporter": "python",
   "pygments_lexer": "ipython3",
   "version": "3.12.2"
  }
 },
 "nbformat": 4,
 "nbformat_minor": 5
}
