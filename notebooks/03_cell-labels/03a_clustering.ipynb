{
 "cells": [
  {
   "cell_type": "markdown",
   "id": "d1a386e7-f3a7-4602-957d-c76a575dadb6",
   "metadata": {},
   "source": [
    "# Leiden clustering\n",
    "\n",
    "**Pinned Environment:** [`envs/sc-spatial.yaml`](../../envs/sc-spatial.yaml)"
   ]
  },
  {
   "cell_type": "code",
   "execution_count": null,
   "id": "a4bc9855-d681-40b2-8b13-dceb9f374019",
   "metadata": {},
   "outputs": [],
   "source": [
    "import os\n",
    "import sys\n",
    "from pathlib import Path\n",
    "import scanpy as sc\n",
    "import matplotlib.pyplot as plt\n",
    "import session_info"
   ]
  },
  {
   "cell_type": "code",
   "execution_count": null,
   "id": "56e806e5-d53c-453a-b23c-f507a4aafaa4",
   "metadata": {},
   "outputs": [],
   "source": [
    "plt.rcParams[\"figure.figsize\"] = (4, 4)"
   ]
  },
  {
   "cell_type": "markdown",
   "id": "29af4d30-761f-48da-b9ec-854158c942a1",
   "metadata": {},
   "source": [
    "## Import data"
   ]
  },
  {
   "cell_type": "code",
   "execution_count": null,
   "id": "0aaf54fb-c191-4360-a43e-585fc133a7e1",
   "metadata": {},
   "outputs": [],
   "source": [
    "sys.path.append(str(Path.cwd().resolve().parents[1]))\n",
    "\n",
    "from config.paths import BASE_DIR\n",
    "\n",
    "input_dir = BASE_DIR / \"data/h5ad/export_02\"\n",
    "output_dir = BASE_DIR / \"data/h5ad/export_03\"\n",
    "\n",
    "output_dir.mkdir(parents=True, exist_ok=True)"
   ]
  },
  {
   "cell_type": "code",
   "execution_count": null,
   "id": "dd31eed1-ff1b-472f-b585-4ff74973ad47",
   "metadata": {},
   "outputs": [],
   "source": [
    "adata = sc.read_h5ad(os.path.join(input_dir, \"artis-naive-scvi.h5ad\"))"
   ]
  },
  {
   "cell_type": "code",
   "execution_count": null,
   "id": "3927c3c4-e4b7-4b40-a10a-d75fe112d70a",
   "metadata": {},
   "outputs": [],
   "source": [
    "sample_to_group = {\n",
    "    \"TIS09473_Control\": \"Control\",\n",
    "    \"TIS09471_Control\": \"Control\",\n",
    "    \"TIS09472_Control\": \"Control\",\n",
    "    \"TIS09475_Trpv1+\": \"Trpv1-cre\",\n",
    "    \"TIS09474_Trpv1+\": \"Trpv1-cre\",\n",
    "    \"TIS09476_Trpv1+\": \"Trpv1-cre\",\n",
    "}\n",
    "adata.obs[\"group\"] = adata.obs[\"sample_id\"].map(sample_to_group)\n",
    "\n",
    "adata.obs.group.value_counts()"
   ]
  },
  {
   "cell_type": "markdown",
   "id": "94787809-ba26-41b8-aba5-0923b274c59a",
   "metadata": {},
   "source": [
    "## Neighbors, UMAP"
   ]
  },
  {
   "cell_type": "code",
   "execution_count": null,
   "id": "734f3e8d-5a1e-4d46-b8a5-5247871daaed",
   "metadata": {},
   "outputs": [],
   "source": [
    "sc.pp.neighbors(adata, use_rep = 'X_scVI', random_state = 0)\n",
    "sc.tl.umap(adata, random_state = 0)"
   ]
  },
  {
   "cell_type": "markdown",
   "id": "7426fdab-6184-4883-ad71-0ea9183e62f0",
   "metadata": {},
   "source": [
    "# Leiden Clustering"
   ]
  },
  {
   "cell_type": "code",
   "execution_count": null,
   "id": "ee4f144a-ac40-4f9e-8ede-d0c3efc55be4",
   "metadata": {},
   "outputs": [],
   "source": [
    "sc.tl.leiden(adata, resolution=1.2, key_added=\"leiden\")"
   ]
  },
  {
   "cell_type": "code",
   "execution_count": null,
   "id": "b4eef506-440c-4779-88ae-f90aeef3dd17",
   "metadata": {},
   "outputs": [],
   "source": [
    "sc.pl.umap(adata, color=\"leiden\")"
   ]
  },
  {
   "cell_type": "markdown",
   "id": "f3128917-52da-40f5-a9b5-67ebf754d1f8",
   "metadata": {},
   "source": [
    "## Subcluster ISC and SMC"
   ]
  },
  {
   "cell_type": "code",
   "execution_count": null,
   "id": "bb1b9cc9-b806-4eda-b1be-c4ea9e829ad0",
   "metadata": {},
   "outputs": [],
   "source": [
    "adata.obs[\"subcluster_mapping\"] = adata.obs[\"leiden\"].copy()"
   ]
  },
  {
   "cell_type": "code",
   "execution_count": null,
   "id": "9f645976-eea1-4cdb-aeef-b5df6b4cc2d5",
   "metadata": {},
   "outputs": [],
   "source": [
    "bdata = adata[adata.obs[\"leiden\"] == \"5\"].copy()  # SMC\n",
    "cdata = adata[adata.obs[\"leiden\"] == \"4\"].copy()  # ISC"
   ]
  },
  {
   "cell_type": "code",
   "execution_count": null,
   "id": "9da2f456-4454-42c9-8419-f10030404707",
   "metadata": {},
   "outputs": [],
   "source": [
    "sc.pp.neighbors(bdata, use_rep=\"X_scVI\")\n",
    "sc.tl.umap(bdata)\n",
    "sc.tl.leiden(bdata, resolution=0.2, key_added=\"bdata_subcluster\")\n",
    "\n",
    "sc.pp.neighbors(cdata, use_rep=\"X_scVI\")\n",
    "sc.tl.umap(cdata)\n",
    "sc.tl.leiden(cdata, resolution=0.2, key_added=\"cdata_subcluster\")"
   ]
  },
  {
   "cell_type": "markdown",
   "id": "c0a9da48-e71d-4682-9e78-d696ecf027b9",
   "metadata": {},
   "source": [
    "Label subclusters:"
   ]
  },
  {
   "cell_type": "code",
   "execution_count": null,
   "id": "2e283f0c-b533-4766-befd-6f0325f1b596",
   "metadata": {},
   "outputs": [],
   "source": [
    "# Smooth muscle cells\n",
    "bdata_cluster_names = {\n",
    "    \"0\": \"SMC_1\",\n",
    "    \"1\": \"SMC_2\",\n",
    "}\n",
    "\n",
    "bdata.obs[\"bdata_subcluster\"] = bdata.obs[\"bdata_subcluster\"].map(bdata_cluster_names)\n",
    "sc.pl.umap(bdata, color=\"bdata_subcluster\")"
   ]
  },
  {
   "cell_type": "code",
   "execution_count": null,
   "id": "fee364b9-d809-4e07-b760-56c62414c3f1",
   "metadata": {},
   "outputs": [],
   "source": [
    "# Intestinal stem cells and Paneth cells (crypt co-localization)\n",
    "cdata_cluster_names = {\n",
    "    \"0\": \"Paneth\",\n",
    "    \"1\": \"ISC\",\n",
    "}\n",
    "\n",
    "cdata.obs[\"cdata_subcluster\"] = cdata.obs[\"cdata_subcluster\"].map(cdata_cluster_names)\n",
    "sc.pl.umap(cdata, color=[\"cdata_subcluster\", \"Lyz2\"])"
   ]
  },
  {
   "cell_type": "markdown",
   "id": "59fd1381-ece6-484d-9ec4-4aed60a81e5d",
   "metadata": {},
   "source": [
    "Map subclusters back onto original `adata`:"
   ]
  },
  {
   "cell_type": "code",
   "execution_count": null,
   "id": "970dccd6-550e-4097-a67f-7ffa08385b9e",
   "metadata": {},
   "outputs": [],
   "source": [
    "adata.obs[\"subcluster_mapping\"] = \"Other\"  # Initialize all as \"Other\"\n",
    "\n",
    "adata.obs.loc[bdata.obs.index, \"subcluster_mapping\"] = bdata.obs[\"bdata_subcluster\"]\n",
    "adata.obs.loc[cdata.obs.index, \"subcluster_mapping\"] = cdata.obs[\"cdata_subcluster\"]"
   ]
  },
  {
   "cell_type": "code",
   "execution_count": null,
   "id": "ce47e4c4-25af-42b5-8a73-3c88cfb74ea4",
   "metadata": {},
   "outputs": [],
   "source": [
    "sc.pl.umap(adata, color=\"subcluster_mapping\")"
   ]
  },
  {
   "cell_type": "markdown",
   "id": "81c84546-c5c3-4090-a6f8-0492efe90880",
   "metadata": {},
   "source": [
    "## Export"
   ]
  },
  {
   "cell_type": "code",
   "execution_count": null,
   "id": "b2c5881f-5e5f-4732-b0fd-2cbdfaea9bd6",
   "metadata": {},
   "outputs": [],
   "source": [
    "filename = os.path.join(output_dir, \"artis-naive-scvi-leiden.h5ad\")"
   ]
  },
  {
   "cell_type": "code",
   "execution_count": null,
   "id": "1e27adfd-f2b2-4fd9-b4c2-35c539103931",
   "metadata": {},
   "outputs": [],
   "source": [
    "adata.write_h5ad(filename, compression=\"gzip\")"
   ]
  }
 ],
 "metadata": {
  "kernelspec": {
   "display_name": "sc-spatial",
   "language": "python",
   "name": "sc-spatial"
  },
  "language_info": {
   "codemirror_mode": {
    "name": "ipython",
    "version": 3
   },
   "file_extension": ".py",
   "mimetype": "text/x-python",
   "name": "python",
   "nbconvert_exporter": "python",
   "pygments_lexer": "ipython3",
   "version": "3.12.2"
  }
 },
 "nbformat": 4,
 "nbformat_minor": 5
}
