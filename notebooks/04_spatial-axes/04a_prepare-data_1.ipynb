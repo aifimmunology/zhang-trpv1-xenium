{
 "cells": [
  {
   "cell_type": "markdown",
   "id": "89f8f833-a1bc-4d14-b21a-e6053e3e3dbc",
   "metadata": {},
   "source": [
    "# Prepare data"
   ]
  },
  {
   "cell_type": "markdown",
   "id": "fb92fc30-1c7d-4b9c-8bcd-a0a5e5390fcd",
   "metadata": {},
   "source": [
    "Prepares current (`adata`) and reference (`refdata`) datasets for spatial decomposition modeling along the crypt-villus axis.\n",
    "\n",
    "**Pinned Environment:** [`envs/sc-cv_axis.yaml`](../../envs/sc-cv_axis.yaml)"
   ]
  },
  {
   "cell_type": "code",
   "execution_count": null,
   "id": "9fb62419-0df4-47a8-abff-2d82757bde01",
   "metadata": {},
   "outputs": [],
   "source": [
    "import os\n",
    "import sys\n",
    "from pathlib import Path\n",
    "import scanpy as sc\n",
    "from scipy.sparse import csr_matrix"
   ]
  },
  {
   "cell_type": "code",
   "execution_count": null,
   "id": "37430406-a30a-4322-a71f-614aab93de0d",
   "metadata": {},
   "outputs": [],
   "source": [
    "sys.path.append(str(Path.cwd().resolve().parents[1]))\n",
    "\n",
    "from config.paths import BASE_DIR, REF_CV_AXIS\n",
    "\n",
    "base_dir = BASE_DIR\n",
    "ref_h5ad = REF_CV_AXIS\n",
    "\n",
    "input_data = base_dir / \"data/h5ad/export_07/adata-scanvi-labels-refined.h5ad\"\n",
    "h5ad_out = base_dir / \"axes/cv\"\n",
    "\n",
    "h5ad_out.mkdir(parents=True, exist_ok=True)"
   ]
  },
  {
   "cell_type": "code",
   "execution_count": null,
   "id": "5ab9ff23-a32b-4f4f-8846-e0bf6dd6121b",
   "metadata": {},
   "outputs": [],
   "source": [
    "adata = sc.read_h5ad(input_data)\n",
    "refdata = sc.read(ref_h5ad)"
   ]
  },
  {
   "cell_type": "markdown",
   "id": "7e1ae718-803d-42f5-b925-9390a14eae9f",
   "metadata": {},
   "source": [
    "## Use the log1p counts layer for spatial decomposition"
   ]
  },
  {
   "cell_type": "code",
   "execution_count": null,
   "id": "adda2c15-9ab8-4d78-b379-66b7a35616d4",
   "metadata": {},
   "outputs": [],
   "source": [
    "refdata.X = csr_matrix(refdata.X)"
   ]
  },
  {
   "cell_type": "code",
   "execution_count": null,
   "id": "b26fd62c-1845-460d-a541-df8907401fca",
   "metadata": {},
   "outputs": [],
   "source": [
    "refdata.layers[\"counts\"] = refdata.X.copy()\n",
    "sc.pp.normalize_total(refdata, target_sum=1e6)\n",
    "refdata.layers[\"normalized_1e6\"] = refdata.X.copy()\n",
    "sc.pp.log1p(refdata)\n",
    "refdata.layers[\"log1p\"] = refdata.X.copy()\n",
    "refdata.raw = refdata.copy()  # freeze log1p in raw slot"
   ]
  },
  {
   "cell_type": "markdown",
   "id": "e26d359c-99a3-43a2-9e83-e643a28f5e50",
   "metadata": {},
   "source": [
    "## Remove old spatial topics from previous study"
   ]
  },
  {
   "cell_type": "code",
   "execution_count": null,
   "id": "e70d36f1-b400-4c08-b16b-4daea9e7ef93",
   "metadata": {},
   "outputs": [],
   "source": [
    "topic_cols = [\n",
    "    col for col in refdata.obs.columns if col.startswith(\"Topic \") or col == \"topic\"\n",
    "]\n",
    "refdata.obs.drop(columns=topic_cols, inplace=True)"
   ]
  },
  {
   "cell_type": "markdown",
   "id": "94f59812-b011-41b0-9b54-048d5a59bf93",
   "metadata": {},
   "source": [
    "## Create class column for Spatial Decomposition"
   ]
  },
  {
   "cell_type": "markdown",
   "id": "18fb8d21-ae32-4424-b3e9-267c1ae14e42",
   "metadata": {},
   "source": [
    "Ensure same `adata.obs['Class']` groupings between `adata` and `refdata`. Spatial decomposition will just be performed on cell types not in spatial flux (i.e. Epithelial, Stromal), and immune cells will be excluded as they are less informative for CV axis calculations."
   ]
  },
  {
   "cell_type": "code",
   "execution_count": null,
   "id": "094206e8-3b70-41bb-aa59-b39a22135a19",
   "metadata": {},
   "outputs": [],
   "source": [
    "# Create a table to inspect cell count tallies\n",
    "subtype_grouping = refdata.obs.groupby(\"Class\")[\"Subtype\"].value_counts()\n",
    "subtype_grouping_df = subtype_grouping.reset_index()\n",
    "subtype_grouping_df.columns = [\"Class\", \"Subtype\", \"Count\"]\n",
    "subtype_grouping_df = subtype_grouping_df[subtype_grouping_df[\"Count\"] > 0]\n",
    "subtype_grouping_df"
   ]
  },
  {
   "cell_type": "markdown",
   "id": "b2627e5d-3800-40c9-b9a0-c80d5bd8dd87",
   "metadata": {},
   "source": [
    "Create a subtype to class mapping to identify major cellular compartments:"
   ]
  },
  {
   "cell_type": "code",
   "execution_count": null,
   "id": "a2a57102-e39c-4349-a0c7-f6f3b1d92bd8",
   "metadata": {},
   "outputs": [],
   "source": [
    "subtype_to_class = {\n",
    "    # Epithelial\n",
    "    \"Enterocyte_1\": \"Epithelial\",\n",
    "    \"Early_enterocyte\": \"Epithelial\",\n",
    "    \"Transit_Amplifying\": \"Epithelial\",\n",
    "    \"Enterocyte_2\": \"Epithelial\",\n",
    "    \"Mature_goblet\": \"Epithelial\",\n",
    "    \"Immature_goblet\": \"Epithelial\",\n",
    "    \"Paneth\": \"Epithelial\",\n",
    "    \"Enteroendocrine\": \"Epithelial\",\n",
    "    \"Tuft_cell\": \"Epithelial\",\n",
    "    \"ISC\": \"Epithelial\",\n",
    "    # Stromal\n",
    "    \"Myofibroblast\": \"Stromal\",\n",
    "    \"Fibroblast\": \"Stromal\",\n",
    "    \"Resting Fibroblast\": \"Stromal\",\n",
    "    \"Fibroblast_Pdgfrb+\": \"Stromal\",\n",
    "    \"Fibroblast_Pdgfra+\": \"Stromal\",\n",
    "    \"Fibroblast_Ncam1\": \"Stromal\",\n",
    "    \"Complement_Fibroblast\": \"Stromal\",\n",
    "    \"Vascular Endothelial\": \"Stromal\",\n",
    "    \"Lymphatic\": \"Stromal\",\n",
    "    \"SMC_1\": \"Stromal\",\n",
    "    \"SMC_2\": \"Stromal\",\n",
    "    # Immune\n",
    "    \"ILC\": \"Immune\",\n",
    "    \"Macrophage\": \"Immune\",\n",
    "    \"Monocyte\": \"Immune\",\n",
    "    \"B-Cell\": \"Immune\",\n",
    "    \"Cd4_T-Cell\": \"Immune\",\n",
    "    \"Cd8_T-Cell_aa+\": \"Immune\",\n",
    "    \"Cd8_T-Cell_ab+\": \"Immune\",\n",
    "    \"T-Cell\": \"Immune\",\n",
    "    \"T-Cell gd\": \"Immune\",\n",
    "    \"MAIT\": \"Immune\",\n",
    "    \"NK-Cell\": \"Immune\",\n",
    "    \"cDC1\": \"Immune\",\n",
    "    \"DC2\": \"Immune\",\n",
    "    \"Eosinophil\": \"Immune\",\n",
    "    # Neural\n",
    "    \"Neural_1\": \"Neural\",\n",
    "    \"Neural_2\": \"Neural\",\n",
    "}\n",
    "\n",
    "adata.obs[\"Class\"] = adata.obs[\"cell_type\"].map(subtype_to_class)"
   ]
  },
  {
   "cell_type": "markdown",
   "id": "0fa799b0-3e8d-4d2c-84af-a07e5cb4d1bb",
   "metadata": {},
   "source": [
    "## Find gene panel intersection"
   ]
  },
  {
   "cell_type": "code",
   "execution_count": null,
   "id": "764e9070-6fbb-4ecc-bddd-68a96be4af80",
   "metadata": {},
   "outputs": [],
   "source": [
    "common_genes = list(set(adata.var_names) & set(refdata.var_names))\n",
    "len(common_genes)"
   ]
  },
  {
   "cell_type": "code",
   "execution_count": null,
   "id": "f9618bc0-e61d-42c5-9c43-fcb7e51a2206",
   "metadata": {},
   "outputs": [],
   "source": [
    "adata_subset = adata[:, common_genes].copy()\n",
    "refdata_subset = refdata[:, common_genes].copy()"
   ]
  },
  {
   "cell_type": "code",
   "execution_count": null,
   "id": "b27bc434-35cb-4e81-a09f-d7c19741aa1d",
   "metadata": {},
   "outputs": [],
   "source": [
    "# Summary\n",
    "print(f\"adata before subsetting: {adata.shape[1]}\")\n",
    "print(f\"adata after subsetting: {adata_subset.shape[1]}\")\n",
    "print(f\"refdata before subsetting: {refdata.shape[1]}\")\n",
    "print(f\"refdata after subsetting: {refdata_subset.shape[1]}\")"
   ]
  },
  {
   "cell_type": "code",
   "execution_count": null,
   "id": "85f64adf-5afc-4250-b084-089a4f45d665",
   "metadata": {},
   "outputs": [],
   "source": [
    "index_match = (adata_subset.var_names == refdata_subset.var_names).all()\n",
    "print(f\"adata.var_names match: {index_match}\")"
   ]
  },
  {
   "cell_type": "code",
   "execution_count": null,
   "id": "7cc01ebd-6848-4f68-8101-728bfc2c24dc",
   "metadata": {},
   "outputs": [],
   "source": [
    "refdata = refdata_subset.copy()\n",
    "adata = adata_subset.copy()\n",
    "\n",
    "print(f\"refdata # genes: {refdata.shape[1]}\")\n",
    "print(f\"adata # genes: {adata.shape[1]}\")"
   ]
  },
  {
   "cell_type": "markdown",
   "id": "25b5ec2c-db43-479f-b6fc-a8cbbd2a8e3b",
   "metadata": {},
   "source": [
    "### Create X_spatial entry in adata.obsm"
   ]
  },
  {
   "cell_type": "code",
   "execution_count": null,
   "id": "b49c1e62-adf9-4a57-b54f-de23e4d78c2a",
   "metadata": {},
   "outputs": [],
   "source": [
    "adata.obsm[\"X_spatial\"] = adata.obsm[\"spatial\"].copy()"
   ]
  },
  {
   "cell_type": "markdown",
   "id": "dc5891d0-9fea-4df9-a57c-7e6219e9988c",
   "metadata": {},
   "source": [
    "## Export"
   ]
  },
  {
   "cell_type": "code",
   "execution_count": null,
   "id": "6d7b3b4e-45e5-44b7-9eb8-6fc9a641057b",
   "metadata": {},
   "outputs": [],
   "source": [
    "adata.write(os.path.join(h5ad_out, \"01_adata-prepped.h5ad\"))\n",
    "refdata.write(os.path.join(h5ad_out, \"01_refdata-prepped.h5ad\"))"
   ]
  }
 ],
 "metadata": {
  "kernelspec": {
   "display_name": "Python (sc-cv_axis)",
   "language": "python",
   "name": "sc-xsp"
  },
  "language_info": {
   "codemirror_mode": {
    "name": "ipython",
    "version": 3
   },
   "file_extension": ".py",
   "mimetype": "text/x-python",
   "name": "python",
   "nbconvert_exporter": "python",
   "pygments_lexer": "ipython3",
   "version": "3.10.16"
  }
 },
 "nbformat": 4,
 "nbformat_minor": 5
}
