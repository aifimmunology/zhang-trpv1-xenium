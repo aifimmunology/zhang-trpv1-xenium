{
 "cells": [
  {
   "cell_type": "markdown",
   "id": "e20f35f0-fb70-40cd-93ec-4ad7adae5f76",
   "metadata": {},
   "source": [
    "# Map Crypt-Villus Axis Predictions\n",
    "\n",
    "Merges crypt-villus axis (CVA) predictions back into the full Xenium `AnnData` object.\n",
    "\n",
    "**Pinned Environment:** [`envs/sc-cv_axis.yaml`](../../envs/sc-cv_axis.yaml)  "
   ]
  },
  {
   "cell_type": "code",
   "execution_count": null,
   "id": "218f4f22-bd3d-464b-96b3-a3368bddaf5c",
   "metadata": {},
   "outputs": [],
   "source": [
    "from pathlib import Path\n",
    "import scanpy as sc"
   ]
  },
  {
   "cell_type": "code",
   "execution_count": null,
   "id": "1a95b3c6-5888-483c-8ec7-8159db648ff6",
   "metadata": {},
   "outputs": [],
   "source": [
    "sys.path.append(str(Path.cwd().resolve().parents[1]))\n",
    "\n",
    "from config.paths import BASE_DIR\n",
    "\n",
    "h5ad_dir = BASE_DIR / \"data/h5ad/export_09\"\n",
    "all_genes_adata = BASE_DIR / \"data/h5ad/export_07/adata-scanvi-labels-refined.h5ad\"\n",
    "intersection_adata = h5ad_dir / \"cv_calculated-adata.h5ad\"\n",
    "\n",
    "output_file = h5ad_dir / \"cv_calculated-all-genes.h5ad\""
   ]
  },
  {
   "cell_type": "code",
   "execution_count": null,
   "id": "1108eb78-b7bb-41af-b2c5-2d2271089cc8",
   "metadata": {},
   "outputs": [],
   "source": [
    "adata = sc.read_h5ad(all_genes_adata_path)\n",
    "bdata = sc.read_h5ad(intersection_adata_path)"
   ]
  },
  {
   "cell_type": "markdown",
   "id": "f1ced6ef-6ada-49e7-9239-ce25c32e7d46",
   "metadata": {},
   "source": [
    "### Transfer axis"
   ]
  },
  {
   "cell_type": "code",
   "execution_count": null,
   "id": "625083b6-0edb-48f5-85a4-332fe9974095",
   "metadata": {},
   "outputs": [],
   "source": [
    "adata.obs[\"crypt_villus_axis\"] = bdata.obs[\"crypt_villi_axis\"].values\n",
    "adata.obs.crypt_villus_axis"
   ]
  },
  {
   "cell_type": "markdown",
   "id": "a1054053-7cff-459f-8b43-68221ace5df7",
   "metadata": {},
   "source": [
    "### Export"
   ]
  },
  {
   "cell_type": "code",
   "execution_count": null,
   "id": "a13baa26-0213-40be-a1e8-f141ba20626e",
   "metadata": {},
   "outputs": [],
   "source": [
    "adata.write_h5ad(output_file, compression=\"gzip\")"
   ]
  }
 ],
 "metadata": {
  "kernelspec": {
   "display_name": "Python (sc-cv_axis)",
   "language": "python",
   "name": "sc-xsp"
  },
  "language_info": {
   "codemirror_mode": {
    "name": "ipython",
    "version": 3
   },
   "file_extension": ".py",
   "mimetype": "text/x-python",
   "name": "python",
   "nbconvert_exporter": "python",
   "pygments_lexer": "ipython3",
   "version": "3.10.16"
  }
 },
 "nbformat": 4,
 "nbformat_minor": 5
}
