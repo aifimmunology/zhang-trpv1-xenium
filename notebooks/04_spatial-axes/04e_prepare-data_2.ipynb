{
 "cells": [
  {
   "cell_type": "markdown",
   "id": "47cd973e-b4fc-49d0-8b99-cc0a2a57a367",
   "metadata": {},
   "source": [
    "# Prepare data for downstream analyses\n",
    "\n",
    "Processes `AnnData` with initial CVA predictions, preparing it for downstream analysis and figure generation. Min-max scaling is applied for axis normalization.\n",
    "\n",
    "**Pinned Environment:** [`envs/sc-spatial.yaml`](../../envs/sc-spatial.yaml)  "
   ]
  },
  {
   "cell_type": "code",
   "execution_count": null,
   "id": "3f48772d-65d7-4a0e-b570-335c57f955b5",
   "metadata": {},
   "outputs": [],
   "source": [
    "import os\n",
    "from pathlib import Path\n",
    "import scanpy as sc\n",
    "import matplotlib.pyplot as plt\n",
    "import numpy as np\n",
    "import matplotlib.colors as clr\n",
    "from scipy.spatial import KDTree\n",
    "import matplotlib.cm as cm\n",
    "from matplotlib.colors import Normalize\n",
    "import sys"
   ]
  },
  {
   "cell_type": "code",
   "execution_count": null,
   "id": "cd2299cd-7bc5-49a8-bae7-6e9df98888c6",
   "metadata": {},
   "outputs": [],
   "source": [
    "sys.path.append(str(Path.cwd().resolve().parents[1]))\n",
    "\n",
    "from config.paths import BASE_DIR\n",
    "\n",
    "h5ad_dir = BASE_DIR / \"data/h5ad/export_10\"\n",
    "input_file = h5ad_dir / \"resolvi-corrected.h5ad\"\n",
    "output_file = h5ad_dir / \"resolvi-corrected-prepped.h5ad\"\n",
    "\n",
    "h5ad_dir.mkdir(parents=True, exist_ok=True)\n",
    "\n",
    "# Note: ResolVI-adjusted data were tested but not used in the final manuscript."
   ]
  },
  {
   "cell_type": "code",
   "execution_count": null,
   "id": "e7a8b766-6481-459b-a987-09c4c388c972",
   "metadata": {},
   "outputs": [],
   "source": [
    "adata = sc.read_h5ad(input_file)"
   ]
  },
  {
   "cell_type": "markdown",
   "id": "dea0a9c8-3de9-4864-a193-94e1eca5869d",
   "metadata": {},
   "source": [
    "### Custom plotting function"
   ]
  },
  {
   "cell_type": "code",
   "execution_count": null,
   "id": "18a390b8-dba5-467f-9d1b-f499c29fcbe7",
   "metadata": {},
   "outputs": [],
   "source": [
    "def plot_spatial_highlight_zoom(\n",
    "    adata, basis, label_key, fov=None, size=50, palette=\"viridis\", vmin=-0.5, vmax=0.5\n",
    "):\n",
    "\n",
    "    # Extract spatial coordinates and continuous values\n",
    "    x_coords = adata.obsm[basis][:, 0]\n",
    "    y_coords = adata.obsm[basis][:, 1]\n",
    "    continuous_values = adata.obs[label_key].values\n",
    "\n",
    "    # Clip the values to focus on the desired range (using dynamic vmin and vmax)\n",
    "    continuous_values_clipped = np.clip(continuous_values, vmin, vmax)\n",
    "\n",
    "    # Normalize values to fit colormap range\n",
    "    norm = Normalize(vmin=vmin, vmax=vmax)\n",
    "\n",
    "    # Get the colormap (use Zissou palette or specified palette)\n",
    "    if palette == \"zissou\":\n",
    "        cmap = zissou_colormap\n",
    "    else:\n",
    "        cmap = cm.get_cmap(palette)\n",
    "\n",
    "    # Convert normalized values to RGBA colors\n",
    "    colors = cmap(norm(continuous_values_clipped))\n",
    "\n",
    "    # Create figure and axis\n",
    "    fig, ax = plt.subplots(figsize=(6, 2))  # 10,10\n",
    "\n",
    "    # Scatter plot with color mapping\n",
    "    ax.scatter(x_coords, y_coords, c=colors, s=size, edgecolors=\"none\", alpha=0.85)\n",
    "\n",
    "    # Add colorbar\n",
    "    sm = cm.ScalarMappable(cmap=cmap, norm=norm)\n",
    "    sm.set_array([])\n",
    "    cbar = plt.colorbar(sm, ax=ax, fraction=0.02, pad=0.04)\n",
    "    cbar.set_label(label_key, fontsize=12)\n",
    "\n",
    "    # Apply zooming if FOV is provided\n",
    "    if fov:\n",
    "        xmin, xmax, ymin, ymax = fov\n",
    "        ax.set_xlim(xmin, xmax)\n",
    "        ax.set_ylim(ymin, ymax)\n",
    "\n",
    "    # Remove spines, ticks, labels\n",
    "    ax.set_xticks([])\n",
    "    ax.set_yticks([])\n",
    "    ax.set_xticklabels([])\n",
    "    ax.set_yticklabels([])\n",
    "    ax.spines[\"top\"].set_visible(False)\n",
    "    ax.spines[\"right\"].set_visible(False)\n",
    "    ax.spines[\"left\"].set_visible(False)\n",
    "    ax.spines[\"bottom\"].set_visible(False)\n",
    "\n",
    "    ax.set_xlabel(\"\")\n",
    "    ax.set_ylabel(\"\")\n",
    "    ax.set_title(\"\")\n",
    "\n",
    "    plt.show()"
   ]
  },
  {
   "cell_type": "code",
   "execution_count": null,
   "id": "6d22bcae-5392-40ef-a903-0830405c1938",
   "metadata": {},
   "outputs": [],
   "source": [
    "zissou = [\n",
    "    \"#3A9AB2\",\n",
    "    \"#6FB2C1\",\n",
    "    \"#91BAB6\",\n",
    "    \"#A5C2A3\",\n",
    "    \"#BDC881\",\n",
    "    \"#DCCB4E\",\n",
    "    \"#E3B710\",\n",
    "    \"#E79805\",\n",
    "    \"#EC7A05\",\n",
    "    \"#EF5703\",\n",
    "    \"#F11B00\",\n",
    "]\n",
    "zissou_colormap = clr.LinearSegmentedColormap.from_list(\"Zissou\", zissou)\n"
   ]
  },
  {
   "cell_type": "markdown",
   "id": "b1fb2c9d-370b-4704-87d1-e4d2c15e6712",
   "metadata": {},
   "source": [
    "Prepare data for plotting to visually validate CV axis scores and effects of scaling:"
   ]
  },
  {
   "cell_type": "code",
   "execution_count": null,
   "id": "87197813-dfd0-411a-82e4-0480afeb9f24",
   "metadata": {},
   "outputs": [],
   "source": [
    "cdata = adata[adata.obs[\"sample_id\"] == \"TIS09472_Control\"].copy()"
   ]
  },
  {
   "cell_type": "markdown",
   "id": "2a636ed9-8cf5-41c1-9ddd-45257e97f8e7",
   "metadata": {},
   "source": [
    "## Crypt-villus axis scaling"
   ]
  },
  {
   "cell_type": "markdown",
   "id": "a45dbe37-3e3f-4be9-bc6c-e5cf05d48e5d",
   "metadata": {},
   "source": [
    "Before scaling:"
   ]
  },
  {
   "cell_type": "code",
   "execution_count": null,
   "id": "5c219715-f24a-492f-acb0-e685ccfc1a5a",
   "metadata": {},
   "outputs": [],
   "source": [
    "plot_spatial_highlight_zoom(\n",
    "    cdata,\n",
    "    basis=\"spatial\",\n",
    "    label_key=\"crypt_villus_axis\",\n",
    "    fov=(2916, 4321, 5200, 5700),\n",
    "    size=10,\n",
    "    palette=\"zissou\",\n",
    "    vmin=0,\n",
    "    vmax=1,\n",
    ")"
   ]
  },
  {
   "cell_type": "markdown",
   "id": "19e42862-4a4d-4b98-ba7a-b0221e463c05",
   "metadata": {},
   "source": [
    "Perform scaling:"
   ]
  },
  {
   "cell_type": "code",
   "execution_count": null,
   "id": "54a7c209-da84-4367-ab81-438110d9f815",
   "metadata": {},
   "outputs": [],
   "source": [
    "# This performs min-max scaling per entire dataset\n",
    "adata.obs[\"crypt_villus_axis_scaled\"] = (\n",
    "    adata.obs[\"crypt_villus_axis\"] - adata.obs[\"crypt_villus_axis\"].min()\n",
    ") / (adata.obs[\"crypt_villus_axis\"].max() - adata.obs[\"crypt_villus_axis\"].min())"
   ]
  },
  {
   "cell_type": "markdown",
   "id": "b506b762-a7fd-4306-a7d3-cd2a4acf69b6",
   "metadata": {},
   "source": [
    "After scaling:"
   ]
  },
  {
   "cell_type": "code",
   "execution_count": null,
   "id": "cc0e31c8-0518-4d76-92c8-efaaaaac4ef2",
   "metadata": {},
   "outputs": [],
   "source": [
    "cdata = adata[adata.obs[\"sample_id\"] == \"TIS09472_Control\"].copy()\n",
    "\n",
    "plot_spatial_highlight_zoom(\n",
    "    cdata,\n",
    "    basis=\"spatial\",\n",
    "    label_key=\"crypt_villus_axis_scaled\",\n",
    "    fov=(2916, 4321, 5000, 5700),\n",
    "    size=10,\n",
    "    palette=\"zissou\",\n",
    "    vmin=0,\n",
    "    vmax=1,\n",
    ")"
   ]
  },
  {
   "cell_type": "code",
   "execution_count": null,
   "id": "e5e10834-6ea0-4887-94cb-3ac06506bc9a",
   "metadata": {},
   "outputs": [],
   "source": [
    "iec = adata[adata.obs[\"Class\"] == \"Epithelial\"].copy()"
   ]
  },
  {
   "cell_type": "markdown",
   "id": "0ef256c6-d6c9-44ba-a906-b7f72b2b75c8",
   "metadata": {},
   "source": [
    "# Export data"
   ]
  },
  {
   "cell_type": "code",
   "execution_count": null,
   "id": "c46b2c5a-f38b-4513-ae70-3ff4e438b3ae",
   "metadata": {},
   "outputs": [],
   "source": [
    "adata.write_h5ad(output_file, compression=\"gzip\")"
   ]
  },
  {
   "cell_type": "code",
   "execution_count": null,
   "id": "c9c26046-cb69-4a7c-bfb5-303948824588",
   "metadata": {},
   "outputs": [],
   "source": [
    "iec.write_h5ad(\n",
    "    os.path.join(output_dir, \"iec-subset-resolvi-v2.h5ad\"), compression=\"gzip\"\n",
    ")"
   ]
  }
 ],
 "metadata": {
  "kernelspec": {
   "display_name": "sc-spatial",
   "language": "python",
   "name": "sc-spatial"
  },
  "language_info": {
   "codemirror_mode": {
    "name": "ipython",
    "version": 3
   },
   "file_extension": ".py",
   "mimetype": "text/x-python",
   "name": "python",
   "nbconvert_exporter": "python",
   "pygments_lexer": "ipython3",
   "version": "3.12.2"
  }
 },
 "nbformat": 4,
 "nbformat_minor": 5
}
