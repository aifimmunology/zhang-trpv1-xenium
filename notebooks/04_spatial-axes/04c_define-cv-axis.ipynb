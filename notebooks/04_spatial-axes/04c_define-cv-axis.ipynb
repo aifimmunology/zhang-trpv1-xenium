{
 "cells": [
  {
   "cell_type": "markdown",
   "id": "0d784f3f-a491-4cff-b5a3-bd04ac95cbae",
   "metadata": {},
   "source": [
    "# Define Crypt-Villus Axis\n",
    "\n",
    "Applies a neural network model to infer the crypt-villus axis from topics learned from spatial decomposition.\n",
    "\n",
    "**Pinned Environment:** [`envs/sc-cv_axis.yaml`](../../envs/sc-cv_axis.yaml)  "
   ]
  },
  {
   "cell_type": "code",
   "execution_count": null,
   "id": "8ce9d006-006c-49ac-bfd1-ad240e9c28c3",
   "metadata": {},
   "outputs": [],
   "source": [
    "import scanpy as sc\n",
    "from pathlib import Path\n",
    "import os\n",
    "import anndata as ad\n",
    "import numpy as np\n",
    "import matplotlib.pyplot as plt\n",
    "from tensorflow import keras"
   ]
  },
  {
   "cell_type": "code",
   "execution_count": null,
   "id": "7fea9414-ff52-4d07-95b3-0de257b1ac39",
   "metadata": {},
   "outputs": [],
   "source": [
    "import tensorflow as tf\n",
    "\n",
    "print(\"Num GPUs Available: \", len(tf.config.experimental.list_physical_devices(\"GPU\")))\n",
    "print(\"-\" * 50)\n",
    "print(tf.config.list_physical_devices(\"GPU\"))"
   ]
  },
  {
   "cell_type": "code",
   "execution_count": null,
   "id": "93f7b453-d2b1-44e7-b2f2-bfd952823fbd",
   "metadata": {},
   "outputs": [],
   "source": [
    "sc.set_figure_params(dpi=100, dpi_save=200)"
   ]
  },
  {
   "cell_type": "code",
   "execution_count": null,
   "id": "01b82465-d5a1-4a4e-b27c-182ba7836c05",
   "metadata": {},
   "outputs": [],
   "source": [
    "sys.path.append(str(Path.cwd().resolve().parents[1]))\n",
    "\n",
    "from config.paths import BASE_DIR\n",
    "\n",
    "h5ad_dir = BASE_DIR / \"axes/cv/02_before_decomposition\"\n",
    "h5ad_out = BASE_DIR / \"data/h5ad/export_09\"\n",
    "output_data = h5ad_out / \"cv_calculated-adata.h5ad\"\n",
    "\n",
    "h5ad_out.mkdir(parents=True, exist_ok=True)"
   ]
  },
  {
   "cell_type": "code",
   "execution_count": null,
   "id": "1ec77c84-1471-4e6f-ab58-cf0f3bfae377",
   "metadata": {},
   "outputs": [],
   "source": [
    "refdata = sc.read(\n",
    "    os.path.join(h5ad_dir, \"02_refdata_before_decomposition_model.h5ad\")\n",
    ")"
   ]
  },
  {
   "cell_type": "markdown",
   "id": "b6e150ed-d4aa-4507-bb25-30fad8df4a33",
   "metadata": {},
   "source": [
    "## Calculate the crypt-villus axis for all datasets"
   ]
  },
  {
   "cell_type": "markdown",
   "id": "46acc9d1-3fb4-4fe2-8958-c1c07e6bf55b",
   "metadata": {},
   "source": [
    "### Train model"
   ]
  },
  {
   "cell_type": "code",
   "execution_count": null,
   "id": "7af87626-78b3-4958-bd7c-092d7484678f",
   "metadata": {},
   "outputs": [],
   "source": [
    "refdata = refdata[refdata.obs[\"in_villi\"]]"
   ]
  },
  {
   "cell_type": "code",
   "execution_count": null,
   "id": "93db775c-d34e-4ae0-8e23-5c7572d91155",
   "metadata": {},
   "outputs": [],
   "source": [
    "training_data = refdata.obs[\n",
    "    refdata.obs.columns[refdata.obs.columns.str.contains(\"Topic\")]\n",
    "].values"
   ]
  },
  {
   "cell_type": "code",
   "execution_count": null,
   "id": "ce926aeb-94b9-4ffd-add3-0f997d9fc919",
   "metadata": {},
   "outputs": [],
   "source": [
    "training_labels = refdata.obs[\"normalized_crypt_villi_scaled\"].values"
   ]
  },
  {
   "cell_type": "code",
   "execution_count": null,
   "id": "bb5ce84c-dedf-4970-83ab-e0cc5c2a6d99",
   "metadata": {},
   "outputs": [],
   "source": [
    "# Define model\n",
    "model = keras.Sequential(\n",
    "    [\n",
    "        keras.layers.Dense(\n",
    "            64, activation=\"relu\", input_shape=(training_data.shape[1],)\n",
    "        ),\n",
    "        keras.layers.Dense(32, activation=\"relu\"),\n",
    "        keras.layers.Dense(1, activation=\"sigmoid\"),\n",
    "    ]\n",
    ")\n",
    "\n",
    "# Compile the model\n",
    "model.compile(optimizer=\"adam\", loss=\"mean_squared_error\")\n",
    "\n",
    "# Train the model\n",
    "model.fit(training_data, training_labels, epochs=10, batch_size=32, verbose=2)"
   ]
  },
  {
   "cell_type": "code",
   "execution_count": null,
   "id": "9252576f-adb9-4944-b289-2cea532f353f",
   "metadata": {},
   "outputs": [],
   "source": [
    "adata_list = []\n",
    "\n",
    "for sample_id in os.listdir(h5ad_dir):\n",
    "    sample_path = os.path.join(h5ad_dir, sample_id)\n",
    "    h5ad_path = os.path.join(sample_path, \"02_before_decomposition_model.h5ad\")\n",
    "\n",
    "    if not os.path.exists(h5ad_path):\n",
    "        print(f\"Skipping {sample_id}, file not found.\")\n",
    "        continue\n",
    "\n",
    "    adata = sc.read(h5ad_path)\n",
    "\n",
    "    testing_data = adata.obs[\n",
    "        adata.obs.columns[adata.obs.columns.str.contains(\"Topic\")]\n",
    "    ].values\n",
    "    predictions = model.predict(testing_data)\n",
    "    adata.obs[\"crypt_villi_axis\"] = predictions\n",
    "\n",
    "    # Plot and show\n",
    "    fig = sc.pl.embedding(\n",
    "        adata,\n",
    "        basis=\"spatial\",\n",
    "        color=\"crypt_villi_axis\",\n",
    "        return_fig=True,\n",
    "        show=False,\n",
    "        vmax=1,\n",
    "        cmap=\"viridis\",\n",
    "        size=4,\n",
    "    )\n",
    "    fig.tight_layout()\n",
    "    plt.axis(\"equal\")\n",
    "    plt.show()\n",
    "\n",
    "    # Track sample ID\n",
    "    adata.obs[\"sample_id\"] = sample_id\n",
    "    adata_list.append(adata)\n",
    "\n",
    "# Concatenate all processed samples\n",
    "combined_adata = ad.concat(adata_list)"
   ]
  },
  {
   "cell_type": "markdown",
   "id": "3a9d04b6-63f3-482b-8271-615c97002ed6",
   "metadata": {},
   "source": [
    "## Export"
   ]
  },
  {
   "cell_type": "code",
   "execution_count": null,
   "id": "9731e8ec-386c-43e6-873e-f8aca9a84a11",
   "metadata": {},
   "outputs": [],
   "source": [
    "combined_adata.write_h5ad(output_data, compression=\"gzip\")\n",
    "refdata.write_h5ad(os.path.join(h5ad_dir, \"retrained-refdata.h5ad\"), compression=\"gzip\")"
   ]
  }
 ],
 "metadata": {
  "kernelspec": {
   "display_name": "Python (sc-cv_axis)",
   "language": "python",
   "name": "sc-xsp"
  },
  "language_info": {
   "codemirror_mode": {
    "name": "ipython",
    "version": 3
   },
   "file_extension": ".py",
   "mimetype": "text/x-python",
   "name": "python",
   "nbconvert_exporter": "python",
   "pygments_lexer": "ipython3",
   "version": "3.10.16"
  }
 },
 "nbformat": 4,
 "nbformat_minor": 5
}
