{
 "cells": [
  {
   "cell_type": "markdown",
   "id": "c6bfb765-87e7-4785-bcf9-894650d6a2e1",
   "metadata": {},
   "source": [
    "# Calculate Spatial Decomposition\n",
    "\n",
    "Perfoms spatial decomposition of Xenium spatial transcriptomic data using a neighborhood-based non-negative matrix factorization (NMF).\n",
    "\n",
    "**Pinned Environment:** [`envs/sc-cv_axis.yaml`](../../envs/sc-cv_axis.yaml)  "
   ]
  },
  {
   "cell_type": "code",
   "execution_count": null,
   "id": "74339056-7199-4cfd-a57a-bd2b3f4a58cf",
   "metadata": {},
   "outputs": [],
   "source": [
    "import os\n",
    "import sys\n",
    "from pathlib import Path\n",
    "import anndata as ad\n",
    "import scanpy as sc\n",
    "import pandas as pd\n",
    "import numpy as np\n",
    "import matplotlib.pyplot as plt\n",
    "from scipy.spatial import KDTree\n",
    "from sklearn.decomposition import NMF"
   ]
  },
  {
   "cell_type": "code",
   "execution_count": null,
   "id": "fb45e5ef-20de-4248-89d0-527e4cf61157",
   "metadata": {},
   "outputs": [],
   "source": [
    "sys.path.append(str(Path.cwd().resolve().parents[1]))\n",
    "\n",
    "from config.paths import BASE_DIR\n",
    "\n",
    "h5ad_dir = BASE_DIR / \"axes/cv\"\n",
    "\n",
    "input_adata = h5ad_dir / \"01_adata-prepped.h5ad\"\n",
    "input_refdata = h5ad_dir / \"01_refdata-prepped.h5ad\"\n",
    "output_h5ad = h5ad_dir / \"02_before_decomposition\"\n",
    "fig_dir = h5ad_dir / \"figures\"\n",
    "\n",
    "output_h5ad.mkdir(parents=True, exist_ok=True)\n",
    "fig_dir.mkdir(parents=True, exist_ok=True)"
   ]
  },
  {
   "cell_type": "code",
   "execution_count": null,
   "id": "226f9ed6-5547-46a7-9272-de162847c71b",
   "metadata": {},
   "outputs": [],
   "source": [
    "adata = sc.read_h5ad(input_adata)\n",
    "refdata = sc.read(input_refdata)"
   ]
  },
  {
   "cell_type": "markdown",
   "id": "c736af8d-4b00-478c-8f63-fcbf628a6956",
   "metadata": {},
   "source": [
    "## Concatenate"
   ]
  },
  {
   "cell_type": "code",
   "execution_count": null,
   "id": "ca52d6d6-e117-4ccf-9bf5-c840d994a038",
   "metadata": {},
   "outputs": [],
   "source": [
    "refdata.obs[\"sample_id\"] = \"reference_day7_SI_DMSO\" # This is the high-morphology sample that is used for CV axis transfer, in accordance with Reina-Campos et al., 2025\n",
    "refdata.obs[\"source\"] = \"reference\"\n",
    "adata.obs[\"source\"] = \"query\""
   ]
  },
  {
   "cell_type": "code",
   "execution_count": null,
   "id": "a7ffb4b3-8588-4218-a704-efc32ef6bdfc",
   "metadata": {},
   "outputs": [],
   "source": [
    "adata_list = [adata, refdata]\n",
    "\n",
    "combined_adata = ad.concat(adata_list)"
   ]
  },
  {
   "cell_type": "markdown",
   "id": "1aa1fdb9-3242-4f4e-834c-558a6bf3df24",
   "metadata": {},
   "source": [
    "## Train decomposition model"
   ]
  },
  {
   "cell_type": "code",
   "execution_count": null,
   "id": "6f3bb969-8824-4bcb-82ef-d63a6dbb41f3",
   "metadata": {},
   "outputs": [],
   "source": [
    "unchanging_type_keys = [\"Epithelial\", \"Stromal\"]\n",
    "combined_adata_no_immune = combined_adata[\n",
    "    combined_adata.obs[\"Class\"].isin(unchanging_type_keys)\n",
    "]\n",
    "unique_samples = combined_adata_no_immune.obs[\"sample_id\"].unique()"
   ]
  },
  {
   "cell_type": "code",
   "execution_count": null,
   "id": "187583fd-4ae7-4ef3-81d1-6c6bc69cd795",
   "metadata": {},
   "outputs": [],
   "source": [
    "nneighbors = 10\n",
    "dfs = []\n",
    "\n",
    "for sample_id in unique_samples:\n",
    "    print(f\"Processing sample: {sample_id}\")\n",
    "\n",
    "    adata_sample = combined_adata_no_immune[\n",
    "        combined_adata_no_immune.obs[\"sample_id\"] == sample_id\n",
    "    ]\n",
    "\n",
    "    adata_arr = (\n",
    "        adata_sample.X.toarray()\n",
    "        if not isinstance(adata_sample.X, np.ndarray)\n",
    "        else adata_sample.X\n",
    "    )\n",
    "    spatial_coords = adata_sample.obsm[\"X_spatial\"]\n",
    "\n",
    "    tree = KDTree(spatial_coords)\n",
    "    list_of_arrays = []\n",
    "\n",
    "    for i in range(len(adata_sample)):\n",
    "        distances, neighbors = tree.query(spatial_coords[i], k=nneighbors)\n",
    "        gene_array = np.sum(adata_arr[neighbors, :], axis=0).squeeze()\n",
    "        list_of_arrays.append(gene_array)\n",
    "\n",
    "    X = pd.DataFrame(np.array(list_of_arrays))\n",
    "    dfs.append(X)"
   ]
  },
  {
   "cell_type": "code",
   "execution_count": null,
   "id": "c76dc05c-b9b1-47ef-80ad-56acdbf5215d",
   "metadata": {},
   "outputs": [],
   "source": [
    "del combined_adata\n",
    "del combined_adata_no_immune"
   ]
  },
  {
   "cell_type": "code",
   "execution_count": null,
   "id": "c2f74960-5ed5-4587-a9bc-f6a046c6b2b7",
   "metadata": {},
   "outputs": [],
   "source": [
    "X_arr = pd.concat(dfs)"
   ]
  },
  {
   "cell_type": "code",
   "execution_count": null,
   "id": "e0f0951c-5825-451c-bdec-913f2fb0036e",
   "metadata": {},
   "outputs": [],
   "source": [
    "del dfs"
   ]
  },
  {
   "cell_type": "code",
   "execution_count": null,
   "id": "ab56c9cf-ff5b-4717-a57e-68cb0d70bb75",
   "metadata": {},
   "outputs": [],
   "source": [
    "num_neighborhoods = 12  # decreased from 15 for improved performance\n",
    "X = X_arr\n",
    "del X_arr\n",
    "f = len(X.columns)\n",
    "n = len(X.index.tolist())\n",
    "\n",
    "model = NMF(n_components=num_neighborhoods, random_state=0)\n",
    "W = model.fit_transform(X)\n",
    "H = model.components_"
   ]
  },
  {
   "cell_type": "markdown",
   "id": "9e4963c5-3cac-4027-8bd3-be17fde2df1a",
   "metadata": {},
   "source": [
    "## Apply trained decomposition model to each sample"
   ]
  },
  {
   "cell_type": "markdown",
   "id": "35897fd5-f29f-4826-8c1d-311f8b283656",
   "metadata": {},
   "source": [
    "Calculate topics"
   ]
  },
  {
   "cell_type": "code",
   "execution_count": null,
   "id": "0cbc0ff0-a781-438c-aca1-785677feb81c",
   "metadata": {},
   "outputs": [],
   "source": [
    "for sample_id in adata.obs[\"sample_id\"].unique():\n",
    "    adata_sample = adata[adata.obs[\"sample_id\"] == sample_id].copy()\n",
    "\n",
    "    superclusters = adata_sample.obs[\"Class\"].values\n",
    "    celltype_cluster = adata_sample.obs.index.values\n",
    "\n",
    "    base_dictionary = {}\n",
    "    for i in np.unique(celltype_cluster):\n",
    "        base_dictionary[i] = 0\n",
    "\n",
    "    nneighbors = 10  #\n",
    "    list_of_arrays = []\n",
    "    adata_epi = adata_sample[adata_sample.obs[\"Class\"].isin(unchanging_type_keys)]\n",
    "    spatial_points_epi = np.array(\n",
    "        [adata_epi.obsm[\"X_spatial\"][:, 0], adata_epi.obsm[\"X_spatial\"][:, 1]]\n",
    "    ).T\n",
    "    spatial_points = np.array(\n",
    "        [adata_sample.obsm[\"X_spatial\"][:, 0], adata_sample.obsm[\"X_spatial\"][:, 1]]\n",
    "    ).T\n",
    "\n",
    "    # Handle sparse matrix\n",
    "    adata_epi_arr = (\n",
    "        adata_epi.X.toarray()\n",
    "        if not isinstance(adata_epi.X, np.ndarray)\n",
    "        else adata_epi.X\n",
    "    )\n",
    "\n",
    "    tree = KDTree(spatial_points_epi)\n",
    "    print(f\"Processing {sample_id} with {len(celltype_cluster)} cells\")\n",
    "    for i_bac in range(len(celltype_cluster)):\n",
    "        current_cell = celltype_cluster[i_bac]\n",
    "        distances, neighbors = tree.query(spatial_points[i_bac], k=nneighbors)\n",
    "        neighbors = np.array(list(neighbors))\n",
    "        gene_array = np.array(np.sum(adata_epi_arr[neighbors, :], axis=0)).squeeze()\n",
    "        list_of_arrays.append(gene_array)\n",
    "\n",
    "    X = pd.DataFrame(np.array(list_of_arrays)).astype(H.dtype)\n",
    "    W = model.transform(X)\n",
    "\n",
    "    topics_frame = pd.DataFrame(W)\n",
    "    topics_frame.columns = [\n",
    "        \"Topic \" + str(i + 1) for i in range(len(topics_frame.columns))\n",
    "    ]\n",
    "    topics_frame.index = adata_sample.obs.index.tolist()\n",
    "\n",
    "    def zscore(column):\n",
    "        return (column - column.mean()) / column.std()\n",
    "\n",
    "    topics_frame = topics_frame.apply(zscore)\n",
    "    adata_sample.obs = adata_sample.obs.merge(\n",
    "        topics_frame, left_index=True, right_index=True\n",
    "    )\n",
    "    adata_sample.obs[\"topic\"] = pd.Categorical(\n",
    "        (np.argmax(topics_frame.values, axis=1) + 1).astype(str)\n",
    "    )\n",
    "\n",
    "    sc.set_figure_params(dpi=300)\n",
    "    figure = sc.pl.embedding(\n",
    "        adata_sample,\n",
    "        basis=\"spatial\",\n",
    "        color=\"topic\",\n",
    "        vmax=1,\n",
    "        cmap=\"Blues\",\n",
    "        title=\"Neighborhood\",\n",
    "        size=2,\n",
    "        show=False,\n",
    "        return_fig=True,\n",
    "    )\n",
    "\n",
    "    os.makedirs(os.path.join(fig_dir, \"neighborhoods\", sample_id), exist_ok=True)\n",
    "\n",
    "    figure.tight_layout()\n",
    "    plt.axis(\"equal\")\n",
    "    figure.savefig(\n",
    "        os.path.join(fig_dir, \"neighborhoods\", sample_id, \"neighborhoods.png\")\n",
    "    )\n",
    "    plt.close()\n",
    "\n",
    "    os.makedirs(os.path.join(output_h5ad, sample_id), exist_ok=True)\n",
    "\n",
    "    adata_sample.write(\n",
    "        os.path.join(output_h5ad, sample_id, \"02_before_decomposition_model.h5ad\")\n",
    "    )"
   ]
  },
  {
   "cell_type": "markdown",
   "id": "c78c9004-2e16-4b32-a097-250a294424f1",
   "metadata": {},
   "source": [
    "## Apply trained decomposition model to `refdata`"
   ]
  },
  {
   "cell_type": "code",
   "execution_count": null,
   "id": "ee065cd8-87e1-45fd-9d8a-fcf8ac670d51",
   "metadata": {},
   "outputs": [],
   "source": [
    "reference_prep = sc.read(input_refdata)"
   ]
  },
  {
   "cell_type": "code",
   "execution_count": null,
   "id": "ff925aa8-c2ea-4406-b9fd-1492e29befcc",
   "metadata": {},
   "outputs": [],
   "source": [
    "topic_cols = [col for col in refdata.obs.columns if col.startswith(\"Topic \")]\n",
    "reference_prep.obs.drop(columns=topic_cols, inplace=True)\n",
    "#print(reference_prep)"
   ]
  },
  {
   "cell_type": "code",
   "execution_count": null,
   "id": "89beb7ad-e923-43d3-b6cb-842c7c3141e6",
   "metadata": {},
   "outputs": [],
   "source": [
    "# Source: https://github.com/Goldrathlab/Spatial-TRM-paper\n",
    "\n",
    "## Filter reference to epithelial + stromal\n",
    "reference_prep_epi = reference_prep[\n",
    "    reference_prep.obs[\"Class\"].isin(unchanging_type_keys)\n",
    "]\n",
    "\n",
    "superclusters = reference_prep.obs[\"Class\"].values\n",
    "celltype_cluster = reference_prep.obs.index.values\n",
    "\n",
    "base_dictionary = {}\n",
    "for i in np.unique(celltype_cluster):\n",
    "    base_dictionary[i] = 0\n",
    "\n",
    "nneighbors = 10  # number of neighbors to use\n",
    "list_of_arrays = []\n",
    "\n",
    "spatial_points_epi = np.array(\n",
    "    [\n",
    "        reference_prep_epi.obsm[\"X_spatial\"][:, 0],\n",
    "        reference_prep_epi.obsm[\"X_spatial\"][:, 1],\n",
    "    ]\n",
    ").T\n",
    "spatial_points = np.array(\n",
    "    [reference_prep.obsm[\"X_spatial\"][:, 0], reference_prep.obsm[\"X_spatial\"][:, 1]]\n",
    ").T\n",
    "\n",
    "# Handle sparse matrix\n",
    "reference_prep_epi_arr = (\n",
    "    reference_prep_epi.X.toarray()\n",
    "    if not isinstance(reference_prep_epi.X, np.ndarray)\n",
    "    else reference_prep_epi.X\n",
    ")\n",
    "\n",
    "tree = KDTree(spatial_points_epi)\n",
    "print(f\"Processing reference with {len(celltype_cluster)} cells\")\n",
    "for i_bac in range(len(celltype_cluster)):\n",
    "    current_cell = celltype_cluster[i_bac]\n",
    "    distances, neighbors = tree.query(spatial_points[i_bac], k=nneighbors)\n",
    "    neighbors = np.array(list(neighbors))\n",
    "    gene_array = np.array(\n",
    "        np.sum(reference_prep_epi_arr[neighbors, :], axis=0)\n",
    "    ).squeeze()\n",
    "    list_of_arrays.append(gene_array)\n",
    "\n",
    "X = pd.DataFrame(np.array(list_of_arrays)).astype(H.dtype)\n",
    "W = model.transform(X)\n",
    "\n",
    "topics_frame = pd.DataFrame(W)\n",
    "topics_frame.columns = [\"Topic \" + str(i + 1) for i in range(len(topics_frame.columns))]\n",
    "topics_frame.index = reference_prep.obs.index.tolist()\n",
    "\n",
    "\n",
    "def zscore(column):\n",
    "    return (column - column.mean()) / column.std()\n",
    "\n",
    "\n",
    "topics_frame = topics_frame.apply(zscore)\n",
    "reference_prep.obs = reference_prep.obs.merge(\n",
    "    topics_frame, left_index=True, right_index=True\n",
    ")\n",
    "reference_prep.obs[\"topic\"] = pd.Categorical(\n",
    "    (np.argmax(topics_frame.values, axis=1) + 1).astype(str)\n",
    ")"
   ]
  },
  {
   "cell_type": "code",
   "execution_count": null,
   "id": "3464e522-7ef3-422f-a96d-22b0bab05c05",
   "metadata": {},
   "outputs": [],
   "source": [
    "reference_prep.write(\n",
    "    os.path.join(output_h5ad, \"02_refdata_before_decomposition_model.h5ad\")\n",
    ")"
   ]
  }
 ],
 "metadata": {
  "kernelspec": {
   "display_name": "Python (sc-cv_axis)",
   "language": "python",
   "name": "sc-xsp"
  },
  "language_info": {
   "codemirror_mode": {
    "name": "ipython",
    "version": 3
   },
   "file_extension": ".py",
   "mimetype": "text/x-python",
   "name": "python",
   "nbconvert_exporter": "python",
   "pygments_lexer": "ipython3",
   "version": "3.10.16"
  }
 },
 "nbformat": 4,
 "nbformat_minor": 5
}
