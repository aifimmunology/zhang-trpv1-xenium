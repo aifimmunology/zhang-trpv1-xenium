{
 "cells": [
  {
   "cell_type": "markdown",
   "id": "17c2be5a-2a4e-46c8-a84b-15403f63ba06",
   "metadata": {},
   "source": [
    "# Statistical testing for CV-axis gene expression\n",
    "\n",
    "**Pinned Environment:** [`envs/sc-spatial.yaml`](../../envs/sc-spatial.yaml)  "
   ]
  },
  {
   "cell_type": "code",
   "execution_count": null,
   "id": "74bf491f-eed4-4e2a-9889-d9777a798269",
   "metadata": {},
   "outputs": [],
   "source": [
    "import sys\n",
    "from pathlib import Path\n",
    "import os\n",
    "import scanpy as sc\n",
    "from sklearn.metrics import auc\n",
    "import pandas as pd\n",
    "import numpy as np\n",
    "from tqdm import tqdm\n",
    "from scipy.stats import ks_2samp\n",
    "from statsmodels.stats.multitest import multipletests"
   ]
  },
  {
   "cell_type": "code",
   "execution_count": null,
   "id": "785e8cb0-cdb0-4546-b40b-59246d5f3fe0",
   "metadata": {},
   "outputs": [],
   "source": [
    "sys.path.append(str(Path.cwd().resolve().parents[1]))\n",
    "\n",
    "from config.paths import BASE_DIR\n",
    "\n",
    "h5ad_dir = BASE_DIR / \"data/h5ad/export_10\"\n",
    "output_dir = BASE_DIR / \"data/cv_axis/stats\"\n",
    "\n",
    "input_data = h5ad_dir / \"iec-subset-resolvi-cc-v2.h5ad\"\n",
    "\n",
    "h5ad_dir.mkdir(parents=True, exist_ok=True)\n",
    "output_dir.mkdir(parents=True, exist_ok=True)"
   ]
  },
  {
   "cell_type": "code",
   "execution_count": null,
   "id": "16bc7558-9cea-4fa7-8697-01af19396f26",
   "metadata": {},
   "outputs": [],
   "source": [
    "adata = sc.read_h5ad(input_data)\n",
    "adata"
   ]
  },
  {
   "cell_type": "markdown",
   "id": "68e1ff33-9e3c-4d48-ba07-44c9c1972815",
   "metadata": {},
   "source": [
    "# Run KS"
   ]
  },
  {
   "cell_type": "code",
   "execution_count": null,
   "id": "ba04f53b-4899-4394-8ae8-331cda2f4090",
   "metadata": {},
   "outputs": [],
   "source": [
    "results = []\n",
    "\n",
    "group_col = \"group\"\n",
    "\n",
    "group = adata.obs[group_col].values\n",
    "\n",
    "for gene in tqdm(adata.var_names, desc=\"Global KS test\"):\n",
    "    expr = (\n",
    "        adata[:, gene].X.toarray().flatten()\n",
    "        if hasattr(adata[:, gene].X, \"toarray\")\n",
    "        else adata[:, gene].X.flatten()\n",
    "    )\n",
    "\n",
    "    # Control group\n",
    "    mask_ctrl = group == \"Control\"\n",
    "    expr_ctrl = expr[mask_ctrl]\n",
    "\n",
    "    # Treatment group\n",
    "    mask_treat = group == \"Trpv1-cre\"\n",
    "    expr_treat = expr[mask_treat]\n",
    "\n",
    "    # Skip if insufficient\n",
    "    if len(expr_ctrl) < 2 or len(expr_treat) < 2:\n",
    "        continue\n",
    "\n",
    "    # KS test\n",
    "    ks_stat, pval = ks_2samp(expr_ctrl, expr_treat)\n",
    "\n",
    "    results.append(\n",
    "        {\n",
    "            \"gene\": gene,\n",
    "            \"ks_stat\": ks_stat,\n",
    "            \"pval\": pval,\n",
    "            \"neglog10p\": -np.log10(pval + 1e-10),\n",
    "        }\n",
    "    )\n",
    "\n",
    "# Create df\n",
    "ks_results_df = pd.DataFrame(results)"
   ]
  },
  {
   "cell_type": "code",
   "execution_count": null,
   "id": "50ea48a5-c727-46f1-a42d-214697203509",
   "metadata": {},
   "outputs": [],
   "source": [
    "# fdr\n",
    "_, padj, _, _ = multipletests(ks_results_df[\"pval\"], method=\"fdr_bh\")\n",
    "ks_results_df[\"padj\"] = padj"
   ]
  },
  {
   "cell_type": "code",
   "execution_count": null,
   "id": "1ecb27fa-9f06-45f7-aa08-5e2a51780ccf",
   "metadata": {},
   "outputs": [],
   "source": [
    "# Check number of genes tested\n",
    "print(f\"Total genes tested: {len(ks_results_df)}\")\n",
    "print(f\"Total significant genes (padj < 0.05): {(ks_results_df['padj'] < 0.05).sum()}\")"
   ]
  },
  {
   "cell_type": "code",
   "execution_count": null,
   "id": "e64e06ab-bdaa-4a92-991e-1572679f49b5",
   "metadata": {},
   "outputs": [],
   "source": [
    "ks_results_df"
   ]
  },
  {
   "cell_type": "code",
   "execution_count": null,
   "id": "5c939306-e035-4b55-976b-daae5ad54348",
   "metadata": {},
   "outputs": [],
   "source": [
    "sig_df = ks_results_df[ks_results_df[\"padj\"] < 0.05]\n",
    "print(f\"Total significant genes (padj < 0.05): {len(sig_df)}\")\n",
    "print(\"Top 10 genes (sorted by padj):\")\n",
    "print(sig_df.sort_values(\"padj\").head(10)[[\"gene\", \"padj\", \"ks_stat\"]])"
   ]
  },
  {
   "cell_type": "markdown",
   "id": "c3ab4536-5159-4d09-b914-9ee3165d82d5",
   "metadata": {},
   "source": [
    "# Run delta auc"
   ]
  },
  {
   "cell_type": "code",
   "execution_count": null,
   "id": "9dc986f9-86b0-4087-a69e-729d5b99b4f6",
   "metadata": {},
   "outputs": [],
   "source": [
    "def compute_global_delta_auc(\n",
    "    adata, group_col=\"group\", cv_col=\"crypt_villus_axis_scaled\"\n",
    "):\n",
    "    results = []\n",
    "\n",
    "    # Global variables\n",
    "    cv_axis = adata.obs[cv_col].values\n",
    "    group = adata.obs[group_col].values\n",
    "\n",
    "    for gene in tqdm(adata.var_names, desc=\"Global delta AUC calculation\"):\n",
    "        expr = (\n",
    "            adata[:, gene].X.toarray().flatten()\n",
    "            if hasattr(adata[:, gene].X, \"toarray\")\n",
    "            else adata[:, gene].X.flatten()\n",
    "        )\n",
    "\n",
    "        # Control group\n",
    "        mask_ctrl = group == \"Control\"\n",
    "        expr_ctrl = expr[mask_ctrl]\n",
    "        cv_ctrl = cv_axis[mask_ctrl]\n",
    "        if len(cv_ctrl) < 2:\n",
    "            continue\n",
    "        sorted_ctrl = np.argsort(cv_ctrl)\n",
    "        auc_ctrl = auc(cv_ctrl[sorted_ctrl], expr_ctrl[sorted_ctrl])\n",
    "\n",
    "        # Treatment group\n",
    "        mask_treat = group == \"Trpv1-cre\"\n",
    "        expr_treat = expr[mask_treat]\n",
    "        cv_treat = cv_axis[mask_treat]\n",
    "        if len(cv_treat) < 2:\n",
    "            continue\n",
    "        sorted_treat = np.argsort(cv_treat)\n",
    "        auc_treat = auc(cv_treat[sorted_treat], expr_treat[sorted_treat])\n",
    "\n",
    "        delta_auc = auc_treat - auc_ctrl\n",
    "\n",
    "        if auc_ctrl > 0 and auc_treat > 0:\n",
    "            log2_auc = np.log2(auc_treat / auc_ctrl)\n",
    "            percent_change = (delta_auc / auc_ctrl) * 100\n",
    "        else:\n",
    "            log2_auc = np.nan\n",
    "            percent_change = np.nan\n",
    "\n",
    "        results.append(\n",
    "            {\n",
    "                \"gene\": gene,\n",
    "                \"auc_ctrl\": auc_ctrl,\n",
    "                \"auc_treat\": auc_treat,\n",
    "                \"delta_auc\": delta_auc,\n",
    "                \"log2_auc\": log2_auc,\n",
    "                \"percent_change_auc\": percent_change,\n",
    "            }\n",
    "        )\n",
    "\n",
    "    return pd.DataFrame(results)"
   ]
  },
  {
   "cell_type": "code",
   "execution_count": null,
   "id": "2fb9f37d-9aa1-4ad8-8a41-f4a3139375b7",
   "metadata": {},
   "outputs": [],
   "source": [
    "auc_results_df = compute_global_delta_auc(adata)"
   ]
  },
  {
   "cell_type": "code",
   "execution_count": null,
   "id": "f2a1f1c1-d165-404a-8a45-7ed5a45af5f5",
   "metadata": {},
   "outputs": [],
   "source": [
    "auc_results_df"
   ]
  },
  {
   "cell_type": "markdown",
   "id": "834fb1a7-4907-4c34-87a1-88224a158a17",
   "metadata": {},
   "source": [
    "# Merge onto de df"
   ]
  },
  {
   "cell_type": "code",
   "execution_count": null,
   "id": "e1181f29-4418-4790-b684-3524b396a1b4",
   "metadata": {},
   "outputs": [],
   "source": [
    "merged_df = pd.merge(ks_results_df, auc_results_df, on=[\"gene\"], how=\"left\")"
   ]
  },
  {
   "cell_type": "code",
   "execution_count": null,
   "id": "ddc05607-eb4a-4a24-8702-df90a18947d1",
   "metadata": {},
   "outputs": [],
   "source": [
    "merged_df"
   ]
  },
  {
   "cell_type": "code",
   "execution_count": null,
   "id": "22072602-f893-4469-b241-c158731d9a70",
   "metadata": {},
   "outputs": [],
   "source": [
    "output_dir = os.path.join(base_dir, \"data/cv_axis/stats\")"
   ]
  },
  {
   "cell_type": "code",
   "execution_count": null,
   "id": "a3e28add-e477-422e-9491-bb49f859b11e",
   "metadata": {},
   "outputs": [],
   "source": [
    "output_file = os.path.join(output_dir, \"2025-05-01_epithelial-global-ks-auc.csv\")\n",
    "merged_df.to_csv(output_file)"
   ]
  }
 ],
 "metadata": {
  "kernelspec": {
   "display_name": "Python (sc-cv_axis)",
   "language": "python",
   "name": "sc-xsp"
  },
  "language_info": {
   "codemirror_mode": {
    "name": "ipython",
    "version": 3
   },
   "file_extension": ".py",
   "mimetype": "text/x-python",
   "name": "python",
   "nbconvert_exporter": "python",
   "pygments_lexer": "ipython3",
   "version": "3.10.16"
  }
 },
 "nbformat": 4,
 "nbformat_minor": 5
}
