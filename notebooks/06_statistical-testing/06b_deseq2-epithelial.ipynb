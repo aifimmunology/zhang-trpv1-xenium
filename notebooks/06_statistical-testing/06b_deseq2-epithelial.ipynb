{
 "cells": [
  {
   "cell_type": "markdown",
   "id": "8267ffc2-a3bf-4879-9830-ed10efba4f54",
   "metadata": {},
   "source": [
    "## Differential Expression Testing\n",
    "\n",
    "**Pinned Environment:** [`envs/R-DE.yaml`](../../envs/R-DE.yaml)"
   ]
  },
  {
   "cell_type": "code",
   "execution_count": null,
   "id": "4a4c93b6-5d97-41f4-91b7-3b68a282aafd",
   "metadata": {},
   "outputs": [],
   "source": [
    "suppressPackageStartupMessages({\n",
    "  library(DESeq2)\n",
    "  library(EnhancedVolcano)\n",
    "})"
   ]
  },
  {
   "cell_type": "code",
   "execution_count": null,
   "id": "57f29ae8-22f2-45b0-97fd-ff9132b95417",
   "metadata": {},
   "outputs": [],
   "source": [
    "repo_root <- normalizePath(file.path(getwd(), \"..\"))\n",
    "\n",
    "cmd <- paste0(\n",
    "  \"PYTHONPATH=\", repo_root,\n",
    "  \" python3 -c 'import sys; from pathlib import Path; sys.path.append(str(Path.cwd().resolve().parents[1])); \",\n",
    "  \"from config.paths import BASE_DIR; print(BASE_DIR)'\"\n",
    ")\n",
    "\n",
    "base_dir <- system(cmd, intern = TRUE)\n",
    "\n",
    "input_dir <- file.path(base_dir, \"deseq2\", \"epithelial\", \"prepped-data\")\n",
    "output_dir <- file.path(base_dir, \"deseq2\", \"epithelial\", \"results\")\n",
    "\n",
    "cat(\"Input directory:\", input_dir, \"\\nOutput directory:\", output_dir, \"\\n\")"
   ]
  },
  {
   "cell_type": "markdown",
   "id": "c31db5bf-c524-45cb-8f95-f635027eb87b",
   "metadata": {},
   "source": [
    "## Run deseq2"
   ]
  },
  {
   "cell_type": "code",
   "execution_count": null,
   "id": "a5bfd5c1-6e1e-42f2-aa15-d164077b17a8",
   "metadata": {},
   "outputs": [],
   "source": [
    "zones <- c(\"Stem_Progenitor\", \"Early\", \"Late\")\n",
    "\n",
    "# Loop through each zone and run DESeq2\n",
    "for (zone in zones) {\n",
    "  message(\"Running DESeq2 for zone: \", zone)\n",
    "\n",
    "  # File paths\n",
    "  counts_path <- file.path(input_dir, paste0(zone, \"_counts.csv\"))\n",
    "  meta_path <- file.path(input_dir, paste0(zone, \"_metadata.csv\"))\n",
    "  output_path <- file.path(output_dir, paste0(zone, \"_deseq2_results.csv\"))\n",
    "\n",
    "  # Read data\n",
    "  count_data <- read.csv(counts_path, row.names = 1, check.names = FALSE)\n",
    "  col_data <- read.csv(meta_path, row.names = 1)\n",
    "\n",
    "  # Ensure metadata is a proper dataframe\n",
    "  col_data <- as.data.frame(col_data)\n",
    "\n",
    "  # Align samples\n",
    "  sample_names <- intersect(colnames(count_data), rownames(col_data))\n",
    "  count_data <- count_data[, sample_names]\n",
    "  col_data <- col_data[sample_names, , drop = FALSE]\n",
    "\n",
    "  stopifnot(all(colnames(count_data) == rownames(col_data)))\n",
    "\n",
    "  # Construct DESeq2 object\n",
    "  dds <- DESeqDataSetFromMatrix(\n",
    "    countData = count_data,\n",
    "    colData = col_data,\n",
    "    design = ~ group\n",
    "  )\n",
    "\n",
    "  # Run DESeq2\n",
    "  dds <- DESeq(dds)\n",
    "\n",
    "  # Extract results\n",
    "  res <- results(dds, contrast = c(\"group\", \"Trpv1-cre\", \"Control\"))\n",
    "\n",
    "  # Order by adjusted p-value and convert to a data frame\n",
    "  res_ordered <- as.data.frame(res[order(res$padj), ])\n",
    "\n",
    "  # Add a new column indicating the zone\n",
    "  res_ordered$zone <- zone\n",
    "\n",
    "  # Save to CSV\n",
    "  write.csv(res_ordered, file = output_path)\n",
    "\n",
    "  # Save to separate variable in memory\n",
    "  varname <- paste0(\"res_\", gsub(\"-\", \"_\", gsub(\"/\", \"_\", zone)))\n",
    "  assign(varname, res_ordered, envir = .GlobalEnv)\n",
    "}"
   ]
  },
  {
   "cell_type": "markdown",
   "id": "b6f80019-aef7-4e7a-90bb-fcbe7bd33b7a",
   "metadata": {},
   "source": [
    "Save concatenated results:"
   ]
  },
  {
   "cell_type": "code",
   "execution_count": null,
   "id": "033d94af-da5e-4cfc-8291-c61e35eb41c4",
   "metadata": {},
   "outputs": [],
   "source": [
    "# Add gene column BEFORE binding rows\n",
    "res_Stem_Progenitor$gene <- rownames(res_Stem_Progenitor)\n",
    "res_Early$gene <- rownames(res_Early)\n",
    "res_Late$gene <- rownames(res_Late)\n",
    "\n",
    "# Combine\n",
    "combined_results <- rbind(res_Stem_Progenitor, res_Early, res_Late)\n",
    "\n",
    "rownames(combined_results) <- NULL"
   ]
  },
  {
   "cell_type": "code",
   "execution_count": null,
   "id": "56cb1b6a-2139-406d-9216-70cdddf2c4fd",
   "metadata": {},
   "outputs": [],
   "source": [
    "combined_results <- combined_results[, c(\"gene\", setdiff(names(combined_results), \"gene\"))]"
   ]
  },
  {
   "cell_type": "code",
   "execution_count": null,
   "id": "b6d8bc8b-ed20-4a7c-968e-4d411198eab8",
   "metadata": {},
   "outputs": [],
   "source": [
    "head(combined_results)"
   ]
  },
  {
   "cell_type": "markdown",
   "id": "31ec5ed1-7303-4705-ba0b-bd4a6b55753e",
   "metadata": {},
   "source": [
    "## Export"
   ]
  },
  {
   "cell_type": "code",
   "execution_count": null,
   "id": "09b4aa0c-4100-4c33-8349-fb9a9468156e",
   "metadata": {},
   "outputs": [],
   "source": [
    "output_file <- file.path(output_dir, \"combined_deseq2_results.csv\")\n",
    "write.csv(combined_results, file = output_file, row.names = FALSE)"
   ]
  }
 ],
 "metadata": {
  "kernelspec": {
   "display_name": "R (minimal)",
   "language": "R",
   "name": "r-minimal"
  },
  "language_info": {
   "codemirror_mode": "r",
   "file_extension": ".r",
   "mimetype": "text/x-r-source",
   "name": "R",
   "pygments_lexer": "r",
   "version": "4.4.1"
  }
 },
 "nbformat": 4,
 "nbformat_minor": 5
}
