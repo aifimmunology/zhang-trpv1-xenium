{
 "cells": [
  {
   "cell_type": "markdown",
   "id": "941763fd-8692-467c-8d41-abb0bb655383",
   "metadata": {},
   "source": [
    "# Pseudobulk Data for Differential Expression Testing\n",
    "\n",
    "**Pinned Environment:** [`envs/sc-spatial.yaml`](../../envs/sc-spatial.yaml)  "
   ]
  },
  {
   "cell_type": "code",
   "execution_count": null,
   "id": "4c4c52e3-e092-4eb3-ab13-68ac88ad7d85",
   "metadata": {},
   "outputs": [],
   "source": [
    "import os\n",
    "from pathlib import Path\n",
    "import scanpy as sc\n",
    "import pandas as pd\n",
    "import numpy as np\n",
    "import matplotlib.pyplot as plt\n",
    "import sys\n",
    "import session_info"
   ]
  },
  {
   "cell_type": "code",
   "execution_count": null,
   "id": "6881726a-61b7-497b-8327-88a498b74e8d",
   "metadata": {},
   "outputs": [],
   "source": [
    "sys.path.append(str(Path.cwd().resolve().parents[1]))\n",
    "\n",
    "from config.paths import BASE_DIR\n",
    "\n",
    "h5ad_dir = BASE_DIR / \"data/h5ad/export_10\"\n",
    "input_file = h5ad_dir / \"iec-subset-resolvi-cc-v2.h5ad\"\n",
    "output_dir = BASE_DIR / \"deseq2/epithelial\"\n",
    "\n",
    "h5ad_dir.mkdir(parents=True, exist_ok=True)\n",
    "output_dir.mkdir(parents=True, exist_ok=True)"
   ]
  },
  {
   "cell_type": "code",
   "execution_count": null,
   "id": "31dcb1cd-aafe-49bf-a608-071c31b14735",
   "metadata": {},
   "outputs": [],
   "source": [
    "adata = sc.read_h5ad(input_file)\n",
    "adata"
   ]
  },
  {
   "cell_type": "code",
   "execution_count": null,
   "id": "95e9c620-8145-42af-8f67-8a594b142788",
   "metadata": {},
   "outputs": [],
   "source": [
    "# rename zones\n",
    "zone_mapping = {0: \"Stem/Progenitor\", 1: \"Early\", 2: \"Late\"}\n",
    "\n",
    "adata.obs[\"cellcharter_zones\"] = adata.obs[\"epithelial_cc_3\"].map(zone_mapping)"
   ]
  },
  {
   "cell_type": "code",
   "execution_count": null,
   "id": "a02168ce-e21a-4124-82a5-66f27bf7158c",
   "metadata": {},
   "outputs": [],
   "source": [
    "assert \"counts\" in adata.layers, \"Raw counts layer 'counts' not found in adata.\"\n",
    "\n",
    "group_col = \"group\"\n",
    "sample_col = \"sample_id\"\n",
    "zone_col = \"cellcharter_zones\"\n",
    "\n",
    "output_dir = os.path.join(base_dir, \"deseq2/epithelial/prepped-data\")\n",
    "os.makedirs(output_dir, exist_ok=True)\n",
    "\n",
    "for zone in adata.obs[zone_col].unique():\n",
    "    print(f\"Processing zone: {zone}\")\n",
    "\n",
    "    zone_mask = adata.obs[zone_col] == zone\n",
    "    zone_adata = adata[zone_mask].copy()\n",
    "\n",
    "    pseudobulk_counts = {}\n",
    "    sample_metadata = []\n",
    "\n",
    "    for sample in zone_adata.obs[sample_col].unique():\n",
    "        sample_mask = zone_adata.obs[sample_col] == sample\n",
    "        sample_adata = zone_adata[sample_mask]\n",
    "\n",
    "        # Sum raw counts across cells\n",
    "        summed_counts = sample_adata.layers[\"counts\"].sum(axis=0)\n",
    "        summed_counts = np.asarray(summed_counts).flatten()\n",
    "        pseudobulk_counts[sample] = summed_counts\n",
    "\n",
    "        sample_metadata.append({\"group\": sample_adata.obs[group_col].unique()[0]})\n",
    "\n",
    "    # Create counts dataframe: rows=genes, cols=samples\n",
    "    counts_df = pd.DataFrame(pseudobulk_counts, index=zone_adata.var_names)\n",
    "    counts_df.index.name = \"gene\"  # Important for DESeq2\n",
    "\n",
    "    # Create metadata dataframe with sample_id as rownames\n",
    "    metadata_df = pd.DataFrame(sample_metadata, index=counts_df.columns)\n",
    "    metadata_df.index.name = \"sample_id\"\n",
    "\n",
    "    # Save to CSV (no extra index column)\n",
    "    zone_safe = zone.replace(\" \", \"_\").replace(\"/\", \"_\")\n",
    "    counts_df.to_csv(os.path.join(output_dir, f\"{zone_safe}_counts.csv\"))\n",
    "    metadata_df.to_csv(os.path.join(output_dir, f\"{zone_safe}_metadata.csv\"))\n",
    "\n",
    "print(\"Pseudobulk files saved for DESeq2\")"
   ]
  },
  {
   "cell_type": "code",
   "execution_count": null,
   "id": "2e686bf4-a402-46a7-a92c-396da344ee14",
   "metadata": {},
   "outputs": [],
   "source": [
    "output_dir"
   ]
  }
 ],
 "metadata": {
  "kernelspec": {
   "display_name": "Python (sc-charter)",
   "language": "python",
   "name": "sc-charter"
  },
  "language_info": {
   "codemirror_mode": {
    "name": "ipython",
    "version": 3
   },
   "file_extension": ".py",
   "mimetype": "text/x-python",
   "name": "python",
   "nbconvert_exporter": "python",
   "pygments_lexer": "ipython3",
   "version": "3.12.8"
  }
 },
 "nbformat": 4,
 "nbformat_minor": 5
}
