{
 "cells": [
  {
   "cell_type": "markdown",
   "id": "db302727-27ae-46a2-8329-008e5595b00f",
   "metadata": {},
   "source": [
    "# Train scVI Model\n",
    "\n",
    "**Pinned Environment:** [`envs/sc-charter.yaml`](../../envs/sc-charter.yaml)  "
   ]
  },
  {
   "cell_type": "code",
   "execution_count": null,
   "id": "58995b5f-9a57-4e17-b68c-1eebb8298987",
   "metadata": {},
   "outputs": [],
   "source": [
    "import os\n",
    "from pathlib import Path\n",
    "import scanpy as sc\n",
    "from scipy.sparse import issparse\n",
    "import scvi\n",
    "import numpy as np\n",
    "import matplotlib.pyplot as plt\n",
    "from lightning.pytorch import seed_everything\n",
    "import random\n",
    "import sys"
   ]
  },
  {
   "cell_type": "code",
   "execution_count": null,
   "id": "d6dcaca8-2e69-4417-8017-6543ad2dae9b",
   "metadata": {},
   "outputs": [],
   "source": [
    "random.seed(0)\n",
    "seed_everything(0)\n",
    "\n",
    "scvi.settings.seed = 0\n",
    "scvi.settings.num_workers = 32"
   ]
  },
  {
   "cell_type": "markdown",
   "id": "d60ed2dd-5db9-452b-bc6d-a3fd06011635",
   "metadata": {},
   "source": [
    "## Set paths, import data"
   ]
  },
  {
   "cell_type": "code",
   "execution_count": null,
   "id": "2f3ac2b7-2a4e-4c96-967c-9359d1a49590",
   "metadata": {},
   "outputs": [],
   "source": [
    "sys.path.append(str(Path.cwd().resolve().parents[1]))\n",
    "\n",
    "from config.paths import BASE_DIR\n",
    "\n",
    "base_dir = BASE_DIR / \"data/h5ad/export_01\"\n",
    "data_dir = base_dir / \"05_filtered\"\n",
    "\n",
    "scvi_dir = BASE_DIR / \"scvi/01_model\"\n",
    "output_dir = BASE_DIR / \"data/h5ad/export_02\"\n",
    "\n",
    "output_dir.mkdir(parents=True, exist_ok=True)"
   ]
  },
  {
   "cell_type": "code",
   "execution_count": null,
   "id": "b643ff73-991d-449f-982d-aa7d9e816dfc",
   "metadata": {},
   "outputs": [],
   "source": [
    "adata = sc.read_h5ad(os.path.join(data_dir, \"artis-naive-pp.h5ad\"))"
   ]
  },
  {
   "cell_type": "code",
   "execution_count": null,
   "id": "576a08ed-a7d8-4c5d-be10-8a810f603bdc",
   "metadata": {},
   "outputs": [],
   "source": [
    "# Use raw counts layer for scVI\n",
    "adata.X = adata.layers[\"counts\"].copy()\n",
    "\n",
    "# verify\n",
    "print(\"adata.X is sparse:\", issparse(adata.X))\n",
    "print(\n",
    "    \"adata.X has only whole numbers:\", np.all(adata.X.data == np.round(adata.X.data))\n",
    ")"
   ]
  },
  {
   "cell_type": "markdown",
   "id": "b45a3058-b5c7-4df3-bb34-7f8f0a6b4bd3",
   "metadata": {},
   "source": [
    "#### Train model"
   ]
  },
  {
   "cell_type": "code",
   "execution_count": null,
   "id": "e38aa7c8-80a3-4781-94a7-13fc6c46cb3e",
   "metadata": {},
   "outputs": [],
   "source": [
    "# Set up AnnData for SCVI\n",
    "scvi.model.SCVI.setup_anndata(\n",
    "    adata, layer=\"counts\", batch_key=\"sample_id\"\n",
    ")"
   ]
  },
  {
   "cell_type": "code",
   "execution_count": null,
   "id": "8e99b826-83f0-4332-b939-9772f9d82820",
   "metadata": {},
   "outputs": [],
   "source": [
    "# Initialize model with parameters from Reina-Campos et al., 2025\n",
    "model = scvi.model.SCVI(\n",
    "    adata,\n",
    "    n_layers=2,\n",
    "    n_latent=30,\n",
    "    gene_likelihood=\"nb\",\n",
    ")"
   ]
  },
  {
   "cell_type": "code",
   "execution_count": null,
   "id": "1e6c7126-f983-47c0-87e4-45077eb26f91",
   "metadata": {},
   "outputs": [],
   "source": [
    "# Train SCVI model\n",
    "model.train(\n",
    "    early_stopping=True,\n",
    "    accelerator=\"gpu\",\n",
    "    early_stopping_patience=3, \n",
    "    early_stopping_min_delta=0.001,  \n",
    "    max_epochs=10,\n",
    "    enable_progress_bar=True,\n",
    ")"
   ]
  },
  {
   "cell_type": "code",
   "execution_count": null,
   "id": "b1c9e2f5-1efe-4fd3-86dc-c2fe4d7b0b65",
   "metadata": {},
   "outputs": [],
   "source": [
    "model.save(scvi_dir, prefix=\"01_artis_scvi_\")"
   ]
  },
  {
   "cell_type": "code",
   "execution_count": null,
   "id": "79474468-d411-4788-97fb-656556bc6135",
   "metadata": {},
   "outputs": [],
   "source": [
    "# Visualize training loss\n",
    "plt.plot(model.history[\"elbo_train\"], label=\"Train ELBO Loss\")\n",
    "plt.plot(model.history[\"elbo_validation\"], label=\"Validation ELBO Loss\")\n",
    "plt.xlabel(\"Epoch\")\n",
    "plt.ylabel(\"Loss\")\n",
    "plt.legend()\n",
    "plt.title(\"SCVI Training Loss Curve\")\n",
    "plt.show()"
   ]
  },
  {
   "cell_type": "markdown",
   "id": "e55c242f-4388-45c9-a05f-73e77f6a80a6",
   "metadata": {
    "jp-MarkdownHeadingCollapsed": true
   },
   "source": [
    "Extract latent representation to `adata.obsm`"
   ]
  },
  {
   "cell_type": "code",
   "execution_count": null,
   "id": "870c77bd-17f8-4b0a-9103-0f125a71b532",
   "metadata": {},
   "outputs": [],
   "source": [
    "adata.obsm[\"X_scVI\"] = model.get_latent_representation(adata).astype(np.float32)\n",
    "adata.obsm[\"X_scVI\"].shape"
   ]
  },
  {
   "cell_type": "markdown",
   "id": "a9fe3f16-9ba6-469e-8ff8-263938df9c3a",
   "metadata": {},
   "source": [
    "## Export"
   ]
  },
  {
   "cell_type": "code",
   "execution_count": null,
   "id": "d4d01c5e-4478-4860-8243-31dfe9578381",
   "metadata": {},
   "outputs": [],
   "source": [
    "filename = os.path.join(\n",
    "    output_dir, \"artis-naive-scvi.h5ad\"\n",
    ")\n",
    "\n",
    "os.makedirs(os.path.dirname(filename), exist_ok=True)\n",
    "\n",
    "adata.write_h5ad(filename, compression=\"gzip\")"
   ]
  }
 ],
 "metadata": {
  "kernelspec": {
   "display_name": "Python (sc-charter)",
   "language": "python",
   "name": "sc-charter"
  },
  "language_info": {
   "codemirror_mode": {
    "name": "ipython",
    "version": 3
   },
   "file_extension": ".py",
   "mimetype": "text/x-python",
   "name": "python",
   "nbconvert_exporter": "python",
   "pygments_lexer": "ipython3",
   "version": "3.12.8"
  }
 },
 "nbformat": 4,
 "nbformat_minor": 5
}
