{
 "cells": [
  {
   "cell_type": "markdown",
   "id": "272d09dc-b9bd-46b5-926f-733822b9b0e8",
   "metadata": {},
   "source": [
    "# Spatial zonation\n",
    "\n",
    "**Pinned Environment:** [`envs/sc-charter.yaml`](../../envs/sc-charter.yaml)  "
   ]
  },
  {
   "cell_type": "code",
   "execution_count": null,
   "id": "4f176b37-9b17-4140-810a-fccc25bc7c12",
   "metadata": {},
   "outputs": [],
   "source": [
    "import sys\n",
    "from pathlib import Path\n",
    "import os\n",
    "import squidpy as sq\n",
    "import cellcharter as cc\n",
    "import pandas as pd\n",
    "import scanpy as sc\n",
    "import seaborn as sns\n",
    "import matplotlib.pyplot as plt\n",
    "import session_info"
   ]
  },
  {
   "cell_type": "code",
   "execution_count": null,
   "id": "ce44b6cc-cce6-460d-98b8-48b65a9f2404",
   "metadata": {},
   "outputs": [],
   "source": [
    "plt.rcParams[\"figure.dpi\"] = 150"
   ]
  },
  {
   "cell_type": "code",
   "execution_count": null,
   "id": "66179fe3-9cce-4343-9bad-d02bacf2d8b6",
   "metadata": {},
   "outputs": [],
   "source": [
    "sys.path.append(str(Path.cwd().resolve().parents[1]))\n",
    "\n",
    "from config.paths import BASE_DIR\n",
    "\n",
    "h5ad_dir = BASE_DIR / \"data/h5ad/export_10\"\n",
    "output_dir = BASE_DIR / \"data/h5ad/export_10\"\n",
    "cellcharter_dir = BASE_DIR / \"cellcharter\"\n",
    "\n",
    "input_file = h5ad_dir / \"iec-subset-resolvi-v2.h5ad\"\n",
    "output_file = output_dir / \"iec-subset-resolvi-cc-v2.h5ad\"\n",
    "\n",
    "output_dir.mkdir(parents=True, exist_ok=True)\n",
    "cellcharter_dir.mkdir(parents=True, exist_ok=True)"
   ]
  },
  {
   "cell_type": "code",
   "execution_count": null,
   "id": "a448a4c1-ccee-4072-9e68-6c8f312ce291",
   "metadata": {},
   "outputs": [],
   "source": [
    "adata = sc.read_h5ad(input_file)\n",
    "adata"
   ]
  },
  {
   "cell_type": "code",
   "execution_count": null,
   "id": "b1e46373-0e6f-40f8-84e7-b5238c9e7a6f",
   "metadata": {},
   "outputs": [],
   "source": [
    "adata.X[:5, :5].toarray()"
   ]
  },
  {
   "cell_type": "markdown",
   "id": "1daeb3ed-2834-4538-b44c-cf59e99cfecc",
   "metadata": {},
   "source": [
    "### subset to IECs"
   ]
  },
  {
   "cell_type": "code",
   "execution_count": null,
   "id": "ad20bc8e-2de4-4198-8d50-19ad003e4631",
   "metadata": {},
   "outputs": [],
   "source": [
    "edata = adata[adata.obs[\"Class\"] == \"Epithelial\"].copy()\n",
    "edata"
   ]
  },
  {
   "cell_type": "code",
   "execution_count": null,
   "id": "9ecc6b4e-09f0-4be4-aaa3-7ac84ab3e363",
   "metadata": {},
   "outputs": [],
   "source": [
    "def run_cellcharter(adata, output_dir, n_layers=3):\n",
    "\n",
    "    print(\"starting neighbors and cell charter zone id\")\n",
    "    sq.gr.spatial_neighbors(\n",
    "        adata,\n",
    "        library_key=\"sample_id\",\n",
    "        coord_type=\"generic\",\n",
    "        delaunay=True,\n",
    "        spatial_key=\"spatial\",\n",
    "    )\n",
    "\n",
    "    cc.gr.remove_long_links(adata)\n",
    "\n",
    "    cc.gr.aggregate_neighbors(\n",
    "        adata,\n",
    "        n_layers=n_layers,\n",
    "        use_rep=\"X_scVI\",\n",
    "        out_key=\"X_cellcharter\",\n",
    "        sample_key=\"sample_id\",\n",
    "    )\n",
    "\n",
    "    print(\"starting clustering with fixed k=3\")\n",
    "    model = cc.tl.Cluster(n_clusters=3)\n",
    "    model.fit(adata, use_rep=\"X_cellcharter\")\n",
    "    adata.obs[\"epithelial_cc_3\"] = model.predict(adata, use_rep=\"X_cellcharter\")\n",
    "\n",
    "    adata.write_h5ad(output_file, compression=\"gzip\")\n",
    "\n",
    "    return adata"
   ]
  },
  {
   "cell_type": "code",
   "execution_count": null,
   "id": "ad88c1ff-4a9d-4dd7-b7e4-7e026212121b",
   "metadata": {},
   "outputs": [],
   "source": [
    "edata = run_cellcharter(edata, h5ad_dir)"
   ]
  }
 ],
 "metadata": {
  "kernelspec": {
   "display_name": "Python (sc-charter)",
   "language": "python",
   "name": "sc-charter"
  },
  "language_info": {
   "codemirror_mode": {
    "name": "ipython",
    "version": 3
   },
   "file_extension": ".py",
   "mimetype": "text/x-python",
   "name": "python",
   "nbconvert_exporter": "python",
   "pygments_lexer": "ipython3",
   "version": "3.12.8"
  }
 },
 "nbformat": 4,
 "nbformat_minor": 5
}
